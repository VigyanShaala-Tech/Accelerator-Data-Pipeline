{
 "cells": [
  {
   "cell_type": "code",
   "execution_count": 1,
   "id": "267b1cd3-1824-4f61-9719-10653967b740",
   "metadata": {},
   "outputs": [],
   "source": [
    "# Importing Required modules\n",
    "import pandas as pd\n",
    "import mysql.connector as msql\n",
    "import math\n",
    "import os\n",
    "import datetime\n",
    "import re"
   ]
  },
  {
   "cell_type": "code",
   "execution_count": 2,
   "id": "2170b9cf-8182-4a53-9535-c3fb44a0d33c",
   "metadata": {},
   "outputs": [],
   "source": [
    "# Displaying all columns and rows\n",
    "pd.set_option('display.max_columns',None)\n",
    "pd.set_option('display.max_rows',None)"
   ]
  },
  {
   "cell_type": "code",
   "execution_count": 3,
   "id": "4a961a24-d283-4343-98e4-deb10c6b4e90",
   "metadata": {},
   "outputs": [
    {
     "name": "stdout",
     "output_type": "stream",
     "text": [
      "Data from General Information.xlsx:\n"
     ]
    }
   ],
   "source": [
    "# Specifying the directory path where the Excel files are located\n",
    "directory_path = r\"C:\\Users\\spjay\\OneDrive - VigyanShaala\\02 Products  Initiatives\\01 SheForSTEM\\05 Kalpana M&E\\00 DBMS 1.0\\Kalpana\\Kalpana\\05 Accelerator\\Accelerator 3.0\\data_files\\01 General Info\"\n",
    "\n",
    "\n",
    "# Creating a list of Excel files in the specified directory\n",
    "excel_files = [file for file in os.listdir(directory_path) if file.endswith('.xlsx')]\n",
    "\n",
    "# Looping through each Excel file\n",
    "for file in excel_files:\n",
    "    # Constructing the full file path\n",
    "    file_path = os.path.join(directory_path, file)\n",
    "    \n",
    "    # Reading the Excel file into a DataFrame\n",
    "    gi = pd.read_excel(file_path)\n",
    "    \n",
    "    # Printing the name of the file\n",
    "    print(f\"Data from {file}:\")"
   ]
  },
  {
   "cell_type": "code",
   "execution_count": 4,
   "id": "f81859dc-8441-4f0b-b69a-a2e4e0803716",
   "metadata": {},
   "outputs": [],
   "source": [
    "# Function to clean email addresses\n",
    "def clean_email(email):\n",
    "\n",
    "    # Convert to lowercase and remove extra spaces\n",
    "    cleaned_email = email.lower().strip()\n",
    "    # Remove patterns like \".com.1\"\n",
    "    cleaned_email = re.sub(r'\\.com\\.\\d+', '.com', cleaned_email)\n",
    "    return cleaned_email\n",
    "\n",
    "# Apply the function to the 'email' column\n",
    "gi['Email ID'] = gi['Email ID'].apply(clean_email)"
   ]
  },
  {
   "cell_type": "code",
   "execution_count": 5,
   "id": "a5294ff1-b44b-4f0b-b060-211ea47ab8df",
   "metadata": {},
   "outputs": [
    {
     "name": "stdout",
     "output_type": "stream",
     "text": [
      "Data from Kalpana Accelerator May - Sept 2024 Batch-1731667710527.csv:\n"
     ]
    }
   ],
   "source": [
    "#Reading She for STEM Incubator file present on source files which came form gd-graphy data\n",
    "directory_path =(r\"C:\\Users\\spjay\\OneDrive - VigyanShaala\\02 Products  Initiatives\\01 SheForSTEM\\05 Kalpana M&E\\00 DBMS 1.0\\Kalpana\\Kalpana\\05 Accelerator\\Accelerator 3.0\\data_files\\02 Graphy Data\")\n",
    "csv_files = [file for file in os.listdir(directory_path) if file.endswith('.csv')]\n",
    "\n",
    "for file in csv_files:\n",
    "    file_path = os.path.join(directory_path, file)\n",
    "    gd = pd.read_csv(file_path)\n",
    "    print(f\"Data from {file}:\")"
   ]
  },
  {
   "cell_type": "code",
   "execution_count": null,
   "id": "c8151628-8567-4555-88ed-186df289a03d",
   "metadata": {},
   "outputs": [],
   "source": []
  },
  {
   "cell_type": "code",
   "execution_count": 6,
   "id": "d04f2986-9091-4d41-ae54-0e51c4f11542",
   "metadata": {},
   "outputs": [],
   "source": [
    "# Define a list of column names to extract for putting into database \n",
    "columns_to_extract = ['Name', 'Email', 'Segment', 'Mobile', 'Enroll Date', 'Assigned Through', 'Course Name','Last Login','Start Date']\n",
    "\n",
    "# Use the loc method to extract the specified columns\n",
    "ce = gd.loc[:, columns_to_extract]"
   ]
  },
  {
   "cell_type": "code",
   "execution_count": 8,
   "id": "eb0cc9ed-4f55-4c3f-b14b-6aa8c34dbc97",
   "metadata": {},
   "outputs": [],
   "source": [
    "# Create a new dataframe with 'email' column and columns that start with 'Week' 'Video', 'Recording', and 'Master class'\n",
    "gd = gd[['Email'] + [col for col in gd.columns if col.startswith(('Week','Video', 'SUK', 'Master Class', 'MM'))]]\n"
   ]
  },
  {
   "cell_type": "code",
   "execution_count": 9,
   "id": "e6b04407-d619-4939-b90e-80e2cc389c6e",
   "metadata": {},
   "outputs": [],
   "source": [
    "# Create a datalist with gd dataframe\n",
    "oldcol = list(gd.columns)"
   ]
  },
  {
   "cell_type": "code",
   "execution_count": 10,
   "id": "c6e7520c-7646-4a4b-9f03-485623d8ca21",
   "metadata": {},
   "outputs": [],
   "source": [
    "# Initialize variables to keep track of the current week, video count, recording count, and master class count\n",
    "week_col = None\n",
    "video_count = 0\n",
    "recording_count = 0\n",
    "master_count = 0\n",
    "mm_count = 0\n",
    "\n",
    "# Create an empty list to store the new column names\n",
    "new_cols = []\n",
    "\n",
    "# Iterate over each column in the gd\n",
    "for col in gd.columns:\n",
    "    # If the column starts with 'Week'\n",
    "    if col.startswith('Week'):\n",
    "        # Split the column name by space and get the second element (the week number)\n",
    "        week_col = col.split()[1]\n",
    "        # Reset the video, recording, and master class counts for the new week\n",
    "        video_count = 0\n",
    "        recording_count = 0\n",
    "    # If the column starts with 'Video'\n",
    "    elif col.startswith('Video'):\n",
    "        # Increment the video count for the current week\n",
    "        video_count += 1\n",
    "        # Append a new column name to the list using f-string formatting\n",
    "        new_cols.append(f'WK{week_col}_V{video_count}')\n",
    "    # If the column starts with 'Recording'\n",
    "    elif col.startswith('SUK'):\n",
    "        # Increment the recording count for the current week\n",
    "        recording_count += 1\n",
    "        # Append a new column name to the list using f-string formatting\n",
    "        new_cols.append(f'WK{week_col}_SUK_V')\n",
    "    # If the column starts with 'Master Class'\n",
    "    elif col.startswith('Master Class'):\n",
    "        # Increment the master class count for the current week\n",
    "        master_count += 1\n",
    "        # Append a new column name to the list using f-string formatting\n",
    "        new_cols.append(f'WK{week_col}_Master{master_count}')\n",
    "    elif col.startswith('MM'):\n",
    "        # Increment the MM count for the current week\n",
    "        mm_count += 1\n",
    "        # Append a new column name to the list using f-string formatting\n",
    "        new_cols.append(f'WK{week_col}_MM{mm_count}')\n",
    "    # If the column doesn't start with any of the above prefixes\n",
    "    else:\n",
    "        # Append the original column name to the list\n",
    "        new_cols.append(col)\n",
    "\n",
    "# Remove all columns that start with 'Week' from the gd\n",
    "gd = gd.loc[:, ~gd.columns.str.startswith('Week')]\n",
    "# Assign the new column names to the gd\n",
    "gd.columns = new_cols\n"
   ]
  },
  {
   "cell_type": "code",
   "execution_count": 11,
   "id": "bb0a4684-5592-4adb-a1b8-6108d2068787",
   "metadata": {},
   "outputs": [
    {
     "data": {
      "text/plain": [
       "Index(['Email', 'WKNone_SUK_V', 'WKNone_MM1', 'WK1_Master1', 'WK2_V1',\n",
       "       'WK2_V2', 'WK2_V3', 'WK2_SUK_V', 'WK3_V1', 'WK3_V2', 'WK3_V3', 'WK3_V4',\n",
       "       'WK3_Master2', 'WK4_V1', 'WK4_V2', 'WK4_MM2', 'WK5:_V1', 'WK5:_V2',\n",
       "       'WK5:_V3', 'WK5:_Master3', 'WK6_SUK_V', 'WK7_V1', 'WK7_V2', 'WK7_V3',\n",
       "       'WK7_Master4', 'WK8_V1', 'WK8_V2', 'WK8_V3', 'WK8_V4', 'WK8_SUK_V',\n",
       "       'WK9_V1', 'WK9_V2', 'WK9_Master5', 'WK10_SUK_V'],\n",
       "      dtype='object')"
      ]
     },
     "execution_count": 11,
     "metadata": {},
     "output_type": "execute_result"
    }
   ],
   "source": [
    "# Cheaking columns name\n",
    "gd.columns"
   ]
  },
  {
   "cell_type": "code",
   "execution_count": 12,
   "id": "e3b5cfc6-b805-4bc8-9db0-49b9e25cee1f",
   "metadata": {},
   "outputs": [],
   "source": [
    "# Rename columns starting with 'WKNone' to 'WK0' and removing : if present\n",
    "gd.columns = [\n",
    "    col.replace('WKNone', 'WK0').replace(':', '') if col.startswith('WKNone') or ':' in col else col\n",
    "    for col in gd.columns]"
   ]
  },
  {
   "cell_type": "code",
   "execution_count": 13,
   "id": "b538abf3-ff3a-485f-beb0-53f50c772fc1",
   "metadata": {},
   "outputs": [],
   "source": [
    "# Locating columns for extracting only numbers\n",
    "col1 = gd.iloc[:,1:]"
   ]
  },
  {
   "cell_type": "code",
   "execution_count": 14,
   "id": "5ed04fe1-6702-4c51-b8f2-35aff4b5733c",
   "metadata": {},
   "outputs": [],
   "source": [
    "# Code for extracting only numbers from dataset\n",
    "for column in [i for i in col1.columns if col1[i].dtype == 'object']:\n",
    "    gd[column] = gd[column].astype(str).str.extract('(\\d+)').astype(float)"
   ]
  },
  {
   "cell_type": "code",
   "execution_count": 15,
   "id": "0e42d9d0-1971-41f2-ae68-b95cf157b8bd",
   "metadata": {},
   "outputs": [],
   "source": [
    "# Change all columns to object type\n",
    "#col1 = col1.astype(object)"
   ]
  },
  {
   "cell_type": "markdown",
   "id": "bf4a2bea-affe-455c-bf9f-276cef538a03",
   "metadata": {},
   "source": [
    "# Merging data from Live Session Attendance Sheet"
   ]
  },
  {
   "cell_type": "code",
   "execution_count": 16,
   "id": "cdf6b68f-3c91-4897-9ca6-76e0210efe00",
   "metadata": {},
   "outputs": [],
   "source": [
    "# Reading Excel file form our source\n",
    "df1  = pd.read_excel(r\"C:\\Users\\spjay\\OneDrive - VigyanShaala\\02 Products  Initiatives\\01 SheForSTEM\\05 Kalpana M&E\\00 DBMS 1.0\\Kalpana\\Kalpana\\05 Accelerator\\Accelerator 3.0\\data_files\\03 Live Session Attendance\\Live Session Attendance.xlsx\")"
   ]
  },
  {
   "cell_type": "code",
   "execution_count": 17,
   "id": "67695e16-8876-46cf-b372-1ace0b232704",
   "metadata": {},
   "outputs": [],
   "source": [
    "# Renameing the column name if it is in dataframe\n",
    "if 'Enter the email ID that you use to login to the VigyanShaala app/platform' in df1.columns: df1.rename(columns={'Enter the email ID that you use to login to the VigyanShaala app/platform': 'Email ID'}, inplace=True)"
   ]
  },
  {
   "cell_type": "code",
   "execution_count": 18,
   "id": "5420c7d3-2920-42a6-9e3c-6b1d19eacda7",
   "metadata": {},
   "outputs": [],
   "source": [
    "# Function to clean email addresses\n",
    "\n",
    "def clean_email(email):\n",
    "\n",
    "    # Convert to lowercase and remove extra spaces\n",
    "    cleaned_email = email.lower().strip()\n",
    "    # Remove patterns like \".com.1\"\n",
    "    cleaned_email = re.sub(r'\\.com\\.\\d+', '.com', cleaned_email)\n",
    "    return cleaned_email\n",
    "\n",
    "# Apply the function to the 'email' column\n",
    "df1['Email ID'] = df1['Email ID'].apply(clean_email)"
   ]
  },
  {
   "cell_type": "code",
   "execution_count": 19,
   "id": "2c62bc76-ad16-4a87-a75a-50c46429ce33",
   "metadata": {},
   "outputs": [],
   "source": [
    "df1 = pd.merge(gi, df1, on='Email ID', how='outer')"
   ]
  },
  {
   "cell_type": "code",
   "execution_count": 20,
   "id": "f882a8fc-93ff-4fd7-b0c0-7639af55245d",
   "metadata": {},
   "outputs": [],
   "source": [
    "# Get the columns to keep\n",
    "columns_to_keep = [col for col in df1.columns if col.startswith(\"Email ID\") or col.startswith(\"Start time\")]\n",
    "\n",
    "# Drop the columns not in columns_to_keep\n",
    "df1.drop(columns=[col for col in df1.columns if col not in columns_to_keep], inplace=True)\n"
   ]
  },
  {
   "cell_type": "code",
   "execution_count": 21,
   "id": "1d420606-c231-41bc-9cbf-f2414a761bc9",
   "metadata": {},
   "outputs": [],
   "source": [
    "# Remove rows where 'Start time' is null\n",
    "df1 = df1.dropna(subset=['Start time'])"
   ]
  },
  {
   "cell_type": "code",
   "execution_count": 22,
   "id": "8ee33272-f7bc-4897-84fb-9b15d7061ea3",
   "metadata": {},
   "outputs": [],
   "source": [
    "if 'Start time' in df1.columns: df1.rename(columns={'Start time': 'Timestamp'}, inplace=True)"
   ]
  },
  {
   "cell_type": "code",
   "execution_count": null,
   "id": "63f5d5b1-f3da-45f2-bf4c-935b6ba5b05a",
   "metadata": {},
   "outputs": [],
   "source": [
    "# URL of the Google Sheets document\n",
    "\n",
    "url = ''\n",
    "# The URL needs to be modified to point to the export format\n",
    "\n",
    "url = url.replace('/edit?usp=sharing', '/export?format=xlsx')\n",
    "\n",
    "# Read the data from the URL into a pandas DataFrame\n",
    "\n",
    "df2 = pd.read_excel(url)\n"
   ]
  },
  {
   "cell_type": "code",
   "execution_count": 24,
   "id": "2c58d80b-9886-4698-94b1-0c4af21f6e70",
   "metadata": {},
   "outputs": [],
   "source": [
    "# Get the columns to keep\n",
    "columns_to_keep = [col for col in df2.columns if col.startswith(\"Timestamp\") or col.startswith(\"Select your ID & Name\") ]\n",
    "\n",
    "# Drop the columns not in columns_to_keep\n",
    "df2.drop(columns=[col for col in df2.columns if col not in columns_to_keep], inplace=True)\n"
   ]
  },
  {
   "cell_type": "code",
   "execution_count": 26,
   "id": "0735c12d-3a7d-4507-9696-674bfccb6edf",
   "metadata": {},
   "outputs": [],
   "source": [
    "# Convert the column to string, handling NaNs by converting them to empty strings or some other placeholder\n",
    "df2['Select your ID & Name'] = df2['Select your ID & Name'].astype(str)"
   ]
  },
  {
   "cell_type": "code",
   "execution_count": 27,
   "id": "a6434d9c-a977-4444-bc8a-5105ab058bda",
   "metadata": {},
   "outputs": [],
   "source": [
    "# Extract the required part\n",
    "df2['Mentee ID'] = df2['Select your ID & Name'].apply(lambda x: x.split('_')[0] + '_' + x.split('_')[1])\n",
    "\n",
    "\n"
   ]
  },
  {
   "cell_type": "code",
   "execution_count": 28,
   "id": "ee5c4865-56a9-4438-8db1-d0510ad88214",
   "metadata": {},
   "outputs": [],
   "source": [
    "# Outer merge of two dataframe to make it one\n",
    "df2 = pd.merge(gi, df2, on='Mentee ID', how='outer')"
   ]
  },
  {
   "cell_type": "code",
   "execution_count": 29,
   "id": "735994b3-83cc-4a54-a1b3-a9222ba6ad8f",
   "metadata": {},
   "outputs": [],
   "source": [
    "# Get the columns to keep\n",
    "columns_to_keep = [col for col in df2.columns if col.startswith(\"Email ID\") or col.startswith(\"Timestamp\") ]\n",
    "\n",
    "# Drop the columns not in columns_to_keep\n",
    "df2.drop(columns=[col for col in df2.columns if col not in columns_to_keep], inplace=True)\n"
   ]
  },
  {
   "cell_type": "code",
   "execution_count": 30,
   "id": "7ddc2c2d-f22f-4548-8a1f-0166d1acbedf",
   "metadata": {},
   "outputs": [],
   "source": [
    "# Concating two dataframe to make it one\n",
    "la = pd.concat([df1, df2], ignore_index=True)"
   ]
  },
  {
   "cell_type": "code",
   "execution_count": 31,
   "id": "1344b3fe-4660-4277-a247-68efcc148a3a",
   "metadata": {},
   "outputs": [
    {
     "data": {
      "text/plain": [
       "(780, 2)"
      ]
     },
     "execution_count": 31,
     "metadata": {},
     "output_type": "execute_result"
    }
   ],
   "source": [
    "# Checking shape of dataframe\n",
    "la.shape"
   ]
  },
  {
   "cell_type": "code",
   "execution_count": 32,
   "id": "054d7c5e-0fdd-4f65-b3ef-ea0f9c5a4c3a",
   "metadata": {},
   "outputs": [],
   "source": [
    "# Remove rows where 'Start time' is null\n",
    "la = la.dropna(subset=['Timestamp'])"
   ]
  },
  {
   "cell_type": "code",
   "execution_count": 33,
   "id": "562818d0-e9c5-416e-b019-a152956233af",
   "metadata": {},
   "outputs": [],
   "source": [
    "# Remove rows where 'Email ID' is null\n",
    "la = la.dropna(subset=['Email ID'])"
   ]
  },
  {
   "cell_type": "code",
   "execution_count": 34,
   "id": "5bc4e175-079e-449a-bbe0-06add208b34a",
   "metadata": {},
   "outputs": [],
   "source": [
    "# Convert Timestamp column to datetime\n",
    "la['Timestamp'] = pd.to_datetime(la['Timestamp'])\n",
    "\n",
    "# Create a new column 'dates' with the desired format\n",
    "la['Date'] = la['Timestamp'].dt.strftime('%Y-%m-%d')"
   ]
  },
  {
   "cell_type": "code",
   "execution_count": 35,
   "id": "e6c082de-6a3b-4a05-a2af-2557ebcf447d",
   "metadata": {},
   "outputs": [],
   "source": [
    "# Drop the Timestamp column\n",
    "la = la.drop(columns=['Timestamp'])"
   ]
  },
  {
   "cell_type": "markdown",
   "id": "e38c621c-5ca9-4117-be4e-56156ba95df5",
   "metadata": {},
   "source": [
    "###  👇 The date and the Name of session should be same so it will get merge 👇"
   ]
  },
  {
   "cell_type": "code",
   "execution_count": 36,
   "id": "07b54cb0-3484-455b-8010-19c0e9cb80c2",
   "metadata": {},
   "outputs": [],
   "source": [
    "# Reading Excel file form our source\n",
    "ld  = pd.read_excel(r\"C:\\Users\\spjay\\OneDrive - VigyanShaala\\02 Products  Initiatives\\01 SheForSTEM\\05 Kalpana M&E\\00 DBMS 1.0\\Kalpana\\Kalpana\\05 Accelerator\\Accelerator 3.0\\data_files\\03 Live Session Attendance\\Live Session Dates.xlsx\")"
   ]
  },
  {
   "cell_type": "code",
   "execution_count": 37,
   "id": "d99c7c41-8372-441b-9204-cd473d324a7b",
   "metadata": {},
   "outputs": [],
   "source": [
    "# Convert 'Date' column to datetime format\n",
    "la['Date'] = pd.to_datetime(la['Date'])\n",
    "ld['Date'] = pd.to_datetime(ld['Date'])\n",
    "\n",
    "# Merge dataframes on 'Date'\n",
    "md = pd.merge(la, ld, on='Date', how='outer')\n"
   ]
  },
  {
   "cell_type": "code",
   "execution_count": 38,
   "id": "a21b7e11-f51b-4838-b874-73ed98c89073",
   "metadata": {},
   "outputs": [],
   "source": [
    "# Remove the 'name' column\n",
    "md = md.drop(columns=['Date'])\n",
    "\n",
    "# Add a new column 'duration' with all values set to 3600\n",
    "md['Duration'] = 3600"
   ]
  },
  {
   "cell_type": "code",
   "execution_count": 39,
   "id": "babd7d83-bd0c-48a2-b1db-bcda4068f9f9",
   "metadata": {},
   "outputs": [],
   "source": [
    "# Create a pivot table for Session\n",
    "md_pivot = md.pivot_table(index='Email ID', columns='Sessions')"
   ]
  },
  {
   "cell_type": "code",
   "execution_count": 40,
   "id": "cb7449b5-04ab-4160-8450-4cd4e63d3631",
   "metadata": {},
   "outputs": [],
   "source": [
    "# Creating new column names by combining the first and second elements\n",
    "md_pivot.columns = [f'{col[0]} - {col[1]}' for col in md_pivot.columns]\n"
   ]
  },
  {
   "cell_type": "code",
   "execution_count": 41,
   "id": "967910c6-e4ea-478a-a6c4-da48860fe22e",
   "metadata": {},
   "outputs": [],
   "source": [
    "# Reseting the dataframe\n",
    "md_pivot.reset_index(inplace=True)"
   ]
  },
  {
   "cell_type": "code",
   "execution_count": 42,
   "id": "7e242b8b-70fd-4c79-9535-689dd4138512",
   "metadata": {},
   "outputs": [],
   "source": [
    "# Renaming columns of dataframe\n",
    "md_pivot.columns = md_pivot.columns.str.replace(r'Duration - ', '')\n"
   ]
  },
  {
   "cell_type": "code",
   "execution_count": 43,
   "id": "bc06d2a3-5d03-4d7c-8cbb-522fc6ef5920",
   "metadata": {},
   "outputs": [],
   "source": [
    "# Reaname the dataframe if we find that column name\n",
    "if 'Email ID' in md_pivot.columns: md_pivot.rename(columns={'Email ID': 'Email'}, inplace=True)"
   ]
  },
  {
   "cell_type": "code",
   "execution_count": 45,
   "id": "d61a0470-12c1-4692-b8b8-d418966f7f3f",
   "metadata": {},
   "outputs": [],
   "source": [
    "# Merge dataframes on 'Email' column\n",
    "merged_df = pd.merge(gd, md_pivot, on='Email', how='outer', suffixes=('_df', '_da'))\n",
    "\n",
    "# List of columns to sum\n",
    "columns_to_sum = [col for col in md_pivot.columns if col != 'Email']\n",
    "\n",
    "# Sum the matching columns\n",
    "for col in columns_to_sum:\n",
    "    merged_df[col] = merged_df[f'{col}_df'].fillna(0) + merged_df[f'{col}_da'].fillna(0)\n",
    "\n",
    "# Drop the intermediate columns\n",
    "merged_df.drop(columns=[f'{col}_df' for col in columns_to_sum] + [f'{col}_da' for col in columns_to_sum], inplace=True)\n",
    "\n"
   ]
  },
  {
   "cell_type": "code",
   "execution_count": 46,
   "id": "02513a5d-922c-4450-9dec-2545c9f991ca",
   "metadata": {},
   "outputs": [
    {
     "name": "stdout",
     "output_type": "stream",
     "text": [
      "                   Email  WK0_SUK_V  WK0_MM1  WK1_Master1  WK2_V1  WK2_V2  \\\n",
      "59  ksharry799@gmail.com        NaN    152.0          NaN     NaN     NaN   \n",
      "\n",
      "    WK2_V3  WK2_SUK_V  WK3_V1  WK3_V2  WK3_V3  WK3_V4  WK3_Master2  WK4_V1  \\\n",
      "59     NaN        NaN     NaN     NaN     NaN     NaN          NaN     NaN   \n",
      "\n",
      "    WK4_V2  WK4_MM2  WK5_V1  WK5_V2  WK5_V3  WK5_Master3  WK6_SUK_V  WK7_V1  \\\n",
      "59     NaN      NaN     NaN     NaN     NaN          NaN        NaN     NaN   \n",
      "\n",
      "    WK7_V2  WK7_V3  WK7_Master4  WK8_V1  WK8_V2  WK8_V3  WK8_V4  WK8_SUK_V  \\\n",
      "59     NaN     NaN          NaN     NaN     NaN     NaN     NaN        NaN   \n",
      "\n",
      "    WK9_V1  WK9_V2  WK9_Master5  WK10_SUK_V  \n",
      "59     NaN     NaN          NaN         NaN  \n"
     ]
    }
   ],
   "source": [
    "# Checking the rows of gd dataframe\n",
    "filtered_df = gd[gd['Email'] == 'ksharry799@gmail.com']\n",
    "print(filtered_df.head())\n"
   ]
  },
  {
   "cell_type": "code",
   "execution_count": 47,
   "id": "89892a68-7660-439a-a56f-274686791ab5",
   "metadata": {},
   "outputs": [
    {
     "name": "stdout",
     "output_type": "stream",
     "text": [
      "                   Email  WK0_MM1  WK2_V1  WK2_V2  WK2_V3  WK3_V1  WK3_V2  \\\n",
      "59  ksharry799@gmail.com    152.0     NaN     NaN     NaN     NaN     NaN   \n",
      "\n",
      "    WK3_V3  WK3_V4  WK4_V1  WK4_V2  WK5_V1  WK5_V2  WK5_V3  WK7_V1  WK7_V2  \\\n",
      "59     NaN     NaN     NaN     NaN     NaN     NaN     NaN     NaN     NaN   \n",
      "\n",
      "    WK7_V3  WK8_V1  WK8_V2  WK8_V3  WK8_V4  WK9_V1  WK9_V2  WK0_SUK_V  \\\n",
      "59     NaN     NaN     NaN     NaN     NaN     NaN     NaN     3600.0   \n",
      "\n",
      "    WK10_SUK_V  WK1_Master1  WK2_SUK_V  WK3_Master2  WK4_MM2  WK5_Master3  \\\n",
      "59         0.0          0.0        0.0          0.0      0.0          0.0   \n",
      "\n",
      "    WK6_SUK_V  WK7_Master4  WK8_SUK_V  WK9_Master5  \n",
      "59        0.0          0.0        0.0          0.0  \n"
     ]
    }
   ],
   "source": [
    "# checking if the merge is happend or not\n",
    "filtered_df_1 = merged_df[merged_df['Email'] == 'ksharry799@gmail.com']\n",
    "print(filtered_df_1.head())\n"
   ]
  },
  {
   "cell_type": "code",
   "execution_count": 48,
   "id": "17037314-1690-4bcb-b296-eb2ef981ea6b",
   "metadata": {},
   "outputs": [],
   "source": [
    "# Ensure that merged_df contains all columns from gd\n",
    "missing_cols = [col for col in gd.columns if col not in merged_df.columns]\n",
    "for col in missing_cols:\n",
    "    merged_df[col] = pd.NA\n",
    "\n",
    "# Reorder the columns of merged_df to match the order of gd.columns\n",
    "merged_df = merged_df[gd.columns]"
   ]
  },
  {
   "cell_type": "code",
   "execution_count": 49,
   "id": "df61a68a-a941-4e3e-a321-9e3d47425bcd",
   "metadata": {},
   "outputs": [
    {
     "data": {
      "text/plain": [
       "Index(['Email', 'WK0_SUK_V', 'WK0_MM1', 'WK1_Master1', 'WK2_V1', 'WK2_V2',\n",
       "       'WK2_V3', 'WK2_SUK_V', 'WK3_V1', 'WK3_V2', 'WK3_V3', 'WK3_V4',\n",
       "       'WK3_Master2', 'WK4_V1', 'WK4_V2', 'WK4_MM2', 'WK5_V1', 'WK5_V2',\n",
       "       'WK5_V3', 'WK5_Master3', 'WK6_SUK_V', 'WK7_V1', 'WK7_V2', 'WK7_V3',\n",
       "       'WK7_Master4', 'WK8_V1', 'WK8_V2', 'WK8_V3', 'WK8_V4', 'WK8_SUK_V',\n",
       "       'WK9_V1', 'WK9_V2', 'WK9_Master5', 'WK10_SUK_V'],\n",
       "      dtype='object')"
      ]
     },
     "execution_count": 49,
     "metadata": {},
     "output_type": "execute_result"
    }
   ],
   "source": [
    "# Checking the columns name\n",
    "merged_df.columns"
   ]
  },
  {
   "cell_type": "markdown",
   "id": "02e5725c-4c2b-4cfa-83df-782751949af9",
   "metadata": {},
   "source": [
    "# Payment details MySQL table"
   ]
  },
  {
   "cell_type": "code",
   "execution_count": 50,
   "id": "028d31d9-1566-467c-b973-25bf3e23e81c",
   "metadata": {},
   "outputs": [],
   "source": [
    "# Creating new table which for Payment which is taken from incubator graphy sheet\n",
    "Payment=pd.DataFrame(ce[[\"Email\",\"Assigned Through\"]])"
   ]
  },
  {
   "cell_type": "code",
   "execution_count": 51,
   "id": "568ae697-5ab4-48b3-9023-8fd09dad74c9",
   "metadata": {},
   "outputs": [],
   "source": [
    "# Changing column name to name present in database\n",
    "Payment = Payment.rename(columns={'Assigned Through': 'Accelerator_Fee'})"
   ]
  },
  {
   "cell_type": "code",
   "execution_count": 52,
   "id": "eb137bea-d40d-4e3d-b1a0-2fcea9c9c179",
   "metadata": {},
   "outputs": [],
   "source": [
    "# Assigning fee cost to different cathegory of enrollment\n",
    "Payment[\"Accelerator_Fee\"]=Payment[\"Accelerator_Fee\"].replace(['Admin'],'0')\n",
    "Payment[\"Accelerator_Fee\"]=Payment[\"Accelerator_Fee\"].replace(['Excel Upload'],'0')\n",
    "Payment[\"Accelerator_Fee\"]=Payment[\"Accelerator_Fee\"].replace(['Paid Transaction '],'1899')"
   ]
  },
  {
   "cell_type": "code",
   "execution_count": null,
   "id": "7397bdf2-102a-4fe2-ba2f-36383c74786f",
   "metadata": {},
   "outputs": [],
   "source": [
    "# Connecting to MySQL Database\n",
    "conn= msql.connect(host='',user='',password=\"\",database=\"\",auth_plugin='')\n",
    "cursor =conn.cursor()"
   ]
  },
  {
   "cell_type": "code",
   "execution_count": 54,
   "id": "2439b380-e86f-4883-b229-fde159e01359",
   "metadata": {},
   "outputs": [],
   "source": [
    "# Inserting data into 02_payment_details\n",
    "for i, row in Payment.iterrows():\n",
    "    cursor.execute(\n",
    "        \"INSERT IGNORE INTO 02_payment_details (Email, Accelerator_Fee) VALUES (%s, %s)\",\n",
    "        (row['Email'], row['Accelerator_Fee'])\n",
    "    )"
   ]
  },
  {
   "cell_type": "code",
   "execution_count": 55,
   "id": "719f45ed-ca70-4d4a-9748-2efff9faabf6",
   "metadata": {},
   "outputs": [],
   "source": [
    "# Replacing data with new data into 02_payment_details\n",
    "for i, row in Payment.iterrows():\n",
    "    cursor.execute(\n",
    "        \"REPLACE INTO 02_payment_details (Email, Accelerator_Fee) VALUES (%s, %s)\",\n",
    "        (row['Email'], row['Accelerator_Fee'])\n",
    "    )"
   ]
  },
  {
   "cell_type": "code",
   "execution_count": 56,
   "id": "9fed1c12-1f01-4553-a004-6392bdf1d934",
   "metadata": {},
   "outputs": [],
   "source": [
    "conn.commit()"
   ]
  },
  {
   "cell_type": "markdown",
   "id": "7f5d9529-0ca2-4610-a105-85df2b16a2eb",
   "metadata": {},
   "source": [
    "# Enroll Date MySQL Table"
   ]
  },
  {
   "cell_type": "code",
   "execution_count": 57,
   "id": "2f627fdf-12e6-4b56-8f5a-28be41199751",
   "metadata": {},
   "outputs": [],
   "source": [
    "# Creating new table which for Enroll_Dates which is taken from incubator graphy sheet\n",
    "Enroll=pd.DataFrame(ce[[\"Email\", 'Enroll Date']])"
   ]
  },
  {
   "cell_type": "code",
   "execution_count": 58,
   "id": "17d7ebe4-ddff-4e12-a24b-9ef78ec0e97a",
   "metadata": {},
   "outputs": [],
   "source": [
    "# Extracting only Enroll_Date\n",
    "Enroll[['Enroll Date','Time']]=Enroll['Enroll Date'].str.split(' ',expand=True)\n",
    "Enroll=Enroll.drop([\"Time\"],axis=1)"
   ]
  },
  {
   "cell_type": "code",
   "execution_count": 59,
   "id": "30554382-50cb-49b5-b2ef-a295d9f72568",
   "metadata": {},
   "outputs": [],
   "source": [
    "# Changing column name to name present in database\n",
    "Enroll = Enroll.rename(columns={'Enroll Date': 'Accelerator'})"
   ]
  },
  {
   "cell_type": "code",
   "execution_count": null,
   "id": "49b185d8-e7d4-41ca-8c2e-e519c7d3aec2",
   "metadata": {},
   "outputs": [],
   "source": [
    "# Connecting to MySQL Database\n",
    "conn= msql.connect(host='',user='',password=\"\",database=\"\",auth_plugin='')\n",
    "cursor =conn.cursor()"
   ]
  },
  {
   "cell_type": "code",
   "execution_count": 61,
   "id": "b04fc212-acce-49c0-930a-6b58d17b9502",
   "metadata": {},
   "outputs": [
    {
     "name": "stdout",
     "output_type": "stream",
     "text": [
      "Index(['Email', 'Accelerator'], dtype='object')\n"
     ]
    }
   ],
   "source": [
    "print(Enroll.columns)"
   ]
  },
  {
   "cell_type": "code",
   "execution_count": 62,
   "id": "8cbf4db8-a632-4441-b670-c38734a42a48",
   "metadata": {},
   "outputs": [],
   "source": [
    "# Inserting data into 03_enroll_date\n",
    "for i, row in Enroll.iterrows():\n",
    "    cursor.execute(\n",
    "        \"INSERT IGNORE INTO 03_enroll_date (Email, Accelerator) VALUES (%s, %s)\",\n",
    "        (row['Email'], row['Accelerator'])\n",
    "    )"
   ]
  },
  {
   "cell_type": "code",
   "execution_count": 63,
   "id": "3218775a-8c61-4424-bf8b-338a971736c6",
   "metadata": {},
   "outputs": [],
   "source": [
    "# Replacing data with new data into 03_enroll_date\n",
    "for i, row in Enroll.iterrows():\n",
    "    cursor.execute(\n",
    "        \"REPLACE INTO 03_enroll_date (Email, Accelerator) VALUES (%s, %s)\",\n",
    "        (row['Email'], row['Accelerator'])\n",
    "    )"
   ]
  },
  {
   "cell_type": "code",
   "execution_count": 64,
   "id": "7f48a692-f4ec-4d4e-b157-c12deb020529",
   "metadata": {},
   "outputs": [],
   "source": [
    "conn.commit()"
   ]
  },
  {
   "cell_type": "markdown",
   "id": "51520406-8e37-494a-8d8b-208c0baafce3",
   "metadata": {},
   "source": [
    "# Batch Lastlogin Startdate MySQL Table"
   ]
  },
  {
   "cell_type": "code",
   "execution_count": 65,
   "id": "b33ff30e-ff1a-476c-81b5-e368523e0b2b",
   "metadata": {},
   "outputs": [],
   "source": [
    "# Creating new table which for Batch which is taken from incubator graphy sheet\n",
    "Batch=pd.DataFrame(ce[[\"Email\", 'Last Login','Start Date']])"
   ]
  },
  {
   "cell_type": "code",
   "execution_count": 66,
   "id": "3dbb07b9-09dd-4a03-8c38-00c72a1ff537",
   "metadata": {},
   "outputs": [],
   "source": [
    "# Extracting only Enroll_Date\n",
    "Batch[['Last Login','Time']]=Batch['Last Login'].str.split(' ',expand=True)\n",
    "Batch=Batch.drop([\"Time\"],axis=1)"
   ]
  },
  {
   "cell_type": "code",
   "execution_count": 67,
   "id": "9ac51642-41c1-42d5-b71b-d4b15bc8188b",
   "metadata": {},
   "outputs": [],
   "source": [
    "# Function to convert 'Start Date' format\n",
    "def convert_start_date(date_str):\n",
    "    if re.match(r'\\d{4}/\\d{2}/\\d{2}', date_str):\n",
    "        return pd.to_datetime(date_str, format='%Y/%m/%d').strftime('%d-%m-%Y')\n",
    "    return date_str\n",
    "\n",
    "# Function to convert 'Last Login' format\n",
    "def convert_last_login(date_str):\n",
    "    if re.match(r'\\d{2}/\\d{2}/\\d{2}', date_str):\n",
    "        return pd.to_datetime(date_str, format='%d/%m/%y').strftime('%d-%m-%Y')\n",
    "    return date_str\n",
    "\n",
    "\n",
    "# Apply the conversion functions to the respective columns\n",
    "Batch['Start Date'] = Batch['Start Date'].apply(convert_start_date)\n",
    "Batch['Last Login'] = Batch['Last Login'].apply(convert_last_login)"
   ]
  },
  {
   "cell_type": "code",
   "execution_count": 68,
   "id": "e9e6d178-bd27-4e59-8316-bfd9dfa01620",
   "metadata": {},
   "outputs": [],
   "source": [
    "Batch = Batch.rename(columns={'Start Date': 'Accelerator_Start_Date'})\n",
    "Batch = Batch.rename(columns={'Last Login': 'Accelerator_Last_Login'})\n"
   ]
  },
  {
   "cell_type": "code",
   "execution_count": null,
   "id": "65432881-5316-483f-861e-9a0d0192881b",
   "metadata": {},
   "outputs": [],
   "source": [
    "# Connecting to MySQL Database\n",
    "conn= msql.connect(host='',user='',password=\"\",database=\"\",auth_plugin='')\n",
    "cursor =conn.cursor()"
   ]
  },
  {
   "cell_type": "code",
   "execution_count": 70,
   "id": "59f7fd8d-90fa-4641-a87f-cb056fd31388",
   "metadata": {},
   "outputs": [],
   "source": [
    "# Your existing code for inserting data into the database table\n",
    "for i, row in Batch.iterrows():\n",
    "    row = [None if isinstance(val, float) and math.isnan(val) else val for val in row] # replace \"nan\" values with None\n",
    "    columns = ','.join(Batch.columns)\n",
    "    placeholders = ','.join(['%s']*len(row))\n",
    "    # Construct the INSERT query with ON DUPLICATE KEY UPDATE clause\n",
    "    query = f\"INSERT INTO 15_batch_lastlogin_startdate ({columns}) VALUES ({placeholders}) ON DUPLICATE KEY UPDATE \"\n",
    "    query += \", \".join([f\"{col}=VALUES({col})\" for col in Batch.columns if col != 'Email'])\n",
    "    # Execute the query\n",
    "    cursor.execute(query, tuple(row))"
   ]
  },
  {
   "cell_type": "code",
   "execution_count": 71,
   "id": "66776158-3ab7-48e5-9ab0-d4282c5592bd",
   "metadata": {},
   "outputs": [],
   "source": [
    "conn.commit()"
   ]
  },
  {
   "cell_type": "markdown",
   "id": "100e30e4-9ee2-4b54-8767-4789f3e5bd00",
   "metadata": {},
   "source": [
    "# Changing seconds to Percentage"
   ]
  },
  {
   "cell_type": "code",
   "execution_count": 72,
   "id": "6ee95e8b-9ccb-4a4d-8db9-bf4d642a4f88",
   "metadata": {},
   "outputs": [],
   "source": [
    "# Saving previous column name \n",
    "newcol = list(merged_df.columns)\n"
   ]
  },
  {
   "cell_type": "code",
   "execution_count": 73,
   "id": "949a4761-92f7-44b7-8b22-aa9c1ae134d3",
   "metadata": {},
   "outputs": [],
   "source": [
    "# Saving previous column name for data1 by removing \"Email column\"\n",
    "merged_df_columns = list(merged_df.columns)\n",
    "\n",
    "# Exclude the 'email' column if it exists\n",
    "if 'Email' in merged_df_columns:\n",
    "    merged_df_columns.remove('Email')\n",
    "\n",
    "merged_df1col = merged_df_columns\n",
    "\n",
    "\n"
   ]
  },
  {
   "cell_type": "code",
   "execution_count": 74,
   "id": "931ba42b-521e-4127-93cd-bdd209697aea",
   "metadata": {},
   "outputs": [],
   "source": [
    "# Remove columns starting with \"Week\" from the list of old columns\n",
    "oldcol = [col for col in oldcol if not col.startswith(\"Week\")]\n",
    "\n",
    "# Determine the number of columns to rename (minimum of available columns)\n",
    "num_columns_to_rename = min(len(merged_df.columns), len(oldcol))\n",
    "\n",
    "# Rename columns using a dictionary mapping\n",
    "merged_df.rename(columns=dict(zip(merged_df.columns[:num_columns_to_rename], oldcol[:num_columns_to_rename])), inplace=True)\n",
    "\n",
    "# Remove any additional information after the colon in column names\n",
    "merged_df.columns = merged_df.columns.str.split(':').str[0]\n",
    "\n",
    "# Remove leading and trailing spaces from column names\n",
    "merged_df.columns = merged_df.columns.str.strip()\n"
   ]
  },
  {
   "cell_type": "raw",
   "id": "fbe01248-b52a-40ab-a961-3a6ae8310d02",
   "metadata": {},
   "source": [
    "oldcol = [col for col in oldcol if not col.startswith(\"Week\")]\n",
    "num_columns_to_rename = min(len(merged_df.columns), len(oldcol))\n",
    "merged_df.rename(columns=dict(zip(merged_df.columns[:num_columns_to_rename], oldcol[:num_columns_to_rename])), inplace=True)\n",
    "merged_df.columns = merged_df.columns.str.split (':').str [0]\n",
    "merged_df.columns = merged_df.columns.str.strip()\n"
   ]
  },
  {
   "cell_type": "code",
   "execution_count": 75,
   "id": "8461a906-6241-4249-84d3-abf0adeaa8a3",
   "metadata": {},
   "outputs": [],
   "source": [
    "def rename_column(col):\n",
    "    # Split the column name by space\n",
    "    parts = col.split()\n",
    "    special_chars = {'!': '1', '@': '2', '#': '3', '$': '4', '%': '5', '^': '6', '&': '7', '*': '8', '?': '9', '+': '0'}\n",
    "    \n",
    "    # If the first part is 'SUK', add the number corresponding to the last character\n",
    "    if parts[0] == 'SUK':\n",
    "        return parts[0] + special_chars.get(parts[1][-1], '0')\n",
    "    \n",
    "    # If the first part is 'Video', use the prefix 'VID' and the numbers corresponding to the last two characters\n",
    "    elif parts[0] == 'Video':\n",
    "        last_char = parts[1][-1]\n",
    "        second_last_char = parts[1][-2] if len(parts[1]) > 1 else '+'\n",
    "        return 'VID' + special_chars.get(second_last_char, '0') + special_chars.get(last_char, '0')\n",
    "\n",
    "    # If the first part is 'MM', use the prefix 'MM' and the numbers corresponding to the last two characters\n",
    "    elif parts[0] == 'MM':\n",
    "        last_char = parts[1][-1]\n",
    "        second_last_char = parts[1][-2] if len(parts[1]) > 1 else '+'\n",
    "        return 'MM' + special_chars.get(second_last_char, '0') + special_chars.get(last_char, '0')\n",
    "    \n",
    "    # If the first part contains 'Master' and 'Class' is present, use the prefix 'MC' and the numbers corresponding to the last two characters\n",
    "    elif 'Master' in parts and 'Class' in parts:\n",
    "        index = parts.index('Master')\n",
    "        last_char = parts[index + 2][-1]\n",
    "        second_last_char = parts[index + 2][-2] if len(parts[index + 2]) > 1 else '+'\n",
    "        return 'MC' + special_chars.get(second_last_char, '0') + special_chars.get(last_char, '0')\n",
    "    \n",
    "    # Otherwise, return the column name as it is\n",
    "    else:\n",
    "        return col\n"
   ]
  },
  {
   "cell_type": "code",
   "execution_count": 76,
   "id": "8429f0bd-9151-4a4e-9ef4-4737faf50c22",
   "metadata": {},
   "outputs": [],
   "source": [
    "# Rename the column names using the rename_column function\n",
    "merged_df.rename(columns=rename_column, inplace=True)"
   ]
  },
  {
   "cell_type": "code",
   "execution_count": null,
   "id": "ec340e9c-d145-4b6a-bf17-ba25350633e5",
   "metadata": {},
   "outputs": [],
   "source": []
  },
  {
   "cell_type": "code",
   "execution_count": 77,
   "id": "892a0cac-fb36-44e8-a472-8c808ffff8dc",
   "metadata": {},
   "outputs": [
    {
     "data": {
      "text/plain": [
       "Index(['Email', 'SUK1', 'MM01', 'MC15', 'VID38', 'VID39', 'VID40', 'SUK2',\n",
       "       'VID41', 'VID42', 'VID43', 'VID44', 'MC12', 'VID45', 'VID46', 'MM02',\n",
       "       'VID47', 'VID48', 'VID21', 'MC13', 'SUK3', 'VID29', 'VID31', 'VID30',\n",
       "       'MC11', 'VID32', 'VID34', 'VID35', 'VID33', 'SUK4', 'VID36', 'VID37',\n",
       "       'MC14', 'SUK5'],\n",
       "      dtype='object')"
      ]
     },
     "execution_count": 77,
     "metadata": {},
     "output_type": "execute_result"
    }
   ],
   "source": [
    "merged_df.columns"
   ]
  },
  {
   "cell_type": "code",
   "execution_count": 78,
   "id": "8c7b1233-17d5-4cac-9d7f-4b1156b5ecc6",
   "metadata": {},
   "outputs": [
    {
     "data": {
      "text/plain": [
       "Index(['Email', 'WK0_SUK_V', 'WK0_MM1', 'WK1_Master1', 'WK2_V1', 'WK2_V2',\n",
       "       'WK2_V3', 'WK2_SUK_V', 'WK3_V1', 'WK3_V2', 'WK3_V3', 'WK3_V4',\n",
       "       'WK3_Master2', 'WK4_V1', 'WK4_V2', 'WK4_MM2', 'WK5_V1', 'WK5_V2',\n",
       "       'WK5_V3', 'WK5_Master3', 'WK6_SUK_V', 'WK7_V1', 'WK7_V2', 'WK7_V3',\n",
       "       'WK7_Master4', 'WK8_V1', 'WK8_V2', 'WK8_V3', 'WK8_V4', 'WK8_SUK_V',\n",
       "       'WK9_V1', 'WK9_V2', 'WK9_Master5', 'WK10_SUK_V'],\n",
       "      dtype='object')"
      ]
     },
     "execution_count": 78,
     "metadata": {},
     "output_type": "execute_result"
    }
   ],
   "source": [
    "gd.columns"
   ]
  },
  {
   "cell_type": "code",
   "execution_count": 79,
   "id": "b41b61a5-ae84-4c42-b398-7508b98dbf2c",
   "metadata": {},
   "outputs": [],
   "source": [
    "# Reading Excel file form our source\n",
    "excel_file  = pd.read_excel(r\"C:\\Users\\spjay\\OneDrive - VigyanShaala\\02 Products  Initiatives\\01 SheForSTEM\\05 Kalpana M&E\\00 DBMS 1.0\\Kalpana\\Kalpana\\01 Data Format\\01 Video Details\\Timestamp_of_Videos.xlsx\")"
   ]
  },
  {
   "cell_type": "code",
   "execution_count": 80,
   "id": "78b07f3d-def5-4f88-9609-cd48578bcee3",
   "metadata": {},
   "outputs": [],
   "source": [
    "# Creating merged_df1 dataframe\n",
    "merged_df1=pd.DataFrame()"
   ]
  },
  {
   "cell_type": "code",
   "execution_count": 81,
   "id": "450e3bc6-d75b-4e57-a24a-8ca069fb45a6",
   "metadata": {},
   "outputs": [
    {
     "name": "stdout",
     "output_type": "stream",
     "text": [
      "Column 'Email' present in 'merged_df' but not in the Excel file. Skipping.\n"
     ]
    }
   ],
   "source": [
    "# Iterate over each column in the 'data' DataFrame\n",
    "for column_name in merged_df.columns:\n",
    "    # Check if the column exists in the Excel file\n",
    "    if column_name in excel_file['Code'].values:\n",
    "        # Get the corresponding value in the \"Time\" column from the Excel file\n",
    "        value = excel_file.loc[excel_file['Code'] == column_name, 'Time'].values[0]\n",
    "        \n",
    "        # Calculate the percentage value\n",
    "        percentage_value = (merged_df[column_name] * 100) / value\n",
    "        \n",
    "        # Assign the calculated percentage value to a new column in the \"merged_df1\" DataFrame with the same name as the \"Code\" column\n",
    "        merged_df1[column_name] = percentage_value\n",
    "    else:\n",
    "        # Handle the case when the column is present in 'merged_df' but not in the Excel file\n",
    "        print(f\"Column '{column_name}' present in 'merged_df' but not in the Excel file. Skipping.\")\n"
   ]
  },
  {
   "cell_type": "code",
   "execution_count": 82,
   "id": "25e34142-b7f9-4c51-bdb9-274b9df2199e",
   "metadata": {},
   "outputs": [],
   "source": [
    "# Changing column name back to new column\n",
    "merged_df.columns = newcol \n",
    "merged_df1.columns = merged_df1col"
   ]
  },
  {
   "cell_type": "code",
   "execution_count": 83,
   "id": "06c4f84c-facd-4531-b374-b1510cbbdad0",
   "metadata": {},
   "outputs": [],
   "source": [
    "# Creating a function \"Max_Value\" for converting % max 100 if values are above 100\n",
    "def Max_Value(value):\n",
    "    if value >=100:\n",
    "        return 100\n",
    "    else:\n",
    "        return value"
   ]
  },
  {
   "cell_type": "code",
   "execution_count": 84,
   "id": "265d12eb-7328-48d1-abc3-3396f7748627",
   "metadata": {},
   "outputs": [
    {
     "name": "stderr",
     "output_type": "stream",
     "text": [
      "C:\\Users\\spjay\\AppData\\Local\\Temp\\ipykernel_54980\\3614295319.py:4: FutureWarning: DataFrame.applymap has been deprecated. Use DataFrame.map instead.\n",
      "  merged_df1[per1c]=merged_df1[per1c].applymap(Max_Value)\n"
     ]
    }
   ],
   "source": [
    "# Applying Max_Value function\n",
    "per1=merged_df1.iloc[:,0:]\n",
    "per1c=per1.columns\n",
    "merged_df1[per1c]=merged_df1[per1c].applymap(Max_Value)"
   ]
  },
  {
   "cell_type": "code",
   "execution_count": null,
   "id": "56ced529-1a93-4ef9-8fcc-7cd892e9d772",
   "metadata": {},
   "outputs": [],
   "source": []
  },
  {
   "cell_type": "markdown",
   "id": "7d77d090-b235-4dde-b7f4-a26e26f45fe0",
   "metadata": {},
   "source": [
    "# Code for converting seconds to hours"
   ]
  },
  {
   "cell_type": "code",
   "execution_count": 85,
   "id": "bd9fba60-c977-4fac-bbb0-15dee39dee22",
   "metadata": {},
   "outputs": [
    {
     "name": "stdout",
     "output_type": "stream",
     "text": [
      "1.5\n"
     ]
    }
   ],
   "source": [
    "# Creating a function for converting seconds to hours\n",
    "def Convert_Hours(seconds):\n",
    "    hours = seconds / (3600)\n",
    "    return hours\n",
    "n = 5400\n",
    "print(Convert_Hours(n))\n"
   ]
  },
  {
   "cell_type": "code",
   "execution_count": 86,
   "id": "91013725-00ee-4a33-a32d-21f99feabee8",
   "metadata": {},
   "outputs": [],
   "source": [
    "# Applying Convert_Hours function\n",
    "col1 = merged_df.iloc[:,1:]\n",
    "col=col1.columns\n",
    "merged_df[col]=merged_df[col].apply(Convert_Hours)"
   ]
  },
  {
   "cell_type": "markdown",
   "id": "bb7f8e84-5131-4513-be8e-539060b54e6a",
   "metadata": {},
   "source": [
    "# Code for Recorded Videos: Total hours & Percentage"
   ]
  },
  {
   "cell_type": "code",
   "execution_count": 87,
   "id": "e0656e45-d4ff-437d-890f-5825093222c7",
   "metadata": {},
   "outputs": [],
   "source": [
    "# Define the week number up to which you want to include columns\n",
    "end_week = 14"
   ]
  },
  {
   "cell_type": "code",
   "execution_count": 88,
   "id": "5eee9847-1df6-4e5b-ac0d-c8d69e404906",
   "metadata": {},
   "outputs": [],
   "source": [
    "# Create a list of all column names up to the end week\n",
    "cols_to_select = []\n",
    "for week in range(end_week + 1):\n",
    "    for video in range(1, 10):\n",
    "        col_name = f'WK{week}_V{video}'\n",
    "        if col_name in merged_df.columns:\n",
    "            cols_to_select.append(col_name)\n",
    "\n",
    "# Select the desired columns and create a new DataFrame\n",
    "Recorded_Total = merged_df[cols_to_select]"
   ]
  },
  {
   "cell_type": "code",
   "execution_count": 89,
   "id": "5bb3eb11-0903-42ab-b685-21266af4560b",
   "metadata": {},
   "outputs": [],
   "source": [
    "merged_df[\"Pre_Recorded_Total_Hours\"]=Recorded_Total.sum(axis=1)"
   ]
  },
  {
   "cell_type": "code",
   "execution_count": 90,
   "id": "7cc8e3d6-b04a-40e2-9ed9-055eb7d90b7f",
   "metadata": {},
   "outputs": [],
   "source": [
    "# Create a list of all column names up to the end week\n",
    "cols_to_select_per = []\n",
    "for week in range(end_week + 1):\n",
    "    for video in range(1, 10):\n",
    "        col_name = f'WK{week}_V{video}'\n",
    "        if col_name in merged_df1.columns:\n",
    "            cols_to_select_per.append(col_name)\n",
    "\n",
    "# Select the desired columns and create a new DataFrame\n",
    "Recorded_Percent = merged_df1[cols_to_select_per]"
   ]
  },
  {
   "cell_type": "markdown",
   "id": "6ececa52-fc05-4c2c-9f59-182ffbf7f810",
   "metadata": {},
   "source": [
    "#### As below, we have given all values as 0. Because of that, we are calculating the average for all the week video. If there is NA, then it is not getting counted in average, such as suk and masterclass. The average will be just masterclass and suk happen."
   ]
  },
  {
   "cell_type": "code",
   "execution_count": 91,
   "id": "f4884854-2fde-4021-b4c1-9b616ef8de9c",
   "metadata": {},
   "outputs": [
    {
     "name": "stderr",
     "output_type": "stream",
     "text": [
      "C:\\Users\\spjay\\AppData\\Local\\Temp\\ipykernel_54980\\3319348735.py:2: SettingWithCopyWarning: \n",
      "A value is trying to be set on a copy of a slice from a DataFrame\n",
      "\n",
      "See the caveats in the documentation: https://pandas.pydata.org/pandas-docs/stable/user_guide/indexing.html#returning-a-view-versus-a-copy\n",
      "  Recorded_Percent.fillna(0, inplace=True)\n"
     ]
    }
   ],
   "source": [
    "# Filling null values with 0\n",
    "Recorded_Percent.fillna(0, inplace=True)"
   ]
  },
  {
   "cell_type": "code",
   "execution_count": 92,
   "id": "c6de7b28-575e-4334-a22e-3178f179f79c",
   "metadata": {},
   "outputs": [],
   "source": [
    "merged_df[\"Pre_Recorded_Percentage\"]=Recorded_Percent.mean(axis=1)"
   ]
  },
  {
   "cell_type": "markdown",
   "id": "2b9e77b5-8f1e-430f-8fa2-a518ed22e193",
   "metadata": {},
   "source": [
    "# Code for SUK Recorded Videos: Total hours & Percentage"
   ]
  },
  {
   "cell_type": "code",
   "execution_count": 93,
   "id": "bb96c027-2a2d-4eb6-89ee-2b05870d8ec0",
   "metadata": {},
   "outputs": [],
   "source": [
    "# Create a list of all column names up to the end week\n",
    "cols_to_select = []\n",
    "for week in range(end_week + 1):\n",
    "    col_name = f'WK{week}_SUK_V'\n",
    "    if col_name in merged_df.columns:\n",
    "        cols_to_select.append(col_name)\n",
    "\n",
    "# Select the desired columns and create a new DataFrame\n",
    "SUK_Recorded_Total = merged_df[cols_to_select]"
   ]
  },
  {
   "cell_type": "code",
   "execution_count": 94,
   "id": "bb0060c0-06f9-41c5-845f-1989f3476785",
   "metadata": {},
   "outputs": [],
   "source": [
    "merged_df[\"SUK_Total_Hours\"]=SUK_Recorded_Total.sum(axis=1)"
   ]
  },
  {
   "cell_type": "code",
   "execution_count": 95,
   "id": "0637bfe5-e3b4-48db-9c61-8e0547b6922f",
   "metadata": {},
   "outputs": [],
   "source": [
    "# Create a list of all column names up to the end week\n",
    "cols_to_select = []\n",
    "for week in range(end_week + 1):\n",
    "    col_name = f'WK{week}_SUK_V'\n",
    "    if col_name in merged_df1.columns:\n",
    "        cols_to_select.append(col_name)\n",
    "\n",
    "# Select the desired columns and create a new DataFrame\n",
    "SUK_Recorded_Percent = merged_df1[cols_to_select]"
   ]
  },
  {
   "cell_type": "code",
   "execution_count": 97,
   "id": "84e60fdd-9c10-44fd-b45f-99bcc733fbda",
   "metadata": {},
   "outputs": [],
   "source": [
    "merged_df[\"SUK_Percentage\"]=SUK_Recorded_Percent.mean(axis=1)"
   ]
  },
  {
   "cell_type": "markdown",
   "id": "0ea1be1e-1e3a-4b0c-b591-48360133da9d",
   "metadata": {},
   "source": [
    "# Code for Master Class: Total hours & Percentage"
   ]
  },
  {
   "cell_type": "code",
   "execution_count": 98,
   "id": "2447a0ee-6a9b-4271-95d1-a9e53e6ef39b",
   "metadata": {},
   "outputs": [],
   "source": [
    "# Create a list of all column names up to the end week\n",
    "cols_to_select = []\n",
    "for week in range(end_week + 2):\n",
    "    for masterclass in range(1, 50):\n",
    "        col_name = f'WK{week}_Master{masterclass}'\n",
    "        if col_name in merged_df.columns:\n",
    "            cols_to_select.append(col_name)\n",
    "\n",
    "# Select the desired columns and create a new DataFrame\n",
    "Masterclass_Total = merged_df[cols_to_select]\n"
   ]
  },
  {
   "cell_type": "code",
   "execution_count": 99,
   "id": "4505f629-76f5-4f88-ae56-46575aea68c6",
   "metadata": {},
   "outputs": [],
   "source": [
    "merged_df[\"Masterclass_Total_Hours\"]=Masterclass_Total.sum(axis=1)"
   ]
  },
  {
   "cell_type": "code",
   "execution_count": 100,
   "id": "5461cfe9-7670-48b4-8784-67681867ed62",
   "metadata": {},
   "outputs": [],
   "source": [
    "# Create a list of all column names up to the end week\n",
    "cols_to_select = []\n",
    "for week in range(end_week + 1):\n",
    "    for masterclass in range(1, 10):\n",
    "        col_name = f'WK{week}_Master{masterclass}'\n",
    "        if col_name in merged_df1.columns:\n",
    "            cols_to_select.append(col_name)\n",
    "\n",
    "# Select the desired columns and create a new DataFrame\n",
    "Masterclass_Percent = merged_df1[cols_to_select]\n"
   ]
  },
  {
   "cell_type": "code",
   "execution_count": 101,
   "id": "1eacc4e7-d663-4bf3-8ff8-336c9c60430d",
   "metadata": {},
   "outputs": [],
   "source": [
    "merged_df[\"Masterclass_Percentage\"]=Masterclass_Percent.mean(axis=1)"
   ]
  },
  {
   "cell_type": "markdown",
   "id": "3a315411-4d76-4ee5-96be-ccc8950082fa",
   "metadata": {},
   "source": [
    "# Code for MM Class: Total hours & Percentage"
   ]
  },
  {
   "cell_type": "code",
   "execution_count": 102,
   "id": "5324e294-de07-4a35-85db-9f5fa6f044ea",
   "metadata": {},
   "outputs": [],
   "source": [
    "# Create a list of all column names up to the end week\n",
    "cols_to_select = []\n",
    "for week in range(end_week + 1):\n",
    "    for video in range(1, 10):\n",
    "        col_name = f'WK{week}_MM{video}'\n",
    "        if col_name in merged_df.columns:\n",
    "            cols_to_select.append(col_name)\n",
    "\n",
    "# Select the desired columns and create a new DataFrame\n",
    "MM_Total = merged_df[cols_to_select]"
   ]
  },
  {
   "cell_type": "code",
   "execution_count": 103,
   "id": "27c5c678-8f5d-411b-8cbf-92a1a7696445",
   "metadata": {},
   "outputs": [],
   "source": [
    "merged_df[\"MM_Total_Hours\"]=MM_Total.sum(axis=1)"
   ]
  },
  {
   "cell_type": "code",
   "execution_count": 104,
   "id": "c01b33e6-52ed-400f-a423-f335bb11fcb6",
   "metadata": {},
   "outputs": [],
   "source": [
    "# Create a list of all column names up to the end week\n",
    "cols_to_select_per = []\n",
    "for week in range(end_week + 1):\n",
    "    for video in range(1, 10):\n",
    "        col_name = f'WK{week}_MM{video}'\n",
    "        if col_name in merged_df1.columns:\n",
    "            cols_to_select_per.append(col_name)\n",
    "\n",
    "# Select the desired columns and create a new DataFrame\n",
    "MM_Percent = merged_df1[cols_to_select_per]"
   ]
  },
  {
   "cell_type": "code",
   "execution_count": 105,
   "id": "65123f7f-468f-479f-9b45-8737c15a5948",
   "metadata": {},
   "outputs": [],
   "source": [
    "merged_df[\"MM_Percentage\"]=MM_Percent.mean(axis=1)"
   ]
  },
  {
   "cell_type": "markdown",
   "id": "00d3de23-4924-45e5-839b-d6c1321c8095",
   "metadata": {},
   "source": [
    "# Code for Course: Total hours & Percentage"
   ]
  },
  {
   "cell_type": "code",
   "execution_count": 106,
   "id": "3ec8be2c-4dbb-4330-9db7-367ebbf49957",
   "metadata": {},
   "outputs": [],
   "source": [
    "# select columns from data where the column names start with \"WK\"\n",
    "selected_cols = [col for col in merged_df.columns if col.startswith('WK')]\n",
    "\n",
    "# create a new dataframe called Whole_Program_Total with the selected columns\n",
    "Whole_Program_Total = merged_df[selected_cols]"
   ]
  },
  {
   "cell_type": "code",
   "execution_count": 107,
   "id": "aed35cc1-c6c8-4040-8cb1-768ac67f11c1",
   "metadata": {},
   "outputs": [],
   "source": [
    "merged_df[\"Course_Total_Hours\"]=Whole_Program_Total.sum(axis=1)"
   ]
  },
  {
   "cell_type": "code",
   "execution_count": 108,
   "id": "64bac0c1-647b-4cc9-9d89-6024421c710b",
   "metadata": {},
   "outputs": [
    {
     "data": {
      "text/plain": [
       "Index(['Email', 'WK0_SUK_V', 'WK0_MM1', 'WK1_Master1', 'WK2_V1', 'WK2_V2',\n",
       "       'WK2_V3', 'WK2_SUK_V', 'WK3_V1', 'WK3_V2', 'WK3_V3', 'WK3_V4',\n",
       "       'WK3_Master2', 'WK4_V1', 'WK4_V2', 'WK4_MM2', 'WK5_V1', 'WK5_V2',\n",
       "       'WK5_V3', 'WK5_Master3', 'WK6_SUK_V', 'WK7_V1', 'WK7_V2', 'WK7_V3',\n",
       "       'WK7_Master4', 'WK8_V1', 'WK8_V2', 'WK8_V3', 'WK8_V4', 'WK8_SUK_V',\n",
       "       'WK9_V1', 'WK9_V2', 'WK9_Master5', 'WK10_SUK_V',\n",
       "       'Pre_Recorded_Total_Hours', 'Pre_Recorded_Percentage',\n",
       "       'SUK_Total_Hours', 'SUK_Percentage', 'Masterclass_Total_Hours',\n",
       "       'Masterclass_Percentage', 'MM_Total_Hours', 'MM_Percentage',\n",
       "       'Course_Total_Hours'],\n",
       "      dtype='object')"
      ]
     },
     "execution_count": 108,
     "metadata": {},
     "output_type": "execute_result"
    }
   ],
   "source": [
    "merged_df.columns"
   ]
  },
  {
   "cell_type": "markdown",
   "id": "109af2f6-0e75-4bb9-9c19-4ef1df6fcc6d",
   "metadata": {},
   "source": [
    "##### Here we are taking all Suk, Masterclass,mm and recording for course percantage."
   ]
  },
  {
   "cell_type": "code",
   "execution_count": 109,
   "id": "ce133420-b0fd-49ce-89ae-fb621559801f",
   "metadata": {},
   "outputs": [],
   "source": [
    "# select columns from gd where the column names start with \"WK\"\n",
    "selected_cols_1 = [col for col in merged_df.columns if col.startswith(\"Pre_Recorded_Percentage\") or col.startswith(\"SUK_Percentage\") or col.startswith(\"Masterclass_Percentage\") or col.startswith(\"MM_Percentage\")or col.startswith(\"Mentor_Interaction_Percentage\")]\n",
    "\n",
    "# create a new dataframe called Whole_Program_Total with the selected columns\n",
    "Whole_Program_Percent = merged_df[selected_cols_1]"
   ]
  },
  {
   "cell_type": "code",
   "execution_count": 110,
   "id": "9dfac77c-52f4-434f-ab73-be51219e3c69",
   "metadata": {},
   "outputs": [
    {
     "data": {
      "text/html": [
       "<div>\n",
       "<style scoped>\n",
       "    .dataframe tbody tr th:only-of-type {\n",
       "        vertical-align: middle;\n",
       "    }\n",
       "\n",
       "    .dataframe tbody tr th {\n",
       "        vertical-align: top;\n",
       "    }\n",
       "\n",
       "    .dataframe thead th {\n",
       "        text-align: right;\n",
       "    }\n",
       "</style>\n",
       "<table border=\"1\" class=\"dataframe\">\n",
       "  <thead>\n",
       "    <tr style=\"text-align: right;\">\n",
       "      <th></th>\n",
       "      <th>Pre_Recorded_Percentage</th>\n",
       "      <th>SUK_Percentage</th>\n",
       "      <th>Masterclass_Percentage</th>\n",
       "      <th>MM_Percentage</th>\n",
       "    </tr>\n",
       "  </thead>\n",
       "  <tbody>\n",
       "    <tr>\n",
       "      <th>0</th>\n",
       "      <td>1.336675</td>\n",
       "      <td>40.166667</td>\n",
       "      <td>21.194444</td>\n",
       "      <td>0.250000</td>\n",
       "    </tr>\n",
       "    <tr>\n",
       "      <th>1</th>\n",
       "      <td>97.969399</td>\n",
       "      <td>69.244444</td>\n",
       "      <td>80.600000</td>\n",
       "      <td>79.694444</td>\n",
       "    </tr>\n",
       "    <tr>\n",
       "      <th>2</th>\n",
       "      <td>96.669012</td>\n",
       "      <td>100.000000</td>\n",
       "      <td>81.394444</td>\n",
       "      <td>55.347222</td>\n",
       "    </tr>\n",
       "    <tr>\n",
       "      <th>3</th>\n",
       "      <td>33.333333</td>\n",
       "      <td>60.000000</td>\n",
       "      <td>60.000000</td>\n",
       "      <td>0.000000</td>\n",
       "    </tr>\n",
       "    <tr>\n",
       "      <th>4</th>\n",
       "      <td>0.000000</td>\n",
       "      <td>20.761111</td>\n",
       "      <td>20.000000</td>\n",
       "      <td>0.000000</td>\n",
       "    </tr>\n",
       "  </tbody>\n",
       "</table>\n",
       "</div>"
      ],
      "text/plain": [
       "   Pre_Recorded_Percentage  SUK_Percentage  Masterclass_Percentage  \\\n",
       "0                 1.336675       40.166667               21.194444   \n",
       "1                97.969399       69.244444               80.600000   \n",
       "2                96.669012      100.000000               81.394444   \n",
       "3                33.333333       60.000000               60.000000   \n",
       "4                 0.000000       20.761111               20.000000   \n",
       "\n",
       "   MM_Percentage  \n",
       "0       0.250000  \n",
       "1      79.694444  \n",
       "2      55.347222  \n",
       "3       0.000000  \n",
       "4       0.000000  "
      ]
     },
     "execution_count": 110,
     "metadata": {},
     "output_type": "execute_result"
    }
   ],
   "source": [
    "Whole_Program_Percent.head()"
   ]
  },
  {
   "cell_type": "code",
   "execution_count": 111,
   "id": "439afd91-0426-4d72-b45d-da784f553ad5",
   "metadata": {},
   "outputs": [
    {
     "name": "stderr",
     "output_type": "stream",
     "text": [
      "C:\\Users\\spjay\\AppData\\Local\\Temp\\ipykernel_54980\\1585490648.py:2: SettingWithCopyWarning: \n",
      "A value is trying to be set on a copy of a slice from a DataFrame\n",
      "\n",
      "See the caveats in the documentation: https://pandas.pydata.org/pandas-docs/stable/user_guide/indexing.html#returning-a-view-versus-a-copy\n",
      "  Whole_Program_Percent.fillna(0, inplace=True)\n"
     ]
    }
   ],
   "source": [
    "Whole_Program_Percent# Filling null values with 0\n",
    "Whole_Program_Percent.fillna(0, inplace=True)"
   ]
  },
  {
   "cell_type": "code",
   "execution_count": 112,
   "id": "45fdd989-58f9-46b4-933d-6148b492f1e8",
   "metadata": {},
   "outputs": [],
   "source": [
    "merged_df[\"Course_Percentage\"]=Whole_Program_Percent.mean(axis=1)"
   ]
  },
  {
   "cell_type": "code",
   "execution_count": 113,
   "id": "32c7b0ce-a372-49c6-8958-20cb30279074",
   "metadata": {},
   "outputs": [],
   "source": [
    "merged_df=merged_df.round(2)"
   ]
  },
  {
   "cell_type": "code",
   "execution_count": 114,
   "id": "9476ffa2-1614-4f81-8c2b-889e058d9f85",
   "metadata": {},
   "outputs": [],
   "source": [
    "# Filling null values with 0\n",
    "merged_df.fillna(0, inplace=True)\n"
   ]
  },
  {
   "cell_type": "code",
   "execution_count": 115,
   "id": "645b4a3c-998c-47cb-9f90-d87f2a2b16ce",
   "metadata": {},
   "outputs": [],
   "source": [
    "# Copy merged_df to merged_d\n",
    "merged_db = merged_df.copy()"
   ]
  },
  {
   "cell_type": "markdown",
   "id": "e7d77c38-79a0-45c3-b808-a942f787de82",
   "metadata": {},
   "source": [
    "# Merging the file with genral sheet"
   ]
  },
  {
   "cell_type": "code",
   "execution_count": 116,
   "id": "e017482a-b418-4068-a49d-7b58c64064e5",
   "metadata": {},
   "outputs": [],
   "source": [
    "# Renaming the column names\n",
    "gi.rename(columns={'Email ID' : 'Email'}, inplace=True)"
   ]
  },
  {
   "cell_type": "code",
   "execution_count": 117,
   "id": "ddd6305f-beff-42d6-adf3-cceb80eb8b89",
   "metadata": {},
   "outputs": [],
   "source": [
    "# Drop columns starting with 'WK'\n",
    "gi = gi.drop(['Accelerator Batch'], axis=1)"
   ]
  },
  {
   "cell_type": "code",
   "execution_count": 119,
   "id": "df3bf2eb-f345-40d5-825c-9c6766705a3b",
   "metadata": {},
   "outputs": [],
   "source": [
    "# Merge with gi\n",
    "merged_df = pd.merge(gi, merged_df, on='Email', how='outer')\n"
   ]
  },
  {
   "cell_type": "code",
   "execution_count": 120,
   "id": "9517f833-fa66-45c0-9062-796e63f07cca",
   "metadata": {},
   "outputs": [],
   "source": [
    "# Function to rearrange columns\n",
    "def rearrange_columns(merged_df):\n",
    "    def extract_week_number(col):\n",
    "        match = re.search(r'WK(\\d+)', col)\n",
    "        return int(match.group(1)) if match else -1\n",
    "\n",
    "    wk_columns = sorted([col for col in merged_df.columns if col.startswith('WK')], key=extract_week_number)\n",
    "    total_columns = [col for col in merged_df.columns if col.endswith('Hours')]\n",
    "    percentage_columns = [col for col in merged_df.columns if col.endswith('Percentage')]\n",
    "    other_columns = [col for col in merged_df.columns if col not in wk_columns + total_columns + percentage_columns]\n",
    "    \n",
    "    new_column_order = other_columns + wk_columns + total_columns + percentage_columns\n",
    "    return merged_df[new_column_order]\n",
    "\n",
    "# Applying the function\n",
    "merged_df = rearrange_columns(merged_df)"
   ]
  },
  {
   "cell_type": "code",
   "execution_count": 121,
   "id": "25131ed6-76a1-4c9d-881c-2831ee46857b",
   "metadata": {},
   "outputs": [],
   "source": [
    "# Rounding off the values\n",
    "merged_df=merged_df.round(2)"
   ]
  },
  {
   "cell_type": "code",
   "execution_count": 122,
   "id": "c8a97e5d-ff36-4c42-a0a1-d4b093fb3d1e",
   "metadata": {},
   "outputs": [],
   "source": [
    "# merged_df is your final DataFrame\n",
    "output_directory = r'C:\\Users\\spjay\\OneDrive - VigyanShaala\\02 Products  Initiatives\\01 SheForSTEM\\05 Kalpana M&E\\00 DBMS 1.0\\Kalpana\\Kalpana\\05 Accelerator\\Accelerator 3.0\\output'\n",
    "\n",
    "# Create the directory if it doesn't exist\n",
    "if not os.path.exists(output_directory):\n",
    "    os.makedirs(output_directory)\n",
    "\n",
    "output_path = os.path.join(output_directory, 'Accelerator Course Attendance.csv')\n",
    "merged_df.to_csv(output_path, index=False)\n"
   ]
  },
  {
   "cell_type": "markdown",
   "id": "5f9d2ddf-d1ba-4b89-afbe-793e887a7723",
   "metadata": {},
   "source": [
    "# Merging the file with Mentor Interaction sheet"
   ]
  },
  {
   "cell_type": "code",
   "execution_count": 123,
   "id": "743a49e4-e299-4ed3-909d-83e2b120ae9c",
   "metadata": {},
   "outputs": [],
   "source": [
    "# importing dataframe \n",
    "men = pd.read_csv(r\"C:\\Users\\spjay\\OneDrive - VigyanShaala\\02 Products  Initiatives\\01 SheForSTEM\\05 Kalpana M&E\\00 DBMS 1.0\\Kalpana\\Kalpana\\05 Accelerator\\Accelerator 3.0\\output\\Mentor Interaction Attendance.csv\")"
   ]
  },
  {
   "cell_type": "code",
   "execution_count": 124,
   "id": "fc8c8ac5-e69b-4976-95fe-dab423fc6f67",
   "metadata": {},
   "outputs": [],
   "source": [
    "# Rename columns function\n",
    "def rename_columns(men):\n",
    "    new_columns = {}\n",
    "    for col in men.columns:\n",
    "        if 'Hours Spent - Week' in col:\n",
    "            week_num = col.split(' - Week ')[1]\n",
    "            new_col_name = f'WK{week_num}_Mentor_Interaction'\n",
    "            new_columns[col] = new_col_name\n",
    "    men.rename(columns=new_columns, inplace=True)\n",
    "\n",
    "# Applying the function\n",
    "rename_columns(men)"
   ]
  },
  {
   "cell_type": "code",
   "execution_count": 125,
   "id": "6ac7131e-04e4-43b9-ae0d-d8f4cbe62dda",
   "metadata": {},
   "outputs": [
    {
     "data": {
      "text/plain": [
       "Index(['Mentee ID', 'Email ID', 'Mentee Name', 'Mobile Number', 'Group Name',\n",
       "       'Total Sessions - Week 1', 'Average Duration - Week 1',\n",
       "       'Attended Sessions - Week 1', 'WK1_Mentor_Interaction',\n",
       "       '% Attendance - Week 1', 'Total Sessions - Week 2',\n",
       "       'Average Duration - Week 2', 'Attended Sessions - Week 2',\n",
       "       'WK2_Mentor_Interaction', '% Attendance - Week 2',\n",
       "       'Total Sessions - Week 3', 'Average Duration - Week 3',\n",
       "       'Attended Sessions - Week 3', 'WK3_Mentor_Interaction',\n",
       "       '% Attendance - Week 3', 'Total Sessions - Week 4',\n",
       "       'Average Duration - Week 4', 'Attended Sessions - Week 4',\n",
       "       'WK4_Mentor_Interaction', '% Attendance - Week 4',\n",
       "       'Total Sessions - Week 5', 'Average Duration - Week 5',\n",
       "       'Attended Sessions - Week 5', 'WK5_Mentor_Interaction',\n",
       "       '% Attendance - Week 5', 'Total Sessions - Week 6',\n",
       "       'Average Duration - Week 6', 'Attended Sessions - Week 6',\n",
       "       'WK6_Mentor_Interaction', '% Attendance - Week 6',\n",
       "       'Total Sessions - Week 7', 'Average Duration - Week 7',\n",
       "       'Attended Sessions - Week 7', 'WK7_Mentor_Interaction',\n",
       "       '% Attendance - Week 7', 'Total Sessions - Week 8',\n",
       "       'Average Duration - Week 8', 'Attended Sessions - Week 8',\n",
       "       'WK8_Mentor_Interaction', '% Attendance - Week 8',\n",
       "       'Total Sessions - Week 9', 'Average Duration - Week 9',\n",
       "       'Attended Sessions - Week 9', 'WK9_Mentor_Interaction',\n",
       "       '% Attendance - Week 9', 'Total Sessions - Week 10',\n",
       "       'Average Duration - Week 10', 'Attended Sessions - Week 10',\n",
       "       'WK10_Mentor_Interaction', '% Attendance - Week 10',\n",
       "       'Total Sessions - Week 11', 'Average Duration - Week 11',\n",
       "       'Attended Sessions - Week 11', 'WK11_Mentor_Interaction',\n",
       "       '% Attendance - Week 11', 'Total Sessions - Week 12',\n",
       "       'Average Duration - Week 12', 'Attended Sessions - Week 12',\n",
       "       'WK12_Mentor_Interaction', '% Attendance - Week 12',\n",
       "       'Total Sessions - Week 13', 'Average Duration - Week 13',\n",
       "       'Attended Sessions - Week 13', 'WK13_Mentor_Interaction',\n",
       "       '% Attendance - Week 13', 'Total Sessions Overall',\n",
       "       'Attended Sessions Overall', 'Hours Spent Overall',\n",
       "       '% Attendance Overall'],\n",
       "      dtype='object')"
      ]
     },
     "execution_count": 125,
     "metadata": {},
     "output_type": "execute_result"
    }
   ],
   "source": [
    "men.columns"
   ]
  },
  {
   "cell_type": "code",
   "execution_count": 126,
   "id": "a38bea35-13fe-4dc3-ac83-73dba82ef3b1",
   "metadata": {},
   "outputs": [],
   "source": [
    "# Remove unwanted Sign from column names\n",
    "men = men.rename(columns=lambda x: x.replace('Hours Spent Overall', 'Mentor_Interaction_Total_Hours').replace('% Attendance Overall', 'Mentor_Interaction_Percentage'))\n"
   ]
  },
  {
   "cell_type": "code",
   "execution_count": 127,
   "id": "aeb212bb-4422-489a-b258-92afb9ea6449",
   "metadata": {},
   "outputs": [],
   "source": [
    "# Get the columns to keep\n",
    "columns_to_keep = [col for col in men.columns if col.startswith(\"Mentee ID\") or col.startswith(\"WK\") or col.startswith(\"Mentor_Interaction_Total_Hours\")or col.startswith(\"Mentor_Interaction_Percentage\")]\n",
    "\n",
    "# Drop the columns not in columns_to_keep\n",
    "men.drop(columns=[col for col in men.columns if col not in columns_to_keep], inplace=True)\n"
   ]
  },
  {
   "cell_type": "code",
   "execution_count": 128,
   "id": "910299e2-5aeb-4d74-950e-eafb23c9e379",
   "metadata": {},
   "outputs": [],
   "source": [
    "# Merge with merged_df\n",
    "overall = pd.merge(merged_df, men, on='Mentee ID', how='outer')\n"
   ]
  },
  {
   "cell_type": "markdown",
   "id": "0484e397-4482-498c-aef5-3276f33210a6",
   "metadata": {},
   "source": [
    "# Code for Program: Total hours & Percentage"
   ]
  },
  {
   "cell_type": "code",
   "execution_count": 129,
   "id": "d3ea0ca7-8000-4377-853e-3a5724e77590",
   "metadata": {},
   "outputs": [],
   "source": [
    "# select columns from data where the column names start with \"WK\"\n",
    "selected_cols = [col for col in overall.columns if col.startswith('WK')]\n",
    "\n",
    "# create a new dataframe called Whole_Program_Total with the selected columns\n",
    "Whole_Program_Total = overall[selected_cols]"
   ]
  },
  {
   "cell_type": "code",
   "execution_count": 130,
   "id": "8640fe6d-be0e-4162-89f3-e186bb109229",
   "metadata": {},
   "outputs": [],
   "source": [
    "overall[\"Program_Total_Hours\"]=Whole_Program_Total.sum(axis=1)"
   ]
  },
  {
   "cell_type": "code",
   "execution_count": 131,
   "id": "ccca6769-9100-42d8-aa74-1a4e83585f22",
   "metadata": {},
   "outputs": [],
   "source": [
    "# select columns from data where the column names start\n",
    "selected_cols_1 = [col for col in overall.columns if col.startswith(\"Pre_Recorded_Percentage\") or col.startswith(\"SUK_Percentage\") or col.startswith(\"Masterclass_Percentage\") or col.startswith(\"MM_Percentage\")or col.startswith(\"Mentor_Interaction_Percentage\")]\n",
    "\n",
    "# create a new dataframe called Whole_Program_Total with the selected columns\n",
    "Whole_Program_Percentage = overall[selected_cols_1]"
   ]
  },
  {
   "cell_type": "code",
   "execution_count": 132,
   "id": "7f82f84e-069d-40d0-8830-ae9afeb51b79",
   "metadata": {},
   "outputs": [
    {
     "data": {
      "text/html": [
       "<div>\n",
       "<style scoped>\n",
       "    .dataframe tbody tr th:only-of-type {\n",
       "        vertical-align: middle;\n",
       "    }\n",
       "\n",
       "    .dataframe tbody tr th {\n",
       "        vertical-align: top;\n",
       "    }\n",
       "\n",
       "    .dataframe thead th {\n",
       "        text-align: right;\n",
       "    }\n",
       "</style>\n",
       "<table border=\"1\" class=\"dataframe\">\n",
       "  <thead>\n",
       "    <tr style=\"text-align: right;\">\n",
       "      <th></th>\n",
       "      <th>Pre_Recorded_Percentage</th>\n",
       "      <th>SUK_Percentage</th>\n",
       "      <th>Masterclass_Percentage</th>\n",
       "      <th>MM_Percentage</th>\n",
       "      <th>Mentor_Interaction_Percentage</th>\n",
       "    </tr>\n",
       "  </thead>\n",
       "  <tbody>\n",
       "    <tr>\n",
       "      <th>0</th>\n",
       "      <td>0.31</td>\n",
       "      <td>0.08</td>\n",
       "      <td>0.05</td>\n",
       "      <td>0.00</td>\n",
       "      <td>54.55</td>\n",
       "    </tr>\n",
       "    <tr>\n",
       "      <th>1</th>\n",
       "      <td>78.73</td>\n",
       "      <td>22.59</td>\n",
       "      <td>20.23</td>\n",
       "      <td>28.90</td>\n",
       "      <td>50.00</td>\n",
       "    </tr>\n",
       "    <tr>\n",
       "      <th>2</th>\n",
       "      <td>0.00</td>\n",
       "      <td>0.01</td>\n",
       "      <td>34.46</td>\n",
       "      <td>3.69</td>\n",
       "      <td>27.27</td>\n",
       "    </tr>\n",
       "    <tr>\n",
       "      <th>3</th>\n",
       "      <td>93.48</td>\n",
       "      <td>52.00</td>\n",
       "      <td>54.53</td>\n",
       "      <td>44.47</td>\n",
       "      <td>13.64</td>\n",
       "    </tr>\n",
       "    <tr>\n",
       "      <th>4</th>\n",
       "      <td>0.00</td>\n",
       "      <td>0.00</td>\n",
       "      <td>0.00</td>\n",
       "      <td>0.00</td>\n",
       "      <td>0.00</td>\n",
       "    </tr>\n",
       "  </tbody>\n",
       "</table>\n",
       "</div>"
      ],
      "text/plain": [
       "   Pre_Recorded_Percentage  SUK_Percentage  Masterclass_Percentage  \\\n",
       "0                     0.31            0.08                    0.05   \n",
       "1                    78.73           22.59                   20.23   \n",
       "2                     0.00            0.01                   34.46   \n",
       "3                    93.48           52.00                   54.53   \n",
       "4                     0.00            0.00                    0.00   \n",
       "\n",
       "   MM_Percentage  Mentor_Interaction_Percentage  \n",
       "0           0.00                          54.55  \n",
       "1          28.90                          50.00  \n",
       "2           3.69                          27.27  \n",
       "3          44.47                          13.64  \n",
       "4           0.00                           0.00  "
      ]
     },
     "execution_count": 132,
     "metadata": {},
     "output_type": "execute_result"
    }
   ],
   "source": [
    "Whole_Program_Percentage.head()"
   ]
  },
  {
   "cell_type": "code",
   "execution_count": 133,
   "id": "1a738beb-bcf5-4c31-a9b5-97e960f0d893",
   "metadata": {},
   "outputs": [],
   "source": [
    "overall[\"Program_Percentage\"]=Whole_Program_Percentage.mean(axis=1)"
   ]
  },
  {
   "cell_type": "code",
   "execution_count": 134,
   "id": "d7c8177f-a550-43aa-88be-5f6bb0f744ab",
   "metadata": {},
   "outputs": [
    {
     "data": {
      "text/plain": [
       "Index(['Mentee ID', 'Email', 'Mentee Name', 'Mobile Number', 'Group Name',\n",
       "       'WK0_SUK_V', 'WK0_MM1', 'WK1_Master1', 'WK2_V1', 'WK2_V2', 'WK2_V3',\n",
       "       'WK2_SUK_V', 'WK3_V1', 'WK3_V2', 'WK3_V3', 'WK3_V4', 'WK3_Master2',\n",
       "       'WK4_V1', 'WK4_V2', 'WK4_MM2', 'WK5_V1', 'WK5_V2', 'WK5_V3',\n",
       "       'WK5_Master3', 'WK6_SUK_V', 'WK7_V1', 'WK7_V2', 'WK7_V3', 'WK7_Master4',\n",
       "       'WK8_V1', 'WK8_V2', 'WK8_V3', 'WK8_V4', 'WK8_SUK_V', 'WK9_V1', 'WK9_V2',\n",
       "       'WK9_Master5', 'WK10_SUK_V', 'Pre_Recorded_Total_Hours',\n",
       "       'SUK_Total_Hours', 'Masterclass_Total_Hours', 'MM_Total_Hours',\n",
       "       'Course_Total_Hours', 'Pre_Recorded_Percentage', 'SUK_Percentage',\n",
       "       'Masterclass_Percentage', 'MM_Percentage', 'Course_Percentage',\n",
       "       'WK1_Mentor_Interaction', 'WK2_Mentor_Interaction',\n",
       "       'WK3_Mentor_Interaction', 'WK4_Mentor_Interaction',\n",
       "       'WK5_Mentor_Interaction', 'WK6_Mentor_Interaction',\n",
       "       'WK7_Mentor_Interaction', 'WK8_Mentor_Interaction',\n",
       "       'WK9_Mentor_Interaction', 'WK10_Mentor_Interaction',\n",
       "       'WK11_Mentor_Interaction', 'WK12_Mentor_Interaction',\n",
       "       'WK13_Mentor_Interaction', 'Mentor_Interaction_Total_Hours',\n",
       "       'Mentor_Interaction_Percentage', 'Program_Total_Hours',\n",
       "       'Program_Percentage'],\n",
       "      dtype='object')"
      ]
     },
     "execution_count": 134,
     "metadata": {},
     "output_type": "execute_result"
    }
   ],
   "source": [
    "overall.columns"
   ]
  },
  {
   "cell_type": "code",
   "execution_count": 135,
   "id": "4786a4c1-d0bd-426b-9172-d7942f4b3616",
   "metadata": {},
   "outputs": [],
   "source": [
    "# Function to rearrange columns\n",
    "def rearrange_columns(overall):\n",
    "    def extract_week_number(col):\n",
    "        match = re.search(r'WK(\\d+)', col)\n",
    "        return int(match.group(1)) if match else -1\n",
    "\n",
    "    wk_columns = sorted([col for col in overall.columns if col.startswith('WK')], key=extract_week_number)\n",
    "    total_columns = [col for col in overall.columns if col.endswith('Hours')]\n",
    "    percentage_columns = [col for col in overall.columns if col.endswith('Percentage')]\n",
    "    other_columns = [col for col in overall.columns if col not in wk_columns + total_columns + percentage_columns]\n",
    "    \n",
    "    new_column_order = other_columns + wk_columns + total_columns + percentage_columns\n",
    "    return overall[new_column_order]\n",
    "\n",
    "# Applying the function\n",
    "overall = rearrange_columns(overall)"
   ]
  },
  {
   "cell_type": "code",
   "execution_count": 136,
   "id": "549b4a48-1b2e-4e50-8c0c-5ee91bbd252a",
   "metadata": {},
   "outputs": [],
   "source": [
    "# Filling null values with 0\n",
    "overall.fillna(0, inplace=True)"
   ]
  },
  {
   "cell_type": "code",
   "execution_count": 137,
   "id": "918e642e-f465-4e5b-983a-093adc12e05c",
   "metadata": {},
   "outputs": [
    {
     "data": {
      "text/plain": [
       "Index(['Mentee ID', 'Email', 'Mentee Name', 'Mobile Number', 'Group Name',\n",
       "       'WK0_SUK_V', 'WK0_MM1', 'WK1_Master1', 'WK1_Mentor_Interaction',\n",
       "       'WK2_V1', 'WK2_V2', 'WK2_V3', 'WK2_SUK_V', 'WK2_Mentor_Interaction',\n",
       "       'WK3_V1', 'WK3_V2', 'WK3_V3', 'WK3_V4', 'WK3_Master2',\n",
       "       'WK3_Mentor_Interaction', 'WK4_V1', 'WK4_V2', 'WK4_MM2',\n",
       "       'WK4_Mentor_Interaction', 'WK5_V1', 'WK5_V2', 'WK5_V3', 'WK5_Master3',\n",
       "       'WK5_Mentor_Interaction', 'WK6_SUK_V', 'WK6_Mentor_Interaction',\n",
       "       'WK7_V1', 'WK7_V2', 'WK7_V3', 'WK7_Master4', 'WK7_Mentor_Interaction',\n",
       "       'WK8_V1', 'WK8_V2', 'WK8_V3', 'WK8_V4', 'WK8_SUK_V',\n",
       "       'WK8_Mentor_Interaction', 'WK9_V1', 'WK9_V2', 'WK9_Master5',\n",
       "       'WK9_Mentor_Interaction', 'WK10_SUK_V', 'WK10_Mentor_Interaction',\n",
       "       'WK11_Mentor_Interaction', 'WK12_Mentor_Interaction',\n",
       "       'WK13_Mentor_Interaction', 'Pre_Recorded_Total_Hours',\n",
       "       'SUK_Total_Hours', 'Masterclass_Total_Hours', 'MM_Total_Hours',\n",
       "       'Course_Total_Hours', 'Mentor_Interaction_Total_Hours',\n",
       "       'Program_Total_Hours', 'Pre_Recorded_Percentage', 'SUK_Percentage',\n",
       "       'Masterclass_Percentage', 'MM_Percentage', 'Course_Percentage',\n",
       "       'Mentor_Interaction_Percentage', 'Program_Percentage'],\n",
       "      dtype='object')"
      ]
     },
     "execution_count": 137,
     "metadata": {},
     "output_type": "execute_result"
    }
   ],
   "source": [
    "overall.columns"
   ]
  },
  {
   "cell_type": "code",
   "execution_count": null,
   "id": "add32335-e581-4359-9432-70a1b95cf3b7",
   "metadata": {},
   "outputs": [],
   "source": []
  },
  {
   "cell_type": "code",
   "execution_count": 138,
   "id": "80496caf-8fab-491f-8d75-f3c46b4881b4",
   "metadata": {},
   "outputs": [
    {
     "data": {
      "text/html": [
       "<div>\n",
       "<style scoped>\n",
       "    .dataframe tbody tr th:only-of-type {\n",
       "        vertical-align: middle;\n",
       "    }\n",
       "\n",
       "    .dataframe tbody tr th {\n",
       "        vertical-align: top;\n",
       "    }\n",
       "\n",
       "    .dataframe thead th {\n",
       "        text-align: right;\n",
       "    }\n",
       "</style>\n",
       "<table border=\"1\" class=\"dataframe\">\n",
       "  <thead>\n",
       "    <tr style=\"text-align: right;\">\n",
       "      <th></th>\n",
       "      <th>Mentee ID</th>\n",
       "      <th>Email</th>\n",
       "      <th>Mentee Name</th>\n",
       "      <th>Mobile Number</th>\n",
       "      <th>Group Name</th>\n",
       "      <th>WK0_SUK_V</th>\n",
       "      <th>WK0_MM1</th>\n",
       "      <th>WK1_Master1</th>\n",
       "      <th>WK1_Mentor_Interaction</th>\n",
       "      <th>WK2_V1</th>\n",
       "      <th>WK2_V2</th>\n",
       "      <th>WK2_V3</th>\n",
       "      <th>WK2_SUK_V</th>\n",
       "      <th>WK2_Mentor_Interaction</th>\n",
       "      <th>WK3_V1</th>\n",
       "      <th>WK3_V2</th>\n",
       "      <th>WK3_V3</th>\n",
       "      <th>WK3_V4</th>\n",
       "      <th>WK3_Master2</th>\n",
       "      <th>WK3_Mentor_Interaction</th>\n",
       "      <th>WK4_V1</th>\n",
       "      <th>WK4_V2</th>\n",
       "      <th>WK4_MM2</th>\n",
       "      <th>WK4_Mentor_Interaction</th>\n",
       "      <th>WK5_V1</th>\n",
       "      <th>WK5_V2</th>\n",
       "      <th>WK5_V3</th>\n",
       "      <th>WK5_Master3</th>\n",
       "      <th>WK5_Mentor_Interaction</th>\n",
       "      <th>WK6_SUK_V</th>\n",
       "      <th>WK6_Mentor_Interaction</th>\n",
       "      <th>WK7_V1</th>\n",
       "      <th>WK7_V2</th>\n",
       "      <th>WK7_V3</th>\n",
       "      <th>WK7_Master4</th>\n",
       "      <th>WK7_Mentor_Interaction</th>\n",
       "      <th>WK8_V1</th>\n",
       "      <th>WK8_V2</th>\n",
       "      <th>WK8_V3</th>\n",
       "      <th>WK8_V4</th>\n",
       "      <th>WK8_SUK_V</th>\n",
       "      <th>WK8_Mentor_Interaction</th>\n",
       "      <th>WK9_V1</th>\n",
       "      <th>WK9_V2</th>\n",
       "      <th>WK9_Master5</th>\n",
       "      <th>WK9_Mentor_Interaction</th>\n",
       "      <th>WK10_SUK_V</th>\n",
       "      <th>WK10_Mentor_Interaction</th>\n",
       "      <th>WK11_Mentor_Interaction</th>\n",
       "      <th>WK12_Mentor_Interaction</th>\n",
       "      <th>WK13_Mentor_Interaction</th>\n",
       "      <th>Pre_Recorded_Total_Hours</th>\n",
       "      <th>SUK_Total_Hours</th>\n",
       "      <th>Masterclass_Total_Hours</th>\n",
       "      <th>MM_Total_Hours</th>\n",
       "      <th>Course_Total_Hours</th>\n",
       "      <th>Mentor_Interaction_Total_Hours</th>\n",
       "      <th>Program_Total_Hours</th>\n",
       "      <th>Pre_Recorded_Percentage</th>\n",
       "      <th>SUK_Percentage</th>\n",
       "      <th>Masterclass_Percentage</th>\n",
       "      <th>MM_Percentage</th>\n",
       "      <th>Course_Percentage</th>\n",
       "      <th>Mentor_Interaction_Percentage</th>\n",
       "      <th>Program_Percentage</th>\n",
       "    </tr>\n",
       "  </thead>\n",
       "  <tbody>\n",
       "    <tr>\n",
       "      <th>0</th>\n",
       "      <td>KA03_01</td>\n",
       "      <td>rangarirohinireddy@gmail.com</td>\n",
       "      <td>Rohini Reddy Rangari</td>\n",
       "      <td>6.281661e+09</td>\n",
       "      <td>BIO_01Neha</td>\n",
       "      <td>0.00</td>\n",
       "      <td>0.00</td>\n",
       "      <td>0.00</td>\n",
       "      <td>0.0</td>\n",
       "      <td>0.00</td>\n",
       "      <td>0.00</td>\n",
       "      <td>0.00</td>\n",
       "      <td>0.00</td>\n",
       "      <td>1.5</td>\n",
       "      <td>0.00</td>\n",
       "      <td>0.00</td>\n",
       "      <td>0.00</td>\n",
       "      <td>0.00</td>\n",
       "      <td>0.00</td>\n",
       "      <td>1.0</td>\n",
       "      <td>0.00</td>\n",
       "      <td>0.00</td>\n",
       "      <td>0.00</td>\n",
       "      <td>0.0</td>\n",
       "      <td>0.00</td>\n",
       "      <td>0.00</td>\n",
       "      <td>0.00</td>\n",
       "      <td>0.00</td>\n",
       "      <td>1.0</td>\n",
       "      <td>0.00</td>\n",
       "      <td>0.0</td>\n",
       "      <td>0.00</td>\n",
       "      <td>0.00</td>\n",
       "      <td>0.00</td>\n",
       "      <td>0.00</td>\n",
       "      <td>0.0</td>\n",
       "      <td>0.00</td>\n",
       "      <td>0.00</td>\n",
       "      <td>0.00</td>\n",
       "      <td>0.00</td>\n",
       "      <td>0.00</td>\n",
       "      <td>0.0</td>\n",
       "      <td>0.00</td>\n",
       "      <td>0.00</td>\n",
       "      <td>0.0</td>\n",
       "      <td>1.0</td>\n",
       "      <td>0.00</td>\n",
       "      <td>2.0</td>\n",
       "      <td>0.0</td>\n",
       "      <td>1.5</td>\n",
       "      <td>0.0</td>\n",
       "      <td>0.00</td>\n",
       "      <td>0.00</td>\n",
       "      <td>0.00</td>\n",
       "      <td>0.00</td>\n",
       "      <td>0.01</td>\n",
       "      <td>8.0</td>\n",
       "      <td>8.00</td>\n",
       "      <td>0.31</td>\n",
       "      <td>0.08</td>\n",
       "      <td>0.05</td>\n",
       "      <td>0.00</td>\n",
       "      <td>0.11</td>\n",
       "      <td>54.55</td>\n",
       "      <td>10.998</td>\n",
       "    </tr>\n",
       "    <tr>\n",
       "      <th>1</th>\n",
       "      <td>KA03_02</td>\n",
       "      <td>namrtad82@gmail.com</td>\n",
       "      <td>Namrta Dixit</td>\n",
       "      <td>9.630908e+09</td>\n",
       "      <td>BIO_01Neha</td>\n",
       "      <td>1.50</td>\n",
       "      <td>0.54</td>\n",
       "      <td>1.11</td>\n",
       "      <td>1.0</td>\n",
       "      <td>0.03</td>\n",
       "      <td>0.08</td>\n",
       "      <td>0.03</td>\n",
       "      <td>0.13</td>\n",
       "      <td>1.5</td>\n",
       "      <td>0.06</td>\n",
       "      <td>0.08</td>\n",
       "      <td>0.09</td>\n",
       "      <td>0.11</td>\n",
       "      <td>0.00</td>\n",
       "      <td>0.0</td>\n",
       "      <td>0.05</td>\n",
       "      <td>0.03</td>\n",
       "      <td>0.04</td>\n",
       "      <td>1.0</td>\n",
       "      <td>0.03</td>\n",
       "      <td>0.03</td>\n",
       "      <td>0.00</td>\n",
       "      <td>0.00</td>\n",
       "      <td>1.0</td>\n",
       "      <td>0.00</td>\n",
       "      <td>0.0</td>\n",
       "      <td>0.05</td>\n",
       "      <td>0.08</td>\n",
       "      <td>0.00</td>\n",
       "      <td>0.00</td>\n",
       "      <td>0.0</td>\n",
       "      <td>0.05</td>\n",
       "      <td>0.03</td>\n",
       "      <td>0.04</td>\n",
       "      <td>0.04</td>\n",
       "      <td>0.00</td>\n",
       "      <td>1.0</td>\n",
       "      <td>0.04</td>\n",
       "      <td>0.06</td>\n",
       "      <td>0.0</td>\n",
       "      <td>0.0</td>\n",
       "      <td>0.00</td>\n",
       "      <td>1.0</td>\n",
       "      <td>0.0</td>\n",
       "      <td>0.0</td>\n",
       "      <td>0.0</td>\n",
       "      <td>1.03</td>\n",
       "      <td>1.63</td>\n",
       "      <td>1.12</td>\n",
       "      <td>0.58</td>\n",
       "      <td>4.36</td>\n",
       "      <td>6.5</td>\n",
       "      <td>10.83</td>\n",
       "      <td>78.73</td>\n",
       "      <td>22.59</td>\n",
       "      <td>20.23</td>\n",
       "      <td>28.90</td>\n",
       "      <td>37.62</td>\n",
       "      <td>50.00</td>\n",
       "      <td>40.090</td>\n",
       "    </tr>\n",
       "    <tr>\n",
       "      <th>2</th>\n",
       "      <td>KA03_03</td>\n",
       "      <td>amalendus4nair@gmail.com</td>\n",
       "      <td>Amalendu Sasikumar Nair</td>\n",
       "      <td>9.496757e+09</td>\n",
       "      <td>BIO_01Neha</td>\n",
       "      <td>0.00</td>\n",
       "      <td>0.00</td>\n",
       "      <td>0.00</td>\n",
       "      <td>0.0</td>\n",
       "      <td>0.00</td>\n",
       "      <td>0.00</td>\n",
       "      <td>0.00</td>\n",
       "      <td>0.00</td>\n",
       "      <td>1.5</td>\n",
       "      <td>0.00</td>\n",
       "      <td>0.00</td>\n",
       "      <td>0.00</td>\n",
       "      <td>0.00</td>\n",
       "      <td>1.00</td>\n",
       "      <td>1.0</td>\n",
       "      <td>0.00</td>\n",
       "      <td>0.00</td>\n",
       "      <td>0.04</td>\n",
       "      <td>0.0</td>\n",
       "      <td>0.00</td>\n",
       "      <td>0.00</td>\n",
       "      <td>0.00</td>\n",
       "      <td>0.72</td>\n",
       "      <td>1.0</td>\n",
       "      <td>0.00</td>\n",
       "      <td>0.0</td>\n",
       "      <td>0.00</td>\n",
       "      <td>0.00</td>\n",
       "      <td>0.00</td>\n",
       "      <td>0.00</td>\n",
       "      <td>0.0</td>\n",
       "      <td>0.00</td>\n",
       "      <td>0.00</td>\n",
       "      <td>0.00</td>\n",
       "      <td>0.00</td>\n",
       "      <td>0.00</td>\n",
       "      <td>0.0</td>\n",
       "      <td>0.00</td>\n",
       "      <td>0.00</td>\n",
       "      <td>0.0</td>\n",
       "      <td>0.0</td>\n",
       "      <td>0.00</td>\n",
       "      <td>0.0</td>\n",
       "      <td>0.0</td>\n",
       "      <td>0.0</td>\n",
       "      <td>0.0</td>\n",
       "      <td>0.00</td>\n",
       "      <td>0.00</td>\n",
       "      <td>1.72</td>\n",
       "      <td>0.04</td>\n",
       "      <td>1.76</td>\n",
       "      <td>3.5</td>\n",
       "      <td>5.26</td>\n",
       "      <td>0.00</td>\n",
       "      <td>0.01</td>\n",
       "      <td>34.46</td>\n",
       "      <td>3.69</td>\n",
       "      <td>9.54</td>\n",
       "      <td>27.27</td>\n",
       "      <td>13.086</td>\n",
       "    </tr>\n",
       "    <tr>\n",
       "      <th>3</th>\n",
       "      <td>KA03_26</td>\n",
       "      <td>anaswara2928@gmail.com</td>\n",
       "      <td>Anaswara H</td>\n",
       "      <td>7.736603e+09</td>\n",
       "      <td>BIO_01Neha</td>\n",
       "      <td>1.39</td>\n",
       "      <td>0.69</td>\n",
       "      <td>0.29</td>\n",
       "      <td>0.0</td>\n",
       "      <td>0.09</td>\n",
       "      <td>0.10</td>\n",
       "      <td>0.04</td>\n",
       "      <td>1.07</td>\n",
       "      <td>0.0</td>\n",
       "      <td>0.35</td>\n",
       "      <td>0.04</td>\n",
       "      <td>0.08</td>\n",
       "      <td>0.17</td>\n",
       "      <td>0.24</td>\n",
       "      <td>0.0</td>\n",
       "      <td>0.04</td>\n",
       "      <td>0.05</td>\n",
       "      <td>0.20</td>\n",
       "      <td>0.0</td>\n",
       "      <td>0.04</td>\n",
       "      <td>0.05</td>\n",
       "      <td>0.17</td>\n",
       "      <td>1.16</td>\n",
       "      <td>1.0</td>\n",
       "      <td>0.34</td>\n",
       "      <td>0.0</td>\n",
       "      <td>0.08</td>\n",
       "      <td>0.09</td>\n",
       "      <td>0.08</td>\n",
       "      <td>1.04</td>\n",
       "      <td>0.0</td>\n",
       "      <td>0.03</td>\n",
       "      <td>0.04</td>\n",
       "      <td>0.05</td>\n",
       "      <td>0.09</td>\n",
       "      <td>0.14</td>\n",
       "      <td>0.0</td>\n",
       "      <td>0.04</td>\n",
       "      <td>0.04</td>\n",
       "      <td>0.2</td>\n",
       "      <td>0.0</td>\n",
       "      <td>0.12</td>\n",
       "      <td>1.0</td>\n",
       "      <td>0.0</td>\n",
       "      <td>0.0</td>\n",
       "      <td>0.0</td>\n",
       "      <td>1.76</td>\n",
       "      <td>3.06</td>\n",
       "      <td>2.93</td>\n",
       "      <td>0.89</td>\n",
       "      <td>8.64</td>\n",
       "      <td>2.0</td>\n",
       "      <td>10.64</td>\n",
       "      <td>93.48</td>\n",
       "      <td>52.00</td>\n",
       "      <td>54.53</td>\n",
       "      <td>44.47</td>\n",
       "      <td>61.12</td>\n",
       "      <td>13.64</td>\n",
       "      <td>51.624</td>\n",
       "    </tr>\n",
       "    <tr>\n",
       "      <th>4</th>\n",
       "      <td>KA03_05</td>\n",
       "      <td>swathi.deepak@mbty.christuniversity.in</td>\n",
       "      <td>Swathi Nayak</td>\n",
       "      <td>9.606190e+09</td>\n",
       "      <td>BIO_01Neha</td>\n",
       "      <td>0.00</td>\n",
       "      <td>0.00</td>\n",
       "      <td>0.00</td>\n",
       "      <td>0.0</td>\n",
       "      <td>0.00</td>\n",
       "      <td>0.00</td>\n",
       "      <td>0.00</td>\n",
       "      <td>0.00</td>\n",
       "      <td>0.0</td>\n",
       "      <td>0.00</td>\n",
       "      <td>0.00</td>\n",
       "      <td>0.00</td>\n",
       "      <td>0.00</td>\n",
       "      <td>0.00</td>\n",
       "      <td>0.0</td>\n",
       "      <td>0.00</td>\n",
       "      <td>0.00</td>\n",
       "      <td>0.00</td>\n",
       "      <td>0.0</td>\n",
       "      <td>0.00</td>\n",
       "      <td>0.00</td>\n",
       "      <td>0.00</td>\n",
       "      <td>0.00</td>\n",
       "      <td>0.0</td>\n",
       "      <td>0.00</td>\n",
       "      <td>0.0</td>\n",
       "      <td>0.00</td>\n",
       "      <td>0.00</td>\n",
       "      <td>0.00</td>\n",
       "      <td>0.00</td>\n",
       "      <td>0.0</td>\n",
       "      <td>0.00</td>\n",
       "      <td>0.00</td>\n",
       "      <td>0.00</td>\n",
       "      <td>0.00</td>\n",
       "      <td>0.00</td>\n",
       "      <td>0.0</td>\n",
       "      <td>0.00</td>\n",
       "      <td>0.00</td>\n",
       "      <td>0.0</td>\n",
       "      <td>0.0</td>\n",
       "      <td>0.00</td>\n",
       "      <td>0.0</td>\n",
       "      <td>0.0</td>\n",
       "      <td>0.0</td>\n",
       "      <td>0.0</td>\n",
       "      <td>0.00</td>\n",
       "      <td>0.00</td>\n",
       "      <td>0.00</td>\n",
       "      <td>0.00</td>\n",
       "      <td>0.00</td>\n",
       "      <td>0.0</td>\n",
       "      <td>0.00</td>\n",
       "      <td>0.00</td>\n",
       "      <td>0.00</td>\n",
       "      <td>0.00</td>\n",
       "      <td>0.00</td>\n",
       "      <td>0.00</td>\n",
       "      <td>0.00</td>\n",
       "      <td>0.000</td>\n",
       "    </tr>\n",
       "  </tbody>\n",
       "</table>\n",
       "</div>"
      ],
      "text/plain": [
       "  Mentee ID                                   Email              Mentee Name  \\\n",
       "0   KA03_01            rangarirohinireddy@gmail.com    Rohini Reddy Rangari    \n",
       "1   KA03_02                     namrtad82@gmail.com             Namrta Dixit   \n",
       "2   KA03_03                amalendus4nair@gmail.com  Amalendu Sasikumar Nair   \n",
       "3   KA03_26                  anaswara2928@gmail.com               Anaswara H   \n",
       "4   KA03_05  swathi.deepak@mbty.christuniversity.in             Swathi Nayak   \n",
       "\n",
       "   Mobile Number  Group Name  WK0_SUK_V  WK0_MM1  WK1_Master1  \\\n",
       "0   6.281661e+09  BIO_01Neha       0.00     0.00         0.00   \n",
       "1   9.630908e+09  BIO_01Neha       1.50     0.54         1.11   \n",
       "2   9.496757e+09  BIO_01Neha       0.00     0.00         0.00   \n",
       "3   7.736603e+09  BIO_01Neha       1.39     0.69         0.29   \n",
       "4   9.606190e+09  BIO_01Neha       0.00     0.00         0.00   \n",
       "\n",
       "   WK1_Mentor_Interaction  WK2_V1  WK2_V2  WK2_V3  WK2_SUK_V  \\\n",
       "0                     0.0    0.00    0.00    0.00       0.00   \n",
       "1                     1.0    0.03    0.08    0.03       0.13   \n",
       "2                     0.0    0.00    0.00    0.00       0.00   \n",
       "3                     0.0    0.09    0.10    0.04       1.07   \n",
       "4                     0.0    0.00    0.00    0.00       0.00   \n",
       "\n",
       "   WK2_Mentor_Interaction  WK3_V1  WK3_V2  WK3_V3  WK3_V4  WK3_Master2  \\\n",
       "0                     1.5    0.00    0.00    0.00    0.00         0.00   \n",
       "1                     1.5    0.06    0.08    0.09    0.11         0.00   \n",
       "2                     1.5    0.00    0.00    0.00    0.00         1.00   \n",
       "3                     0.0    0.35    0.04    0.08    0.17         0.24   \n",
       "4                     0.0    0.00    0.00    0.00    0.00         0.00   \n",
       "\n",
       "   WK3_Mentor_Interaction  WK4_V1  WK4_V2  WK4_MM2  WK4_Mentor_Interaction  \\\n",
       "0                     1.0    0.00    0.00     0.00                     0.0   \n",
       "1                     0.0    0.05    0.03     0.04                     1.0   \n",
       "2                     1.0    0.00    0.00     0.04                     0.0   \n",
       "3                     0.0    0.04    0.05     0.20                     0.0   \n",
       "4                     0.0    0.00    0.00     0.00                     0.0   \n",
       "\n",
       "   WK5_V1  WK5_V2  WK5_V3  WK5_Master3  WK5_Mentor_Interaction  WK6_SUK_V  \\\n",
       "0    0.00    0.00    0.00         0.00                     1.0       0.00   \n",
       "1    0.03    0.03    0.00         0.00                     1.0       0.00   \n",
       "2    0.00    0.00    0.00         0.72                     1.0       0.00   \n",
       "3    0.04    0.05    0.17         1.16                     1.0       0.34   \n",
       "4    0.00    0.00    0.00         0.00                     0.0       0.00   \n",
       "\n",
       "   WK6_Mentor_Interaction  WK7_V1  WK7_V2  WK7_V3  WK7_Master4  \\\n",
       "0                     0.0    0.00    0.00    0.00         0.00   \n",
       "1                     0.0    0.05    0.08    0.00         0.00   \n",
       "2                     0.0    0.00    0.00    0.00         0.00   \n",
       "3                     0.0    0.08    0.09    0.08         1.04   \n",
       "4                     0.0    0.00    0.00    0.00         0.00   \n",
       "\n",
       "   WK7_Mentor_Interaction  WK8_V1  WK8_V2  WK8_V3  WK8_V4  WK8_SUK_V  \\\n",
       "0                     0.0    0.00    0.00    0.00    0.00       0.00   \n",
       "1                     0.0    0.05    0.03    0.04    0.04       0.00   \n",
       "2                     0.0    0.00    0.00    0.00    0.00       0.00   \n",
       "3                     0.0    0.03    0.04    0.05    0.09       0.14   \n",
       "4                     0.0    0.00    0.00    0.00    0.00       0.00   \n",
       "\n",
       "   WK8_Mentor_Interaction  WK9_V1  WK9_V2  WK9_Master5  \\\n",
       "0                     0.0    0.00    0.00          0.0   \n",
       "1                     1.0    0.04    0.06          0.0   \n",
       "2                     0.0    0.00    0.00          0.0   \n",
       "3                     0.0    0.04    0.04          0.2   \n",
       "4                     0.0    0.00    0.00          0.0   \n",
       "\n",
       "   WK9_Mentor_Interaction  WK10_SUK_V  WK10_Mentor_Interaction  \\\n",
       "0                     1.0        0.00                      2.0   \n",
       "1                     0.0        0.00                      1.0   \n",
       "2                     0.0        0.00                      0.0   \n",
       "3                     0.0        0.12                      1.0   \n",
       "4                     0.0        0.00                      0.0   \n",
       "\n",
       "   WK11_Mentor_Interaction  WK12_Mentor_Interaction  WK13_Mentor_Interaction  \\\n",
       "0                      0.0                      1.5                      0.0   \n",
       "1                      0.0                      0.0                      0.0   \n",
       "2                      0.0                      0.0                      0.0   \n",
       "3                      0.0                      0.0                      0.0   \n",
       "4                      0.0                      0.0                      0.0   \n",
       "\n",
       "   Pre_Recorded_Total_Hours  SUK_Total_Hours  Masterclass_Total_Hours  \\\n",
       "0                      0.00             0.00                     0.00   \n",
       "1                      1.03             1.63                     1.12   \n",
       "2                      0.00             0.00                     1.72   \n",
       "3                      1.76             3.06                     2.93   \n",
       "4                      0.00             0.00                     0.00   \n",
       "\n",
       "   MM_Total_Hours  Course_Total_Hours  Mentor_Interaction_Total_Hours  \\\n",
       "0            0.00                0.01                             8.0   \n",
       "1            0.58                4.36                             6.5   \n",
       "2            0.04                1.76                             3.5   \n",
       "3            0.89                8.64                             2.0   \n",
       "4            0.00                0.00                             0.0   \n",
       "\n",
       "   Program_Total_Hours  Pre_Recorded_Percentage  SUK_Percentage  \\\n",
       "0                 8.00                     0.31            0.08   \n",
       "1                10.83                    78.73           22.59   \n",
       "2                 5.26                     0.00            0.01   \n",
       "3                10.64                    93.48           52.00   \n",
       "4                 0.00                     0.00            0.00   \n",
       "\n",
       "   Masterclass_Percentage  MM_Percentage  Course_Percentage  \\\n",
       "0                    0.05           0.00               0.11   \n",
       "1                   20.23          28.90              37.62   \n",
       "2                   34.46           3.69               9.54   \n",
       "3                   54.53          44.47              61.12   \n",
       "4                    0.00           0.00               0.00   \n",
       "\n",
       "   Mentor_Interaction_Percentage  Program_Percentage  \n",
       "0                          54.55              10.998  \n",
       "1                          50.00              40.090  \n",
       "2                          27.27              13.086  \n",
       "3                          13.64              51.624  \n",
       "4                           0.00               0.000  "
      ]
     },
     "execution_count": 138,
     "metadata": {},
     "output_type": "execute_result"
    }
   ],
   "source": [
    "overall.head()"
   ]
  },
  {
   "cell_type": "code",
   "execution_count": 139,
   "id": "84988f84-fd92-4f23-a0bf-c2f78b240b9e",
   "metadata": {},
   "outputs": [],
   "source": [
    "# Drop columns starting with 'WK'\n",
    "overall = overall.loc[:, ~overall.columns.str.startswith('WK')]"
   ]
  },
  {
   "cell_type": "code",
   "execution_count": 140,
   "id": "464b00a7-eee4-489a-af13-02345cb6725b",
   "metadata": {},
   "outputs": [],
   "source": [
    "# Drop columns starting with 'WK'\n",
    "overall = overall.loc[:, ~overall.columns.str.startswith('Course')]"
   ]
  },
  {
   "cell_type": "code",
   "execution_count": 141,
   "id": "d22cfccc-4849-42ee-9366-5908a43b0d8d",
   "metadata": {},
   "outputs": [],
   "source": [
    "# Rounding off\n",
    "overall=overall.round(2)"
   ]
  },
  {
   "cell_type": "code",
   "execution_count": 142,
   "id": "e2fcb310-648b-4bef-a6ff-b9ce5705249d",
   "metadata": {},
   "outputs": [],
   "source": [
    "# merged_df is your final DataFrame\n",
    "output_directory = r'C:\\Users\\spjay\\OneDrive - VigyanShaala\\02 Products  Initiatives\\01 SheForSTEM\\05 Kalpana M&E\\00 DBMS 1.0\\Kalpana\\Kalpana\\05 Accelerator\\Accelerator 3.0\\output'\n",
    "\n",
    "# Create the directory if it doesn't exist\n",
    "if not os.path.exists(output_directory):\n",
    "    os.makedirs(output_directory)\n",
    "\n",
    "output_path = os.path.join(output_directory, 'Overall Attendance Tracking.csv')\n",
    "overall.to_csv(output_path, index=False)\n"
   ]
  },
  {
   "cell_type": "code",
   "execution_count": 143,
   "id": "737e80c6-0849-43f5-9368-68c031a8e377",
   "metadata": {},
   "outputs": [
    {
     "data": {
      "text/plain": [
       "Index(['Mentee ID', 'Email', 'Mentee Name', 'Mobile Number', 'Group Name',\n",
       "       'Pre_Recorded_Total_Hours', 'SUK_Total_Hours',\n",
       "       'Masterclass_Total_Hours', 'MM_Total_Hours',\n",
       "       'Mentor_Interaction_Total_Hours', 'Program_Total_Hours',\n",
       "       'Pre_Recorded_Percentage', 'SUK_Percentage', 'Masterclass_Percentage',\n",
       "       'MM_Percentage', 'Mentor_Interaction_Percentage', 'Program_Percentage'],\n",
       "      dtype='object')"
      ]
     },
     "execution_count": 143,
     "metadata": {},
     "output_type": "execute_result"
    }
   ],
   "source": [
    "overall.columns"
   ]
  },
  {
   "cell_type": "code",
   "execution_count": 144,
   "id": "8e2d54b6-25ff-4547-a78b-6e896654e4a1",
   "metadata": {},
   "outputs": [],
   "source": [
    "# List of columns to keep\n",
    "columns_to_keep = ['Email',\n",
    "    'Mentor_Interaction_Total_Hours',\n",
    "    'Pre_Recorded_Total_Hours',\n",
    "    'SUK_Total_Hours',\n",
    "    'Masterclass_Total_Hours',\n",
    "    'MM_Total_Hours',\n",
    "    'Program_Total_Hours',\n",
    "    'Pre_Recorded_Percentage',\n",
    "    'SUK_Percentage',\n",
    "    'Masterclass_Percentage',\n",
    "    'MM_Percentage',\n",
    "    'Mentor_Interaction_Percentage',\n",
    "    'Program_Percentage'\n",
    "]\n",
    "\n",
    "# Create a new DataFrame with the filtered columns\n",
    "overall_db = overall[columns_to_keep]"
   ]
  },
  {
   "cell_type": "markdown",
   "id": "cc26df04-a701-4942-b076-755c61e81ef1",
   "metadata": {},
   "source": [
    "# Attendance monitoring & Overall MySQL table"
   ]
  },
  {
   "cell_type": "code",
   "execution_count": 145,
   "id": "05519ad1-a935-4e36-9f4c-86deda070835",
   "metadata": {},
   "outputs": [],
   "source": [
    "oldcol = [col for col in oldcol if not col.startswith(\"Week\")]"
   ]
  },
  {
   "cell_type": "code",
   "execution_count": 146,
   "id": "bb21761a-7fe8-402b-9aa7-5501512d9ab1",
   "metadata": {},
   "outputs": [
    {
     "data": {
      "text/plain": [
       "['Email',\n",
       " 'SUK ! : Kalpana Accelerator Mentees Orientation Session - 664dbaa7bb3f0b60dc216e98',\n",
       " 'MM ! : Mentor - mentee mixer event - 664dbb23583bd42868f1b6ca',\n",
       " 'Master Class !% : Cutting-edge AI tools to find credible research information - 664dbedc1723ba4c83b6b5e8',\n",
       " 'Video #* : What is creativity & growth mindset? - 62b3fe500cf2f5120a60c95b',\n",
       " 'Video #? : Why is it important to have a creativity & growth mindset ? - 62b3fe750cf2f5120a60c972',\n",
       " 'Video $+ : How to develop a creative growth mindset ? - 62b3fe6d0cf2f5120a60c971',\n",
       " 'SUK @ : Session 1 - Saturday, 29 June 2024 - 664dc110583bd42868f1b87f',\n",
       " 'Video $! : What is critical thinking and why is it important ? - 62ac23340cf29ec26dfc3e91',\n",
       " 'Video $@ : The scientific temperament - 62b3fec80cf2f5120a60c981',\n",
       " 'Video $# : Scientific temper & critical thinking - 62b3fec50cf2f5120a60c97e',\n",
       " 'Video $$ : The scientific method - 62b3feee0cf2f5120a60c99d',\n",
       " 'Master Class !@ : STEM habits and Scientific Temperament - Saturday, 6 July 2024 - 668931cd04c22a671059c480',\n",
       " 'Video $% : What is collaboration and why is it important ? - 62b3fed00cf2f5120a60c988',\n",
       " 'Video $^ : The six facets of the collaborative process - 62b3fed50cf2f5120a60c98a',\n",
       " 'MM @ : Mentee mixer event - Saturday, 13 July 2024 - Saturday, 13 July 2024 - 664dc38676033b0c0efdcfc2',\n",
       " 'Video $& : Importance of problem solving - 62b3fef30cf2f5120a60c99f',\n",
       " 'Video $* : Skills required for effective problem solving - 62b3ff020cf2f5120a60c9a0',\n",
       " 'Video @! : Research methodology - 62b3ff3d0cf2f5120a60c9a6',\n",
       " 'Master Class !# : Cover letter for job application (focus on how to highlight STEM skills)  - Saturday, 20 July 2024 - 664dddd9556adc4ddd471897',\n",
       " 'SUK # : Session 2 -  - Saturday, 27 July 2024 - 664dde3c53ac7b41327c7e6c',\n",
       " 'Video @? : Communication - An introduction - 62e51fe80cf26c0aa689cd61',\n",
       " 'Video #! : Types of communication - 62e76e830cf29f3db8f013fa',\n",
       " 'Video #+ : Skills required for effective communication - 62e76e720cf26c0aa68a2064',\n",
       " 'Master Class !! : Interviewing skills - Saturday, 3 August 2024 - 664de18d0c202521db73200d',\n",
       " 'Video #@ : Communication Techinique - Structuring the idea - 62e5220c0cf29950c6b59fdb',\n",
       " 'Video #$ : Communication technique - ELI5 - 62e522230cf29950c6b59fe4',\n",
       " 'Video #% : Communication technique - 3Ws - 62e521d80cf26c0aa689cd98',\n",
       " 'Video ## : Communication technique - The golden circle - 62e521a40cf26c0aa689cd92',\n",
       " 'SUK $ : Session 3 - Saturday, 10 August 2024 - 664de801746bdb52e174139a',\n",
       " 'Video #^ : Mistakes to avoid - 62e521db0cf29950c6b59fc4',\n",
       " 'Video #& : Crux of communication - 62e76eea0cf29f3db8f01449',\n",
       " 'Master Class !$ : Personal Branding/Elevator pitch - Saturday, 17 August 2024 - 664de8ea67192d20b02f47b7',\n",
       " 'SUK % : Session 4 - Saturday, 24 August 2024 - 664de99076e44e67bd953d6f']"
      ]
     },
     "execution_count": 146,
     "metadata": {},
     "output_type": "execute_result"
    }
   ],
   "source": [
    "oldcol"
   ]
  },
  {
   "cell_type": "code",
   "execution_count": 147,
   "id": "a62b3c9e-917c-43c2-a79e-e33620fcf7fe",
   "metadata": {},
   "outputs": [
    {
     "name": "stdout",
     "output_type": "stream",
     "text": [
      "34\n"
     ]
    }
   ],
   "source": [
    "num_columns_to_rename = min(len(merged_db.columns), len(oldcol))\n",
    "print(num_columns_to_rename)"
   ]
  },
  {
   "cell_type": "code",
   "execution_count": 148,
   "id": "4e378fe7-115e-4eae-8af4-0a709eb182fe",
   "metadata": {},
   "outputs": [],
   "source": [
    "merged_db.rename(columns=dict(zip(merged_db.columns[:num_columns_to_rename], oldcol[:num_columns_to_rename])), inplace=True)"
   ]
  },
  {
   "cell_type": "code",
   "execution_count": 149,
   "id": "1c1d7770-3462-4659-b23f-88a5c1903451",
   "metadata": {},
   "outputs": [],
   "source": [
    "merged_db.columns = merged_db.columns.str.strip()"
   ]
  },
  {
   "cell_type": "code",
   "execution_count": 150,
   "id": "5039c26d-3c9d-4058-a4da-9063495f6207",
   "metadata": {},
   "outputs": [],
   "source": [
    "def rename_column(col):\n",
    "    # Split the column name by space\n",
    "    parts = col.split()\n",
    "    special_chars = {'!': '1', '@': '2', '#': '3', '$': '4', '%': '5', '^': '6', '&': '7', '*': '8', '?': '9', '+': '0'}\n",
    "    \n",
    "    # If the first part is 'SUK', add the number corresponding to the last character\n",
    "    if parts[0] == 'SUK':\n",
    "        return parts[0] + special_chars.get(parts[1][-1], '0')\n",
    "    \n",
    "    # If the first part is 'Video', use the prefix 'VID' and the numbers corresponding to the last two characters\n",
    "    elif parts[0] == 'Video':\n",
    "        last_char = parts[1][-1]\n",
    "        second_last_char = parts[1][-2] if len(parts[1]) > 1 else '+'\n",
    "        return 'VID' + special_chars.get(second_last_char, '0') + special_chars.get(last_char, '0')\n",
    "\n",
    "    # If the first part is 'MM', use the prefix 'MM' and the numbers corresponding to the last two characters\n",
    "    elif parts[0] == 'MM':\n",
    "        last_char = parts[1][-1]\n",
    "        second_last_char = parts[1][-2] if len(parts[1]) > 1 else '+'\n",
    "        return 'MM' + special_chars.get(second_last_char, '0') + special_chars.get(last_char, '0')\n",
    "    \n",
    "    # If the first part contains 'Master' and 'Class' is present, use the prefix 'MC' and the numbers corresponding to the last two characters\n",
    "    elif 'Master' in parts and 'Class' in parts:\n",
    "        index = parts.index('Master')\n",
    "        last_char = parts[index + 2][-1]\n",
    "        second_last_char = parts[index + 2][-2] if len(parts[index + 2]) > 1 else '+'\n",
    "        return 'MC' + special_chars.get(second_last_char, '0') + special_chars.get(last_char, '0')\n",
    "    \n",
    "    # Otherwise, return the column name as it is\n",
    "    else:\n",
    "        return col\n"
   ]
  },
  {
   "cell_type": "code",
   "execution_count": 151,
   "id": "fd61c4db-1aaa-4ca3-9fee-0178fcac2f02",
   "metadata": {},
   "outputs": [],
   "source": [
    "# Rename the column names using the rename_column function\n",
    "merged_db.rename(columns=rename_column, inplace=True)"
   ]
  },
  {
   "cell_type": "code",
   "execution_count": 153,
   "id": "5ab0fdfa-9caa-4f61-bea7-dd3988c1edb9",
   "metadata": {},
   "outputs": [],
   "source": [
    "# Rename the column name\n",
    "merged_db = merged_db.rename(columns={'Course_Total_Hours': 'Central_Curriclum_Total_Hours'})\n",
    "merged_db = merged_db.rename(columns={'Course_Percentage': 'Central_Curriclum_Percentage'})\n"
   ]
  },
  {
   "cell_type": "code",
   "execution_count": null,
   "id": "26447a6c-a14c-4ac6-87c1-da18a4900520",
   "metadata": {},
   "outputs": [],
   "source": [
    "conn= msql.connect(host='',user='',password=\"\",database=\"\",auth_plugin='')\n",
    "cursor =conn.cursor() "
   ]
  },
  {
   "cell_type": "code",
   "execution_count": 155,
   "id": "2b0ca9a0-83c5-4a57-a031-47306b2abb44",
   "metadata": {},
   "outputs": [],
   "source": [
    "# Get the existing columns in the database\n",
    "cursor.execute(\"SHOW COLUMNS FROM 19_accelerator_and_attendance_monitoring\")\n",
    "existing_columns = [col[0] for col in cursor.fetchall()]\n",
    "\n",
    "# Define the column name before which the new column should be added\n",
    "target_column = 'Pre_Recorded_Total_Hours'\n",
    "\n",
    "# Check if any new columns exist in the dataframe but not in the database\n",
    "new_columns = [col for col in merged_db.columns if col not in existing_columns]\n",
    "if new_columns:\n",
    "    # Add new columns to the database before the target column\n",
    "    for col in reversed(new_columns):\n",
    "        if col not in existing_columns:\n",
    "            # Get the index of the target column\n",
    "            target_column_index = existing_columns.index(target_column)\n",
    "            # Set the data type based on whether the column name starts with Comment\n",
    "            data_type = \"float\" \n",
    "            alter_query = f\"ALTER TABLE 19_accelerator_and_attendance_monitoring ADD COLUMN {col} {data_type} AFTER {existing_columns[target_column_index - 1]}\"\n",
    "            cursor.execute(alter_query)\n",
    "            existing_columns.insert(target_column_index - 1, col)"
   ]
  },
  {
   "cell_type": "code",
   "execution_count": 156,
   "id": "d27d387b-746c-4212-99ab-0b88debde541",
   "metadata": {},
   "outputs": [],
   "source": [
    "# Your existing code for inserting data into the database table\n",
    "for i, row in merged_db.iterrows():\n",
    "    row = [None if isinstance(val, float) and math.isnan(val) else val for val in row] # replace \"nan\" values with None\n",
    "    columns = ','.join(merged_db.columns)\n",
    "    placeholders = ','.join(['%s']*len(row))\n",
    "    # Construct the INSERT query with ON DUPLICATE KEY UPDATE clause\n",
    "    query = f\"INSERT INTO 19_accelerator_and_attendance_monitoring ({columns}) VALUES ({placeholders}) ON DUPLICATE KEY UPDATE \"\n",
    "    query += \", \".join([f\"{col}=VALUES({col})\" for col in merged_db.columns if col != 'Email'])\n",
    "    # Execute the query\n",
    "    cursor.execute(query, tuple(row))"
   ]
  },
  {
   "cell_type": "code",
   "execution_count": 157,
   "id": "b69bfd09-78a7-4de8-a851-a11f8220fa20",
   "metadata": {},
   "outputs": [],
   "source": [
    "# Get the existing columns in the database\n",
    "cursor.execute(\"SHOW COLUMNS FROM 20_accelerator_overall_attendance_tracking\")\n",
    "existing_columns = [col[0] for col in cursor.fetchall()]\n",
    "\n",
    "# Define the column name before which the new column should be added\n",
    "target_column = 'Pre_Recorded_Percentage'\n",
    "\n",
    "# Check if any new columns exist in the dataframe but not in the database\n",
    "new_columns = [col for col in overall_db.columns if col not in existing_columns]\n",
    "if new_columns:\n",
    "    # Add new columns to the database before the target column\n",
    "    for col in reversed(new_columns):\n",
    "        if col not in existing_columns:\n",
    "            # Get the index of the target column\n",
    "            target_column_index = existing_columns.index(target_column)\n",
    "            # Set the data type based on whether the column name starts with Comment\n",
    "            data_type = \"float\" \n",
    "            alter_query = f\"ALTER TABLE 20_accelerator_overall_attendance_tracking ADD COLUMN {col} {data_type} AFTER {existing_columns[target_column_index - 1]}\"\n",
    "            cursor.execute(alter_query)\n",
    "            existing_columns.insert(target_column_index - 1, col)"
   ]
  },
  {
   "cell_type": "code",
   "execution_count": 158,
   "id": "b1c0437d-a67b-47f0-ac93-589df7467856",
   "metadata": {},
   "outputs": [],
   "source": [
    "# Your existing code for inserting data into the database table\n",
    "for i, row in overall_db.iterrows():\n",
    "    row = [None if isinstance(val, float) and math.isnan(val) else val for val in row] # replace \"nan\" values with None\n",
    "    columns = ','.join(overall_db.columns)\n",
    "    placeholders = ','.join(['%s']*len(row))\n",
    "    # Construct the INSERT query with ON DUPLICATE KEY UPDATE clause\n",
    "    query = f\"INSERT INTO 20_accelerator_overall_attendance_tracking ({columns}) VALUES ({placeholders}) ON DUPLICATE KEY UPDATE \"\n",
    "    query += \", \".join([f\"{col}=VALUES({col})\" for col in overall_db.columns if col != 'Email'])\n",
    "    # Execute the query\n",
    "    cursor.execute(query, tuple(row))"
   ]
  },
  {
   "cell_type": "code",
   "execution_count": 159,
   "id": "aeede4bf-a29e-4ea9-8d09-f3edfc74ae27",
   "metadata": {},
   "outputs": [],
   "source": [
    "conn.commit()"
   ]
  }
 ],
 "metadata": {
  "kernelspec": {
   "display_name": "Python 3 (ipykernel)",
   "language": "python",
   "name": "python3"
  },
  "language_info": {
   "codemirror_mode": {
    "name": "ipython",
    "version": 3
   },
   "file_extension": ".py",
   "mimetype": "text/x-python",
   "name": "python",
   "nbconvert_exporter": "python",
   "pygments_lexer": "ipython3",
   "version": "3.11.7"
  }
 },
 "nbformat": 4,
 "nbformat_minor": 5
}
