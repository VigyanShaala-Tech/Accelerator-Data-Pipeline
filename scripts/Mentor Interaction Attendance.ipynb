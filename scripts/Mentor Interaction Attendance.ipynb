{
 "cells": [
  {
   "cell_type": "code",
   "execution_count": 1,
   "id": "8d12a40a-f573-4d98-a0ef-2b555da17d47",
   "metadata": {},
   "outputs": [],
   "source": [
    "# Importing the pandas library for data manipulation\n",
    "import pandas as pd \n",
    "\n",
    "# Importing the re library for regular expression operations\n",
    "import re \n",
    "\n",
    "# Importing the os library for operating system dependent functionality\n",
    "import os \n",
    "\n",
    "# Importing the mysql.connector library for connecting to MySQL databases\n",
    "import mysql.connector as msql \n",
    "\n",
    "# Importing the math library for mathematical operations\n",
    "import math\n",
    "\n",
    "import numpy as np"
   ]
  },
  {
   "cell_type": "code",
   "execution_count": 2,
   "id": "155b5a4f-a09b-498f-8c4a-2ecea57c1a3c",
   "metadata": {},
   "outputs": [
    {
     "name": "stdout",
     "output_type": "stream",
     "text": [
      "Data from General Information.xlsx:\n"
     ]
    }
   ],
   "source": [
    "# Specifying the directory path where the Excel files are located\n",
    "directory_path = r\"C:\\Users\\spjay\\OneDrive - VigyanShaala\\02 Products  Initiatives\\01 SheForSTEM\\05 Kalpana M&E\\00 DBMS 1.0\\Kalpana\\Kalpana\\05 Accelerator\\Accelerator 3.0\\data_files\\01 General Info\"\n",
    "\n",
    "# Creating a list of Excel files in the specified directory\n",
    "excel_files = [file for file in os.listdir(directory_path) if file.endswith('.xlsx')]\n",
    "\n",
    "# Looping through each Excel file\n",
    "for file in excel_files:\n",
    "    # Constructing the full file path\n",
    "    file_path = os.path.join(directory_path, file)\n",
    "    \n",
    "    # Reading the Excel file into a DataFrame\n",
    "    gi = pd.read_excel(file_path)\n",
    "    \n",
    "    # Printing the name of the file\n",
    "    print(f\"Data from {file}:\")"
   ]
  },
  {
   "cell_type": "code",
   "execution_count": 3,
   "id": "0aa22c13-c015-4fe7-84ff-bf8cfdcafffb",
   "metadata": {},
   "outputs": [],
   "source": [
    "# Drop columns name 'Accelerator Batch'\n",
    "gi = gi.drop(['Accelerator Batch'], axis=1)"
   ]
  },
  {
   "cell_type": "code",
   "execution_count": 5,
   "id": "d35d8e6d-ed0c-4a6d-9c48-eee0558b5fea",
   "metadata": {},
   "outputs": [],
   "source": [
    "# Function to clean email addresses\n",
    "def clean_email(email):\n",
    "    # Convert to lowercase and remove extra spaces\n",
    "    cleaned_email = email.lower().strip()\n",
    "    # Remove patterns like \".com.1\"\n",
    "    cleaned_email = re.sub(r'\\.com\\.\\d+', '.com', cleaned_email)\n",
    "    return cleaned_email\n",
    "\n",
    "# Apply the function to the 'email' column\n",
    "gi['Email ID'] = gi['Email ID'].apply(clean_email)"
   ]
  },
  {
   "cell_type": "code",
   "execution_count": 6,
   "id": "a0f46191-c1d5-46f8-99f5-d485c4d1d635",
   "metadata": {},
   "outputs": [
    {
     "data": {
      "text/plain": [
       "(136, 5)"
      ]
     },
     "execution_count": 6,
     "metadata": {},
     "output_type": "execute_result"
    }
   ],
   "source": [
    "# To see shape of dataframe\n",
    "gi.shape"
   ]
  },
  {
   "cell_type": "code",
   "execution_count": null,
   "id": "8bebddad-32ab-41cb-90af-616a3ccb394c",
   "metadata": {},
   "outputs": [],
   "source": [
    "# URL of the Google Sheets document\n",
    "\n",
    "url = ''\n",
    "\n",
    "# The URL needs to be modified to point to the export format\n",
    "\n",
    "url = url.replace('/edit?usp=sharing', '/export?format=xlsx')\n",
    "\n",
    "# Read the data from the URL into a pandas DataFrame\n",
    "\n",
    "at = pd.read_excel(url)\n",
    "pt = pd.read_excel(url)"
   ]
  },
  {
   "cell_type": "code",
   "execution_count": 8,
   "id": "74d8183c-096f-454a-9e47-bbde398d432e",
   "metadata": {},
   "outputs": [],
   "source": [
    "# To display all the columns\n",
    "pd.set_option('display.max_columns', None)"
   ]
  },
  {
   "cell_type": "code",
   "execution_count": 9,
   "id": "0f75f4b0-8793-4a03-adbe-c5f8c2a06711",
   "metadata": {},
   "outputs": [],
   "source": [
    "# Renaming the \n",
    "at = at.rename(columns={'Select Week': 'Week',\n",
    "                        'How many live mentor-mentee meetings did you conduct this week? ': 'Total Sessions',\n",
    "                       'On average, how long were your  live Mentor - Mentee meetings? (In Minutes)': 'Average Duration'})\n"
   ]
  },
  {
   "cell_type": "code",
   "execution_count": 10,
   "id": "b6a05c9e-c311-4410-98f3-eed93730122f",
   "metadata": {},
   "outputs": [],
   "source": [
    "#at = at.rename(columns={'Select Week': 'Week'})"
   ]
  },
  {
   "cell_type": "code",
   "execution_count": 11,
   "id": "7f1a5691-9614-47fb-a88e-f72d29ca5be2",
   "metadata": {},
   "outputs": [],
   "source": [
    "# Get the columns to keep\n",
    "columns_to_keep = [col for col in at.columns if col.startswith(\"Week\") or col.startswith(\"Attendance for this\") or col.startswith(\"Total Sessions\")or col.startswith(\"Average Duration\")]\n",
    "\n",
    "# Drop the columns not in columns_to_keep\n",
    "at.drop(columns=[col for col in at.columns if col not in columns_to_keep], inplace=True)\n"
   ]
  },
  {
   "cell_type": "code",
   "execution_count": 12,
   "id": "359a8a8c-c5f1-4985-a878-13b9f9f2fa91",
   "metadata": {},
   "outputs": [],
   "source": [
    "# Extract the week number from the 'Select Week' column\n",
    "at['Week'] = at['Week'].str.split(':').str[0]\n",
    "\n"
   ]
  },
  {
   "cell_type": "code",
   "execution_count": 13,
   "id": "a960e873-6421-4d5c-986c-870b0531b3db",
   "metadata": {},
   "outputs": [],
   "source": [
    "# Remove comment before column names\n",
    "at.columns = at.columns.str.replace(\"Attendance for this week's Mentor-Mentee interaction session\", '')"
   ]
  },
  {
   "cell_type": "code",
   "execution_count": 14,
   "id": "3c29eed5-0595-459e-af88-a985e4987f8b",
   "metadata": {},
   "outputs": [],
   "source": [
    "# Remove extra spaces before column names\n",
    "at.columns = at.columns.str.strip()"
   ]
  },
  {
   "cell_type": "code",
   "execution_count": 15,
   "id": "9982ecb4-41a0-4003-bffd-c3dc59e78ea5",
   "metadata": {},
   "outputs": [],
   "source": [
    "# Remove unwanted Sign from column names\n",
    "at = at.rename(columns=lambda x: x.replace('[', '').replace(']', ''))\n"
   ]
  },
  {
   "cell_type": "code",
   "execution_count": 16,
   "id": "38c7cce5-9349-4c33-bd02-cf73fcd05d2d",
   "metadata": {},
   "outputs": [],
   "source": [
    "# Rename columns using a lambda function\n",
    "at = at.rename(columns=lambda x: '_'.join(x.split('_')[:2]) if '_' in x else x)"
   ]
  },
  {
   "cell_type": "code",
   "execution_count": 17,
   "id": "1c8a4a06-fb18-404a-8d7b-c3b85e631353",
   "metadata": {},
   "outputs": [],
   "source": [
    "# Unpivot the DataFrame 'at' by converting columns into rows\n",
    "at_filter = pd.melt(at, id_vars=['Week','Total Sessions','Average Duration'], \n",
    "                    var_name='Mentee ID', value_name='Attended Sessions')"
   ]
  },
  {
   "cell_type": "code",
   "execution_count": 18,
   "id": "e201b6ea-fff0-48b2-8d50-3b523e119661",
   "metadata": {},
   "outputs": [],
   "source": [
    "#pivoted_at_filter = at_filter.pivot_table(index='Mentee ID', columns='Week', values=['Total Sessions', 'Average Duration', 'Attended Sessions'])\n"
   ]
  },
  {
   "cell_type": "code",
   "execution_count": 19,
   "id": "47cef100-bf47-4d41-923d-a75a4465d450",
   "metadata": {},
   "outputs": [
    {
     "data": {
      "text/plain": [
       "Index(['Week', 'Total Sessions', 'Average Duration', 'Mentee ID',\n",
       "       'Attended Sessions'],\n",
       "      dtype='object')"
      ]
     },
     "execution_count": 19,
     "metadata": {},
     "output_type": "execute_result"
    }
   ],
   "source": [
    "# Checking the column names\n",
    "at_filter.columns"
   ]
  },
  {
   "cell_type": "code",
   "execution_count": 20,
   "id": "78098241-3d1e-48f2-bd30-e4179218e00a",
   "metadata": {},
   "outputs": [
    {
     "name": "stdout",
     "output_type": "stream",
     "text": [
      "[nan  0.  1.  2.]\n"
     ]
    }
   ],
   "source": [
    "# Getting all unique values to check\n",
    "unique_attendance_values = at_filter['Attended Sessions'].unique()\n",
    "print(unique_attendance_values)"
   ]
  },
  {
   "cell_type": "code",
   "execution_count": 21,
   "id": "ccaa22d0-2f6b-4002-ac4d-e0fa2ab5f9c7",
   "metadata": {},
   "outputs": [],
   "source": [
    "# Replacing the values so we get data into int type\n",
    "at_filter['Total Sessions'] = at_filter['Total Sessions'].replace({'More than 2': 2})\n",
    "at_filter['Average Duration'] = at_filter['Average Duration'].replace({'More than 120': 120})\n",
    "\n"
   ]
  },
  {
   "cell_type": "code",
   "execution_count": 22,
   "id": "89e39c44-5ff1-4b86-9031-5a1400f7ab0a",
   "metadata": {},
   "outputs": [],
   "source": [
    "# Droping unwanted column\n",
    "df_cleaned = at_filter.dropna(subset=['Attended Sessions'])\n"
   ]
  },
  {
   "cell_type": "code",
   "execution_count": null,
   "id": "f5100b8e-625c-44fd-86e2-fbb6da7fec9b",
   "metadata": {},
   "outputs": [],
   "source": []
  },
  {
   "cell_type": "code",
   "execution_count": 23,
   "id": "86ba79c5-823d-4459-bab2-817869aff61d",
   "metadata": {},
   "outputs": [],
   "source": [
    "# Looking for duplicates\n",
    "df_cleaned = df_cleaned.drop_duplicates()\n"
   ]
  },
  {
   "cell_type": "code",
   "execution_count": 24,
   "id": "8cac8bcf-fed0-4bbc-998c-05e2f6dd3e4f",
   "metadata": {},
   "outputs": [],
   "source": [
    "# Create a pivot table for weekly data\n",
    "at_pivot = df_cleaned.pivot_table(index='Mentee ID', columns='Week')\n"
   ]
  },
  {
   "cell_type": "code",
   "execution_count": 25,
   "id": "3d008f21-59ad-4bfe-b2b0-a53d06f54af6",
   "metadata": {},
   "outputs": [],
   "source": [
    "# Filling null values with 0\n",
    "at_pivot.fillna(0, inplace=True)\n"
   ]
  },
  {
   "cell_type": "code",
   "execution_count": 26,
   "id": "ff62548c-cecf-4ea9-ab65-3861eaff37b4",
   "metadata": {},
   "outputs": [],
   "source": [
    "# creating new column names by combining the first and second elements\n",
    "at_pivot.columns = [f'{col[0]} - {col[1]}' for col in at_pivot.columns]\n"
   ]
  },
  {
   "cell_type": "code",
   "execution_count": 27,
   "id": "758c26bb-2cff-428a-b1a7-bd5faaa55263",
   "metadata": {},
   "outputs": [],
   "source": [
    "# Reseting the index\n",
    "at_pivot.reset_index(inplace=True)"
   ]
  },
  {
   "cell_type": "code",
   "execution_count": 28,
   "id": "19bb2aff-f973-4a07-9acc-6021271b0cff",
   "metadata": {},
   "outputs": [],
   "source": [
    "#at_pivot.tv.pl"
   ]
  },
  {
   "cell_type": "code",
   "execution_count": 29,
   "id": "896f7aa9-14cb-4d50-957e-eac719c56861",
   "metadata": {},
   "outputs": [],
   "source": [
    "def add_hours_spent_columns(df):\n",
    "    # Extract week numbers from the columns\n",
    "    weeks = sorted(set(int(col.split('- Week ')[1]) for col in df.columns if 'Week' in col))\n",
    "    \n",
    "    for week in weeks:\n",
    "        attended_sessions_col = f'Attended Sessions - Week {week}'\n",
    "        average_duration_col = f'Average Duration - Week {week}'\n",
    "        hours_spent_col = f'Hours Spent - Week {week}'\n",
    "        \n",
    "        if attended_sessions_col in df.columns and average_duration_col in df.columns:\n",
    "            df[hours_spent_col] = (df[attended_sessions_col] * df[average_duration_col]) / 60\n",
    "    \n",
    "    return df\n",
    "\n"
   ]
  },
  {
   "cell_type": "code",
   "execution_count": 30,
   "id": "10c1cb57-fc7d-4172-87e9-cfa4cbee367f",
   "metadata": {},
   "outputs": [],
   "source": [
    "def add_per_att_columns(df):\n",
    "    # Extract week numbers from the columns\n",
    "    weeks = sorted(set(int(col.split('- Week ')[1]) for col in df.columns if 'Week' in col))\n",
    "    \n",
    "    for week in weeks:\n",
    "        total_sessions_col = f'Total Sessions - Week {week}'\n",
    "        #attended_sessions_col = f'Attended Sessions - Week {week}'\n",
    "        average_duration_col = f'Average Duration - Week {week}'\n",
    "        hours_spent_col = f'Hours Spent - Week {week}'\n",
    "        percentage_attendance_col = f'% Attendance - Week {week}'\n",
    "        \n",
    "        \n",
    "        if hours_spent_col in df.columns and total_sessions_col in df.columns and average_duration_col in df.columns:\n",
    "            df[percentage_attendance_col] = (df[hours_spent_col]/(df[total_sessions_col] * (df[average_duration_col]/60)))*100\n",
    "    \n",
    "    return df\n",
    "\n"
   ]
  },
  {
   "cell_type": "code",
   "execution_count": 31,
   "id": "aa64023d-b859-4e09-b7ac-ceab06c98fd9",
   "metadata": {},
   "outputs": [],
   "source": [
    "# Useing above function we define\n",
    "at_pivot = add_hours_spent_columns(at_pivot)\n",
    "at_pivot = add_per_att_columns(at_pivot)"
   ]
  },
  {
   "cell_type": "code",
   "execution_count": 32,
   "id": "65815dd9-6417-4787-a250-fe950ae11c96",
   "metadata": {},
   "outputs": [],
   "source": [
    "def rearrange_columns(df):\n",
    "    # Extract week numbers from the columns\n",
    "    weeks = sorted(set(int(col.split('- Week ')[1]) for col in df.columns if 'Week' in col))\n",
    "    \n",
    "    # Define the initial part of the arrangement\n",
    "    arranged_columns = ['Mentee ID']\n",
    "    \n",
    "    # Arrange columns for each week dynamically\n",
    "    for week in weeks:\n",
    "        arranged_columns.append(f'Total Sessions - Week {week}')\n",
    "        arranged_columns.append(f'Average Duration - Week {week}')\n",
    "        arranged_columns.append(f'Attended Sessions - Week {week}')\n",
    "        arranged_columns.append(f'Hours Spent - Week {week}')\n",
    "        arranged_columns.append(f'% Attendance - Week {week}')\n",
    "        \n",
    "    return arranged_columns"
   ]
  },
  {
   "cell_type": "code",
   "execution_count": 33,
   "id": "4fb25d4c-2d71-48f9-a600-6cdd0c0539cb",
   "metadata": {},
   "outputs": [],
   "source": [
    "# Loop through each column in the DataFrame\n",
    "for column in at_pivot.columns:\n",
    "    if column.startswith('% Attendance'):\n",
    "        at_pivot[column] = at_pivot[column].apply(lambda x: 100 if x > 100 else x)"
   ]
  },
  {
   "cell_type": "code",
   "execution_count": 34,
   "id": "309aa155-c3fb-452b-84f2-23fc187236f4",
   "metadata": {},
   "outputs": [],
   "source": [
    "# Divide columns starting with 'Average Duration' by 60 to make it into Hours\n",
    "for col in at_pivot.columns:\n",
    "    if col.startswith('Average Duration'):\n",
    "        at_pivot[col] = at_pivot[col] / 60"
   ]
  },
  {
   "cell_type": "code",
   "execution_count": 35,
   "id": "0194c1e4-2d7c-4bbc-b218-90ba2e7d162a",
   "metadata": {},
   "outputs": [],
   "source": [
    "rearrange_columns = rearrange_columns(at_pivot)\n",
    "# Rearrange the dataframe\n",
    "at_pivot = at_pivot[rearrange_columns]\n"
   ]
  },
  {
   "cell_type": "code",
   "execution_count": 36,
   "id": "a31d127c-6418-4345-90f6-2995b71b0a64",
   "metadata": {},
   "outputs": [
    {
     "data": {
      "text/plain": [
       "(115, 66)"
      ]
     },
     "execution_count": 36,
     "metadata": {},
     "output_type": "execute_result"
    }
   ],
   "source": [
    "at_pivot.shape"
   ]
  },
  {
   "cell_type": "code",
   "execution_count": 37,
   "id": "1f9fce24-d7a9-4bb5-8da8-d44133514fdc",
   "metadata": {},
   "outputs": [],
   "source": [
    "# Filling null values with 0\n",
    "at_pivot.fillna(0, inplace=True)"
   ]
  },
  {
   "cell_type": "code",
   "execution_count": 38,
   "id": "b896eb12-7ccd-4f08-8a44-9d0afbc35e4c",
   "metadata": {},
   "outputs": [],
   "source": [
    "# Creating function to get Overall Attendance columns\n",
    "def calculate_mean_scores(df, prefixes):\n",
    "# Calculate overall scores for the specified prefixes\n",
    "    for prefix in prefixes:\n",
    "        # Filter columns that start with the given prefi\n",
    "        cols = [col for col in df.columns if col.startswith(prefix)]\n",
    "        # Calculate the sum of scores across columns for the current prefix\n",
    "        df[f\"{prefix} Overall\"] = df[cols].sum(axis=1)  # Calculate overall score\n",
    "        \n",
    "# Usage of Function\n",
    "prefixes = [\"Total Sessions\", \"Attended Sessions\", \"Hours Spent\"]\n",
    "\n",
    "calculate_mean_scores(at_pivot, prefixes)\n"
   ]
  },
  {
   "cell_type": "markdown",
   "id": "0f0727e0-9e73-4af9-bbd5-16f1079e36f4",
   "metadata": {},
   "source": [
    "### Below👇 , we haven't taken the average of those classes, which were not taken by the mentor. The average is of those classes only taken by the mentor, not by week-wise classes. If there are 14 weeks and the menotr has taken a class of 8 weeks, than we have taken an average of just 8 👇"
   ]
  },
  {
   "cell_type": "code",
   "execution_count": 39,
   "id": "3444fdf9-b2da-4b51-a392-61dadec971fc",
   "metadata": {},
   "outputs": [],
   "source": [
    "# List of columns\n",
    "attendance_cols = [col for col in at_pivot.columns if '% Attendance' in col]\n",
    "session_cols = [col for col in at_pivot.columns if 'Total Sessions' in col]\n",
    "\n",
    "# Function to calculate the overall % attendance\n",
    "def calculate_overall_attendance(row):\n",
    "    total_attendance = 0\n",
    "    count = 0\n",
    "    for att_col, sess_col in zip(attendance_cols, session_cols):\n",
    "        if row[sess_col] != 0:\n",
    "            total_attendance += row[att_col]\n",
    "            count += 1\n",
    "    return total_attendance / count if count > 0 else 0\n",
    "\n",
    "# Apply the function to each row\n",
    "at_pivot['% Attendance Overall'] = at_pivot.apply(calculate_overall_attendance, axis=1)\n",
    "\n",
    "\n"
   ]
  },
  {
   "cell_type": "code",
   "execution_count": 40,
   "id": "4bf7f5e4-8f15-4dd6-af36-9edb2b1853f4",
   "metadata": {},
   "outputs": [],
   "source": [
    "# Merge with gi\n",
    "at_pivot = pd.merge(gi, at_pivot, on='Mentee ID', how='outer')\n"
   ]
  },
  {
   "cell_type": "code",
   "execution_count": 41,
   "id": "464a1205-0bdf-4f43-8708-be60842679b9",
   "metadata": {},
   "outputs": [],
   "source": [
    "# Filling null vaules\n",
    "at_pivot.fillna(0, inplace=True)\n"
   ]
  },
  {
   "cell_type": "code",
   "execution_count": 42,
   "id": "9018f9fc-c5a3-4600-9af6-20ba06930e36",
   "metadata": {},
   "outputs": [],
   "source": [
    "at_pivot=at_pivot.round(2)"
   ]
  },
  {
   "cell_type": "code",
   "execution_count": 44,
   "id": "7e0d2afd-475f-409d-9a8d-a79c11618066",
   "metadata": {},
   "outputs": [],
   "source": [
    "# Assuming df is your final DataFrame\n",
    "output_directory = r'C:\\Users\\spjay\\OneDrive - VigyanShaala\\02 Products  Initiatives\\01 SheForSTEM\\05 Kalpana M&E\\00 DBMS 1.0\\Kalpana\\Kalpana\\05 Accelerator\\Accelerator 3.0\\output'\n",
    "\n",
    "# Create the directory if it doesn't exist\n",
    "if not os.path.exists(output_directory):\n",
    "    os.makedirs(output_directory)\n",
    "\n",
    "output_path = os.path.join(output_directory, 'Mentor Interaction Attendance.csv')\n",
    "at_pivot.to_csv(output_path, index=False)\n"
   ]
  },
  {
   "cell_type": "code",
   "execution_count": 45,
   "id": "1eb028d2-9717-4bad-9df0-cedf5ac27fd9",
   "metadata": {},
   "outputs": [],
   "source": [
    "# Dropping columns which are already present in database\n",
    "columns_to_drop = ['Mentee ID', 'Mentee Name', 'Mobile Number', 'Group Name']\n",
    "at_pivot = at_pivot.drop(columns=columns_to_drop)"
   ]
  },
  {
   "cell_type": "code",
   "execution_count": 46,
   "id": "2dabae3b-e8fa-4e3c-b30e-1c69cc182c92",
   "metadata": {},
   "outputs": [],
   "source": [
    "# Rename the column name\n",
    "at_pivot = at_pivot.rename(columns={'Email ID': 'Email'})"
   ]
  },
  {
   "cell_type": "code",
   "execution_count": 47,
   "id": "be8c1662-2b96-4d52-b55a-559bb368429d",
   "metadata": {},
   "outputs": [],
   "source": [
    "# Rename columns\n",
    "at_pivot.columns = [col.replace('%', 'Percent') for col in at_pivot.columns]"
   ]
  },
  {
   "cell_type": "code",
   "execution_count": 48,
   "id": "3ef871df-a11c-4e53-9b94-966aabe05406",
   "metadata": {},
   "outputs": [],
   "source": [
    "# Function to clean column names\n",
    "def clean_column_names(at_pivot):\n",
    "    def clean_name(name):\n",
    "        name = name.replace('-', '')  # Remove hyphens\n",
    "        name = re.sub(r'\\s+', ' ', name)  # Replace multiple spaces with a single space\n",
    "        name = name.replace(' ', '_')  # Replace spaces with underscores\n",
    "        return name\n",
    "    \n",
    "    at_pivot.columns = [clean_name(col) for col in at_pivot.columns]\n",
    "    return at_pivot\n",
    "\n",
    "# Clean the column names\n",
    "at_pivot = clean_column_names(at_pivot)"
   ]
  },
  {
   "cell_type": "markdown",
   "id": "185344c3-df34-4867-a64d-90108b387f77",
   "metadata": {},
   "source": [
    "# Mentor Interaction Attendance on MySQL"
   ]
  },
  {
   "cell_type": "code",
   "execution_count": null,
   "id": "0ccccf8a-6a27-4bad-bb9e-24e0df45f85c",
   "metadata": {},
   "outputs": [],
   "source": [
    "# Connecting to MySQL Database\n",
    "conn= msql.connect(host='',user='',password=\"V\",database=\"\",auth_plugin='')\n",
    "cursor =conn.cursor"
   ]
  },
  {
   "cell_type": "code",
   "execution_count": 50,
   "id": "ff51ae8d-4a34-4a91-9ab9-83969416f76f",
   "metadata": {},
   "outputs": [],
   "source": [
    "# Get the existing columns in the database\n",
    "cursor.execute(\"SHOW COLUMNS FROM 17_accelerator_mentor_interaction_attendance\")\n",
    "existing_columns = [col[0] for col in cursor.fetchall()]\n",
    "\n",
    "# Define the column name before which the new column should be added\n",
    "target_column = 'Total_Sessions_Overall'\n",
    "\n",
    "# Check if any new columns exist in the dataframe but not in the database\n",
    "new_columns = [col for col in at_pivot.columns if col not in existing_columns]\n",
    "if new_columns:\n",
    "    # Add new columns to the database before the target column\n",
    "    for col in reversed(new_columns):\n",
    "        if col not in existing_columns:\n",
    "            # Get the index of the target column\n",
    "            target_column_index = existing_columns.index(target_column)\n",
    "            # Set the data type based on whether the column name starts with Comment\n",
    "            data_type = \"float\" \n",
    "            alter_query = f\"ALTER TABLE 17_accelerator_mentor_interaction_attendance ADD COLUMN {col} {data_type} AFTER {existing_columns[target_column_index - 1]}\"\n",
    "            cursor.execute(alter_query)\n",
    "            existing_columns.insert(target_column_index - 1, col)"
   ]
  },
  {
   "cell_type": "code",
   "execution_count": 51,
   "id": "58f9c703-ad65-43d9-9a5a-906a5ccdfdb6",
   "metadata": {},
   "outputs": [],
   "source": [
    "# Your existing code for inserting data into the database table\n",
    "for i, row in at_pivot.iterrows():\n",
    "    row = [None if isinstance(val, float) and math.isnan(val) else val for val in row] # replace \"nan\" values with None\n",
    "    columns = ','.join(at_pivot.columns)\n",
    "    placeholders = ','.join(['%s']*len(row))\n",
    "    # Construct the INSERT query with ON DUPLICATE KEY UPDATE clause\n",
    "    query = f\"INSERT INTO 17_accelerator_mentor_interaction_attendance ({columns}) VALUES ({placeholders}) ON DUPLICATE KEY UPDATE \"\n",
    "    query += \", \".join([f\"{col}=VALUES({col})\" for col in at_pivot.columns if col != 'Email'])\n",
    "    # Execute the query\n",
    "    cursor.execute(query, tuple(row))"
   ]
  },
  {
   "cell_type": "code",
   "execution_count": 52,
   "id": "0024ee5a-8fbe-4ea3-947f-d8d423073b7d",
   "metadata": {},
   "outputs": [],
   "source": [
    "conn.commit()"
   ]
  },
  {
   "cell_type": "markdown",
   "id": "ff8369f5-6444-4d1f-a1db-c1325f8b704a",
   "metadata": {},
   "source": [
    "# Project Tracking"
   ]
  },
  {
   "cell_type": "code",
   "execution_count": 53,
   "id": "2c29bb50-3d0a-4289-900e-fb9b4af1c540",
   "metadata": {},
   "outputs": [],
   "source": [
    "# Copy dataset for using it agian\n",
    "pj = pt.copy()"
   ]
  },
  {
   "cell_type": "code",
   "execution_count": 54,
   "id": "b1aa4fa8-b7a8-41d6-bb00-8e2e3923aaf5",
   "metadata": {},
   "outputs": [],
   "source": [
    "# Get the columns to keep\n",
    "columns_to_keep = [col for col in pj.columns if col.startswith(\"Select Week\") or col.startswith(\"Attendance for this\") or col.startswith(\"Select the 7E learning\")or col.startswith(\"Enlist the tasks assigned\") or col.startswith(\"Select the theme of the week.\")]\n",
    "\n",
    "# Drop the columns not in columns_to_keep\n",
    "pj.drop(columns=[col for col in pj.columns if col not in columns_to_keep], inplace=True)\n"
   ]
  },
  {
   "cell_type": "code",
   "execution_count": 55,
   "id": "381e9238-b864-4ee4-a100-adc455a50d90",
   "metadata": {},
   "outputs": [
    {
     "data": {
      "text/plain": [
       "Index(['Select Week', 'Select the 7E learning phase for this week.',\n",
       "       'Enlist the tasks assigned', 'Select the theme of the week.',\n",
       "       'Attendance for this week's Mentor-Mentee interaction session [KA03_01_Rohini Reddy Rangari]',\n",
       "       'Attendance for this week's Mentor-Mentee interaction session [KA03_02_Namrta Dixit]',\n",
       "       'Attendance for this week's Mentor-Mentee interaction session [KA03_03_Amalendu Sasikumar Nair]',\n",
       "       'Attendance for this week's Mentor-Mentee interaction session [KA03_04_Anjali Pant]',\n",
       "       'Attendance for this week's Mentor-Mentee interaction session [KA03_05_Swathi Nayak]',\n",
       "       'Attendance for this week's Mentor-Mentee interaction session [KA03_26_Anaswara H]',\n",
       "       ...\n",
       "       'Attendance for this week's Mentor-Mentee interaction session [KA03_129_Anu M]',\n",
       "       'Attendance for this week's Mentor-Mentee interaction session [KA03_130_Himani Upadhayay]',\n",
       "       'Attendance for this week's Mentor-Mentee interaction session [KA03_131_Hema kandpal]',\n",
       "       'Attendance for this week's Mentor-Mentee interaction session [KA03_132_Adetomi Adewusi]',\n",
       "       'Attendance for this week's Mentor-Mentee interaction session [KA03_126_Anjali Kapri]',\n",
       "       'Attendance for this week's Mentor-Mentee interaction session [KA03_127_Swathikrishna M]',\n",
       "       'Attendance for this week's Mentor-Mentee interaction session [KA03_128_Anindita Dasgupta]',\n",
       "       'Attendance for this week's Mentor-Mentee interaction session [KA03_113_Jyoti Verma].1',\n",
       "       'Attendance for this week's Mentor-Mentee interaction session [KA03_111_Vishakha Kulkarni]',\n",
       "       'Attendance for this week's Mentor-Mentee interaction session [KA03_112_Bhagyashree Bhat]'],\n",
       "      dtype='object', length=140)"
      ]
     },
     "execution_count": 55,
     "metadata": {},
     "output_type": "execute_result"
    }
   ],
   "source": [
    "# Checking columns names\n",
    "pj.columns"
   ]
  },
  {
   "cell_type": "code",
   "execution_count": 56,
   "id": "28a22021-fb85-4185-abf6-056c7f5e1860",
   "metadata": {},
   "outputs": [],
   "source": [
    "# Merging three columns into one and sepreating it by '|'\n",
    "pj['Project Details'] = (\n",
    "    pj['Select the 7E learning phase for this week.'] + ' | ' +\n",
    "    pj['Select the theme of the week.'] + ' | ' +\n",
    "    pj['Enlist the tasks assigned']\n",
    ")\n",
    "\n",
    "# Drop the original columns if necessary\n",
    "pj.drop(['Select the 7E learning phase for this week.', 'Enlist the tasks assigned', 'Select the theme of the week.'], axis=1, inplace=True)\n"
   ]
  },
  {
   "cell_type": "code",
   "execution_count": 57,
   "id": "98444339-b68d-4862-af98-265fcdc5402e",
   "metadata": {},
   "outputs": [],
   "source": [
    "# Extract the week number from the 'Select Week' column\n",
    "pj['Select Week'] = pj['Select Week'].str.split(':').str[0]\n",
    "\n"
   ]
  },
  {
   "cell_type": "code",
   "execution_count": 58,
   "id": "c12f4f8b-dfa2-4d71-99f8-c88614bc8dcc",
   "metadata": {},
   "outputs": [],
   "source": [
    "# Remove comment before column names\n",
    "pj.columns = pj.columns.str.replace(\"Attendance for this week's Mentor-Mentee interaction session\", '')"
   ]
  },
  {
   "cell_type": "code",
   "execution_count": 59,
   "id": "5ac7a582-6d61-4477-97be-d627697dfea5",
   "metadata": {},
   "outputs": [],
   "source": [
    "# Remove extra spaces before column names\n",
    "pj.columns = pj.columns.str.strip()"
   ]
  },
  {
   "cell_type": "code",
   "execution_count": 60,
   "id": "a56461c4-eb4a-4d77-b6e6-c6b01d294f6c",
   "metadata": {},
   "outputs": [],
   "source": [
    "# Remove unwanted Sign from column names\n",
    "pj = pj.rename(columns=lambda x: x.replace('[', '').replace(']', ''))\n"
   ]
  },
  {
   "cell_type": "code",
   "execution_count": 61,
   "id": "42273f11-5fd5-4b52-8651-01040d2e8870",
   "metadata": {},
   "outputs": [],
   "source": [
    "# Rename columns using a lambda function\n",
    "pj = pj.rename(columns=lambda x: '_'.join(x.split('_')[:2]) if '_' in x else x)"
   ]
  },
  {
   "cell_type": "code",
   "execution_count": 62,
   "id": "543ba27b-9ffe-4836-b716-26cf308a4d6c",
   "metadata": {},
   "outputs": [],
   "source": [
    "# Unpivot the DataFrame 'pj' by converting columns into rows\n",
    "pj_filter = pd.melt(pj, id_vars=['Select Week','Project Details'], \n",
    "                    var_name='Mentee ID', value_name='Attended Sessions')"
   ]
  },
  {
   "cell_type": "code",
   "execution_count": 63,
   "id": "7ed1ff58-a738-44cc-8595-84acfe859081",
   "metadata": {},
   "outputs": [
    {
     "data": {
      "text/html": [
       "<div>\n",
       "<style scoped>\n",
       "    .dataframe tbody tr th:only-of-type {\n",
       "        vertical-align: middle;\n",
       "    }\n",
       "\n",
       "    .dataframe tbody tr th {\n",
       "        vertical-align: top;\n",
       "    }\n",
       "\n",
       "    .dataframe thead th {\n",
       "        text-align: right;\n",
       "    }\n",
       "</style>\n",
       "<table border=\"1\" class=\"dataframe\">\n",
       "  <thead>\n",
       "    <tr style=\"text-align: right;\">\n",
       "      <th></th>\n",
       "      <th>Select Week</th>\n",
       "      <th>Project Details</th>\n",
       "      <th>Mentee ID</th>\n",
       "      <th>Attended Sessions</th>\n",
       "    </tr>\n",
       "  </thead>\n",
       "  <tbody>\n",
       "    <tr>\n",
       "      <th>0</th>\n",
       "      <td>Week 1</td>\n",
       "      <td>Elicit - Week 1-2 | Week 1 : Project Initiatio...</td>\n",
       "      <td>KA03_01</td>\n",
       "      <td>NaN</td>\n",
       "    </tr>\n",
       "    <tr>\n",
       "      <th>1</th>\n",
       "      <td>Week 1</td>\n",
       "      <td>Elicit - Week 1-2 | Week 1 : Project Initiatio...</td>\n",
       "      <td>KA03_01</td>\n",
       "      <td>NaN</td>\n",
       "    </tr>\n",
       "    <tr>\n",
       "      <th>2</th>\n",
       "      <td>Week 1</td>\n",
       "      <td>Elicit - Week 1-2 | Week 1 : Project Initiatio...</td>\n",
       "      <td>KA03_01</td>\n",
       "      <td>NaN</td>\n",
       "    </tr>\n",
       "    <tr>\n",
       "      <th>3</th>\n",
       "      <td>Week 1</td>\n",
       "      <td>Elicit - Week 1-2 | Week 1 : Project Initiatio...</td>\n",
       "      <td>KA03_01</td>\n",
       "      <td>NaN</td>\n",
       "    </tr>\n",
       "    <tr>\n",
       "      <th>4</th>\n",
       "      <td>Week 2</td>\n",
       "      <td>Elicit - Week 1-2 | Week 2 : Project Planning ...</td>\n",
       "      <td>KA03_01</td>\n",
       "      <td>NaN</td>\n",
       "    </tr>\n",
       "  </tbody>\n",
       "</table>\n",
       "</div>"
      ],
      "text/plain": [
       "  Select Week                                    Project Details Mentee ID  \\\n",
       "0      Week 1  Elicit - Week 1-2 | Week 1 : Project Initiatio...   KA03_01   \n",
       "1      Week 1  Elicit - Week 1-2 | Week 1 : Project Initiatio...   KA03_01   \n",
       "2      Week 1  Elicit - Week 1-2 | Week 1 : Project Initiatio...   KA03_01   \n",
       "3      Week 1  Elicit - Week 1-2 | Week 1 : Project Initiatio...   KA03_01   \n",
       "4      Week 2  Elicit - Week 1-2 | Week 2 : Project Planning ...   KA03_01   \n",
       "\n",
       "   Attended Sessions  \n",
       "0                NaN  \n",
       "1                NaN  \n",
       "2                NaN  \n",
       "3                NaN  \n",
       "4                NaN  "
      ]
     },
     "execution_count": 63,
     "metadata": {},
     "output_type": "execute_result"
    }
   ],
   "source": [
    "# Checking head of dataframe\n",
    "pj_filter.head()"
   ]
  },
  {
   "cell_type": "code",
   "execution_count": 64,
   "id": "940fd338-492b-4d43-a6c1-25b2c9edc9ba",
   "metadata": {},
   "outputs": [],
   "source": [
    "# Droping unwanted column\n",
    "pj_cleaned = pj_filter.dropna(subset=['Attended Sessions'])\n"
   ]
  },
  {
   "cell_type": "code",
   "execution_count": 65,
   "id": "0de3c7bf-7e38-4308-959e-174f18b56276",
   "metadata": {},
   "outputs": [
    {
     "data": {
      "text/html": [
       "<div>\n",
       "<style scoped>\n",
       "    .dataframe tbody tr th:only-of-type {\n",
       "        vertical-align: middle;\n",
       "    }\n",
       "\n",
       "    .dataframe tbody tr th {\n",
       "        vertical-align: top;\n",
       "    }\n",
       "\n",
       "    .dataframe thead th {\n",
       "        text-align: right;\n",
       "    }\n",
       "</style>\n",
       "<table border=\"1\" class=\"dataframe\">\n",
       "  <thead>\n",
       "    <tr style=\"text-align: right;\">\n",
       "      <th></th>\n",
       "      <th>Select Week</th>\n",
       "      <th>Project Details</th>\n",
       "      <th>Mentee ID</th>\n",
       "      <th>Attended Sessions</th>\n",
       "    </tr>\n",
       "  </thead>\n",
       "  <tbody>\n",
       "    <tr>\n",
       "      <th>0</th>\n",
       "      <td>Week 1</td>\n",
       "      <td>Elicit - Week 1-2 | Week 1 : Project Initiatio...</td>\n",
       "      <td>KA03_01</td>\n",
       "      <td>NaN</td>\n",
       "    </tr>\n",
       "    <tr>\n",
       "      <th>1</th>\n",
       "      <td>Week 1</td>\n",
       "      <td>Elicit - Week 1-2 | Week 1 : Project Initiatio...</td>\n",
       "      <td>KA03_01</td>\n",
       "      <td>NaN</td>\n",
       "    </tr>\n",
       "    <tr>\n",
       "      <th>2</th>\n",
       "      <td>Week 1</td>\n",
       "      <td>Elicit - Week 1-2 | Week 1 : Project Initiatio...</td>\n",
       "      <td>KA03_01</td>\n",
       "      <td>NaN</td>\n",
       "    </tr>\n",
       "    <tr>\n",
       "      <th>3</th>\n",
       "      <td>Week 1</td>\n",
       "      <td>Elicit - Week 1-2 | Week 1 : Project Initiatio...</td>\n",
       "      <td>KA03_01</td>\n",
       "      <td>NaN</td>\n",
       "    </tr>\n",
       "    <tr>\n",
       "      <th>4</th>\n",
       "      <td>Week 2</td>\n",
       "      <td>Elicit - Week 1-2 | Week 2 : Project Planning ...</td>\n",
       "      <td>KA03_01</td>\n",
       "      <td>NaN</td>\n",
       "    </tr>\n",
       "    <tr>\n",
       "      <th>...</th>\n",
       "      <td>...</td>\n",
       "      <td>...</td>\n",
       "      <td>...</td>\n",
       "      <td>...</td>\n",
       "    </tr>\n",
       "    <tr>\n",
       "      <th>19307</th>\n",
       "      <td>Week 13</td>\n",
       "      <td>Extend - Week 13-14 | Week 9: Data interpretat...</td>\n",
       "      <td>KA03_112</td>\n",
       "      <td>NaN</td>\n",
       "    </tr>\n",
       "    <tr>\n",
       "      <th>19308</th>\n",
       "      <td>Week 12</td>\n",
       "      <td>Elaborate - Week 10-11 | Week 9: Data interpre...</td>\n",
       "      <td>KA03_112</td>\n",
       "      <td>NaN</td>\n",
       "    </tr>\n",
       "    <tr>\n",
       "      <th>19309</th>\n",
       "      <td>Week 13</td>\n",
       "      <td>Extend - Week 13-14 | Week 12: Project Complet...</td>\n",
       "      <td>KA03_112</td>\n",
       "      <td>NaN</td>\n",
       "    </tr>\n",
       "    <tr>\n",
       "      <th>19310</th>\n",
       "      <td>Week 13</td>\n",
       "      <td>Elaborate - Week 10-11 | Week 10: Project comm...</td>\n",
       "      <td>KA03_112</td>\n",
       "      <td>NaN</td>\n",
       "    </tr>\n",
       "    <tr>\n",
       "      <th>19311</th>\n",
       "      <td>Week 13</td>\n",
       "      <td>Evaluate - Week 12 | Week 9: Data interpretati...</td>\n",
       "      <td>KA03_112</td>\n",
       "      <td>NaN</td>\n",
       "    </tr>\n",
       "  </tbody>\n",
       "</table>\n",
       "<p>19312 rows × 4 columns</p>\n",
       "</div>"
      ],
      "text/plain": [
       "      Select Week                                    Project Details  \\\n",
       "0          Week 1  Elicit - Week 1-2 | Week 1 : Project Initiatio...   \n",
       "1          Week 1  Elicit - Week 1-2 | Week 1 : Project Initiatio...   \n",
       "2          Week 1  Elicit - Week 1-2 | Week 1 : Project Initiatio...   \n",
       "3          Week 1  Elicit - Week 1-2 | Week 1 : Project Initiatio...   \n",
       "4          Week 2  Elicit - Week 1-2 | Week 2 : Project Planning ...   \n",
       "...           ...                                                ...   \n",
       "19307     Week 13  Extend - Week 13-14 | Week 9: Data interpretat...   \n",
       "19308     Week 12  Elaborate - Week 10-11 | Week 9: Data interpre...   \n",
       "19309     Week 13  Extend - Week 13-14 | Week 12: Project Complet...   \n",
       "19310     Week 13  Elaborate - Week 10-11 | Week 10: Project comm...   \n",
       "19311     Week 13  Evaluate - Week 12 | Week 9: Data interpretati...   \n",
       "\n",
       "      Mentee ID  Attended Sessions  \n",
       "0       KA03_01                NaN  \n",
       "1       KA03_01                NaN  \n",
       "2       KA03_01                NaN  \n",
       "3       KA03_01                NaN  \n",
       "4       KA03_01                NaN  \n",
       "...         ...                ...  \n",
       "19307  KA03_112                NaN  \n",
       "19308  KA03_112                NaN  \n",
       "19309  KA03_112                NaN  \n",
       "19310  KA03_112                NaN  \n",
       "19311  KA03_112                NaN  \n",
       "\n",
       "[19312 rows x 4 columns]"
      ]
     },
     "execution_count": 65,
     "metadata": {},
     "output_type": "execute_result"
    }
   ],
   "source": [
    "pj_filter"
   ]
  },
  {
   "cell_type": "code",
   "execution_count": 66,
   "id": "b7e1c315-994a-4efa-86cf-fa46e7b02f6e",
   "metadata": {},
   "outputs": [],
   "source": [
    "# Create a pivot table for weekly data\n",
    "pj_pivot = pj_cleaned.pivot_table(index='Mentee ID', columns='Select Week', aggfunc='first')"
   ]
  },
  {
   "cell_type": "code",
   "execution_count": 67,
   "id": "c3ae6901-b46b-4c9f-91d6-2729edb97c7e",
   "metadata": {},
   "outputs": [],
   "source": [
    "# Creating new column names by combining the first and second elements\n",
    "pj_pivot.columns = [f'{col[0]} - {col[1]}' for col in pj_pivot.columns]\n"
   ]
  },
  {
   "cell_type": "code",
   "execution_count": 68,
   "id": "3496417f-a5e7-4083-a891-e503eebfb671",
   "metadata": {},
   "outputs": [],
   "source": [
    "# Index reseting \n",
    "pj_pivot.reset_index(inplace=True)"
   ]
  },
  {
   "cell_type": "code",
   "execution_count": 69,
   "id": "e3edc468-d735-47d0-a3c7-4571e451ef34",
   "metadata": {},
   "outputs": [],
   "source": [
    "# Drop columns that start with 'Attended Sessions'\n",
    "pj_pivot = pj_pivot.loc[:, ~pj_pivot.columns.str.startswith('Attended Sessions')]"
   ]
  },
  {
   "cell_type": "code",
   "execution_count": 70,
   "id": "6e8ac154-c337-40e5-92db-0e14ef70a106",
   "metadata": {},
   "outputs": [],
   "source": [
    "# Making multiple copy of dataframe\n",
    "aw = pt.copy()\n",
    "an = pt.copy()\n",
    "pp = pt.copy()\n",
    "qa= pt.copy()"
   ]
  },
  {
   "cell_type": "code",
   "execution_count": 71,
   "id": "3edc4e13-3669-434b-ae96-00f0fdc0d4f4",
   "metadata": {},
   "outputs": [],
   "source": [
    "# Function to clean and process data\n",
    "def process_data(df, prefix):\n",
    "    # Get the columns to keep\n",
    "    columns_to_keep = [col for col in df.columns if col.startswith(\"Select Week\") or col.startswith(prefix)]\n",
    "    # Drop the columns not in columns_to_keep\n",
    "    df = df[columns_to_keep].copy()\n",
    "    # Extract the week number from the 'Select Week' column\n",
    "    df['Select Week'] = df['Select Week'].str.split(':').str[0]\n",
    "    # Remove comment before column names\n",
    "    df.columns = df.columns.str.replace(prefix, '')\n",
    "    # Remove extra spaces and unwanted signs from column names\n",
    "    df.columns = df.columns.str.strip().str.replace('[', '').str.replace(']', '')\n",
    "    # Rename columns using a lambda function\n",
    "    df = df.rename(columns=lambda x: '_'.join(x.split('_')[:2]) if '_' in x else x)\n",
    "    # Melt the dataframe\n",
    "    df_filter = pd.melt(df, id_vars=['Select Week'], var_name='Mentee ID', value_name=prefix.split(': ')[-1])\n",
    "    # Convert values to numeric\n",
    "    #df_filter[prefix.split(': ')[-1]] = pd.to_numeric(df_filter[prefix.split(': ')[-1]], errors='coerce').fillna(0).astype(int)\n",
    "    # Removing null values \n",
    "    df_filter = df_filter.dropna(subset=[prefix.split(': ')[-1]])\n",
    "    #df_filter[prefix.split(': ')[-1]] = pd.to_numeric(df_filter[prefix.split(': ')[-1]], errors='coerce').fillna(0).astype(int)\n",
    "    # Create a pivot table\n",
    "    df_pivot = df_filter.pivot_table(index=['Mentee ID'], columns='Select Week', aggfunc='first')\n",
    "    # Rename columns by combining parts before and after the hyphen\n",
    "    df_pivot.columns = [f'{col[0]} - {col[1]}' for col in df_pivot.columns]\n",
    "    # Reset the index\n",
    "    df_pivot.reset_index(inplace=True)\n",
    "    return df_pivot\n"
   ]
  },
  {
   "cell_type": "code",
   "execution_count": 72,
   "id": "89e05966-c799-4540-b218-779e35ca169a",
   "metadata": {},
   "outputs": [],
   "source": [
    "# Define prefixes\n",
    "prefixes = [\n",
    "    \"Project Parameter: Awareness about the tasks\",\n",
    "    \"Project Parameter: Attentiveness\",\n",
    "    \"Project Parameter: Participation\",\n",
    "    \"Project Parameter: Quality of task submitted\"\n",
    "]\n",
    "\n"
   ]
  },
  {
   "cell_type": "code",
   "execution_count": 73,
   "id": "4212c366-4c7d-42b0-905b-4bda693d8152",
   "metadata": {},
   "outputs": [],
   "source": [
    "\n",
    "# Process each dataframe\n",
    "aw_pivot = process_data(aw, prefixes[0])\n",
    "an_pivot = process_data(an, prefixes[1])\n",
    "pp_pivot = process_data(pp, prefixes[2])\n",
    "qa_pivot = process_data(qa, prefixes[3])"
   ]
  },
  {
   "cell_type": "code",
   "execution_count": 74,
   "id": "0939ffa3-4f04-46ab-992a-d9583cd4e9a7",
   "metadata": {},
   "outputs": [],
   "source": [
    "# Perform outer joins\n",
    "merged = aw_pivot\n",
    "for pivot in [an_pivot, pp_pivot, qa_pivot]:\n",
    "    merged = pd.merge(merged, pivot, on='Mentee ID', how='outer')\n"
   ]
  },
  {
   "cell_type": "code",
   "execution_count": 75,
   "id": "4cc85dca-9969-4465-8467-cfd6d6f916aa",
   "metadata": {},
   "outputs": [],
   "source": [
    "# Merge with gi\n",
    "Pro_tra = pd.merge(gi, merged, on='Mentee ID', how='outer')\n"
   ]
  },
  {
   "cell_type": "code",
   "execution_count": 76,
   "id": "409c8d2c-3eb7-4b63-8849-fec0e787f008",
   "metadata": {},
   "outputs": [],
   "source": [
    "# Merge with pro_tra\n",
    "Pro_tra = pd.merge(Pro_tra, pj_pivot, on='Mentee ID', how='outer')\n"
   ]
  },
  {
   "cell_type": "code",
   "execution_count": 77,
   "id": "e5fb18d3-14f5-431c-b6bb-bd228f9310db",
   "metadata": {},
   "outputs": [],
   "source": [
    "# Remove comment before column names\n",
    "Pro_tra.columns = Pro_tra.columns.str.replace(\"Awareness about the tasks\", 'Awareness')\n",
    "Pro_tra.columns = Pro_tra.columns.str.replace(\"Quality of task submitted\", 'Quality')"
   ]
  },
  {
   "cell_type": "code",
   "execution_count": 78,
   "id": "82991b8d-2b96-4cbd-b0b3-4e61625b371c",
   "metadata": {},
   "outputs": [],
   "source": [
    "def overall_rating(df):\n",
    "    # Identify the week numbers from column names\n",
    "    weeks = sorted(set(int(col.split('- Week ')[1]) for col in df.columns if 'Week' in col))\n",
    "    \n",
    "    for week in weeks:\n",
    "        # Define the column names\n",
    "        awareness_col = f'Awareness - Week {week}'\n",
    "        attentiveness_col = f'Attentiveness - Week {week}'\n",
    "        participation_col = f'Participation - Week {week}'\n",
    "        quality_col = f'Quality - Week {week}'\n",
    "        ovv_rat_col = f'Overall Rating - Week {week}'\n",
    "        \n",
    "        # Check if all necessary columns are present\n",
    "        if all(col in df.columns for col in [awareness_col, attentiveness_col, participation_col, quality_col]):\n",
    "            # Convert columns to numeric, coercing errors to NaN\n",
    "            df[awareness_col] = pd.to_numeric(df[awareness_col], errors='coerce')\n",
    "            df[attentiveness_col] = pd.to_numeric(df[attentiveness_col], errors='coerce')\n",
    "            df[participation_col] = pd.to_numeric(df[participation_col], errors='coerce')\n",
    "            df[quality_col] = pd.to_numeric(df[quality_col], errors='coerce')\n",
    "            \n",
    "            # Calculate the overall rating\n",
    "            df[ovv_rat_col] = df[awareness_col] + df[attentiveness_col] + df[participation_col] + df[quality_col]\n",
    "    \n",
    "    return df\n"
   ]
  },
  {
   "cell_type": "raw",
   "id": "a2708e41-dc2b-4db4-bea4-1f13e74481fb",
   "metadata": {},
   "source": [
    "# Above code was made because we found error here as we found NAN values in it\n",
    "def overall_rating(df):\n",
    "    weeks = sorted(set(int(col.split('- Week ')[1]) for col in df.columns if 'Week' in col))\n",
    "    \n",
    "    for week in weeks:\n",
    "        awareness_col = f'Awareness - Week {week}'\n",
    "        attentiveness_col = f'Attentiveness - Week {week}'\n",
    "        participation_col = f'Participation - Week {week}'\n",
    "        quality_col = f'Quality - Week {week}'\n",
    "        ovv_rat_col = f'Overall Rating - Week {week}'\n",
    "        \n",
    "        if awareness_col in df.columns and attentiveness_col in df.columns and participation_col in df.columns and quality_col in df.columns:\n",
    "            df[ovv_rat_col] = (df[awareness_col] + df[attentiveness_col] + df[participation_col] + df[quality_col])\n",
    "    \n",
    "    return df\n",
    "\n"
   ]
  },
  {
   "cell_type": "code",
   "execution_count": 79,
   "id": "0349a08f-6152-4cbc-b2e7-390f9eebe298",
   "metadata": {},
   "outputs": [],
   "source": [
    "# Applying function\n",
    "Pro_tra = overall_rating(Pro_tra)\n"
   ]
  },
  {
   "cell_type": "code",
   "execution_count": 80,
   "id": "20117c5d-9888-4c60-809b-cb68a1265eda",
   "metadata": {},
   "outputs": [],
   "source": [
    "def rearrange_columns(df):\n",
    "    # Extract week numbers from the columns\n",
    "    weeks = sorted(set(int(col.split('- Week ')[1]) for col in df.columns if 'Week' in col))\n",
    "    \n",
    "    # Define the initial part of the arrangement\n",
    "    arranged_columns = ['Mentee ID','Email ID','Mentee Name','Mobile Number','Group Name']\n",
    "    \n",
    "    # Arrange columns for each week dynamically\n",
    "    for week in weeks:\n",
    "        arranged_columns.append(f'Project Details - Week {week}')\n",
    "        arranged_columns.append(f'Awareness - Week {week}')\n",
    "        arranged_columns.append(f'Attentiveness - Week {week}')\n",
    "        arranged_columns.append(f'Participation - Week {week}')\n",
    "        arranged_columns.append(f'Quality - Week {week}')\n",
    "        arranged_columns.append(f'Overall Rating - Week {week}')\n",
    "        \n",
    "    return arranged_columns"
   ]
  },
  {
   "cell_type": "code",
   "execution_count": 81,
   "id": "a952cb39-848e-4a46-832d-f27a10933b57",
   "metadata": {},
   "outputs": [],
   "source": [
    "rearrange_columns = rearrange_columns(Pro_tra)\n",
    "# Rearrange the dataframe\n",
    "Pro_tra = Pro_tra[rearrange_columns]"
   ]
  },
  {
   "cell_type": "code",
   "execution_count": 82,
   "id": "51d8ed17-050b-4557-b47c-da739ac61303",
   "metadata": {},
   "outputs": [],
   "source": [
    "# Creating function to get Overall Performance columns\n",
    "\n",
    "def calculate_mean_scores(df, prefixes):\n",
    "    # Iterate through each prefix\n",
    "    for prefix in prefixes:\n",
    "        # Filter columns that start with the given prefix\n",
    "        cols = [col for col in df.columns if col.startswith(prefix)]\n",
    "        # Calculate the sum of scores across columns for the current prefix\n",
    "        df[f\"{prefix} Score\"] = df[cols].sum(axis=1)  # Calculate sum score\n",
    "\n",
    "# Usage of function\n",
    "prefixes = [\"Awareness\", \"Attentiveness\", \"Participation\", \"Quality\", \"Overall\"]\n",
    "calculate_mean_scores(Pro_tra, prefixes)\n"
   ]
  },
  {
   "cell_type": "code",
   "execution_count": 83,
   "id": "e3082814-b327-451b-9de0-8d540f179a9f",
   "metadata": {},
   "outputs": [],
   "source": [
    "# Filling null values with 0\n",
    "#Pro_tra.fillna(0, inplace=True)\n"
   ]
  },
  {
   "cell_type": "code",
   "execution_count": 85,
   "id": "32cfa2c2-e197-47b1-a1ac-4aafe59f7a7f",
   "metadata": {},
   "outputs": [],
   "source": [
    "# We are doing this to get Overall percentage column as we want to count number of week and total week score is 20 so we are multiply with it\n",
    "# Count the number of columns that start with 'Overall Rating'\n",
    "# Function to calculate overall percentage\n",
    "def calculate_overall_percentage(row):\n",
    "    overall_ratings = row.filter(like='Overall Rating')\n",
    "    non_null_ratings = overall_ratings.dropna()\n",
    "    count_non_null = non_null_ratings.count()\n",
    "    if count_non_null == 0:\n",
    "        return np.nan\n",
    "    overall_percentage = (row['Overall Score'] / (count_non_null * 20)) * 100\n",
    "    return overall_percentage\n",
    "\n",
    "# Apply the function to each row\n",
    "Pro_tra['Overall Percentage'] = Pro_tra.apply(calculate_overall_percentage, axis=1)"
   ]
  },
  {
   "cell_type": "code",
   "execution_count": 86,
   "id": "a8fd49fa-d953-48a1-980c-169407681cc4",
   "metadata": {},
   "outputs": [],
   "source": [
    "# Rounding values \n",
    "Pro_tra=Pro_tra.round(2)"
   ]
  },
  {
   "cell_type": "code",
   "execution_count": 87,
   "id": "d7285748-1e2d-4fdb-a3a8-f6e1346a611f",
   "metadata": {},
   "outputs": [],
   "source": [
    "# Assuming df is your final DataFrame\n",
    "output_directory = r'C:\\Users\\spjay\\OneDrive - VigyanShaala\\02 Products  Initiatives\\01 SheForSTEM\\05 Kalpana M&E\\00 DBMS 1.0\\Kalpana\\Kalpana\\05 Accelerator\\Accelerator 3.0\\output'\n",
    "\n",
    "# Create the directory if it doesn't exist\n",
    "if not os.path.exists(output_directory):\n",
    "    os.makedirs(output_directory)\n",
    "\n",
    "output_path = os.path.join(output_directory, 'Project Performance Tracking.csv')\n",
    "Pro_tra.to_csv(output_path, index=False)\n"
   ]
  },
  {
   "cell_type": "code",
   "execution_count": 88,
   "id": "bc6b4294-c34b-4629-9fbf-422127f400b4",
   "metadata": {},
   "outputs": [
    {
     "data": {
      "text/plain": [
       "Index(['Mentee ID', 'Email ID', 'Mentee Name', 'Mobile Number', 'Group Name',\n",
       "       'Project Details - Week 1', 'Awareness - Week 1',\n",
       "       'Attentiveness - Week 1', 'Participation - Week 1', 'Quality - Week 1',\n",
       "       'Overall Rating - Week 1', 'Project Details - Week 2',\n",
       "       'Awareness - Week 2', 'Attentiveness - Week 2',\n",
       "       'Participation - Week 2', 'Quality - Week 2', 'Overall Rating - Week 2',\n",
       "       'Project Details - Week 3', 'Awareness - Week 3',\n",
       "       'Attentiveness - Week 3', 'Participation - Week 3', 'Quality - Week 3',\n",
       "       'Overall Rating - Week 3', 'Project Details - Week 4',\n",
       "       'Awareness - Week 4', 'Attentiveness - Week 4',\n",
       "       'Participation - Week 4', 'Quality - Week 4', 'Overall Rating - Week 4',\n",
       "       'Project Details - Week 5', 'Awareness - Week 5',\n",
       "       'Attentiveness - Week 5', 'Participation - Week 5', 'Quality - Week 5',\n",
       "       'Overall Rating - Week 5', 'Project Details - Week 6',\n",
       "       'Awareness - Week 6', 'Attentiveness - Week 6',\n",
       "       'Participation - Week 6', 'Quality - Week 6', 'Overall Rating - Week 6',\n",
       "       'Project Details - Week 7', 'Awareness - Week 7',\n",
       "       'Attentiveness - Week 7', 'Participation - Week 7', 'Quality - Week 7',\n",
       "       'Overall Rating - Week 7', 'Project Details - Week 8',\n",
       "       'Awareness - Week 8', 'Attentiveness - Week 8',\n",
       "       'Participation - Week 8', 'Quality - Week 8', 'Overall Rating - Week 8',\n",
       "       'Project Details - Week 9', 'Awareness - Week 9',\n",
       "       'Attentiveness - Week 9', 'Participation - Week 9', 'Quality - Week 9',\n",
       "       'Overall Rating - Week 9', 'Project Details - Week 10',\n",
       "       'Awareness - Week 10', 'Attentiveness - Week 10',\n",
       "       'Participation - Week 10', 'Quality - Week 10',\n",
       "       'Overall Rating - Week 10', 'Project Details - Week 11',\n",
       "       'Awareness - Week 11', 'Attentiveness - Week 11',\n",
       "       'Participation - Week 11', 'Quality - Week 11',\n",
       "       'Overall Rating - Week 11', 'Project Details - Week 12',\n",
       "       'Awareness - Week 12', 'Attentiveness - Week 12',\n",
       "       'Participation - Week 12', 'Quality - Week 12',\n",
       "       'Overall Rating - Week 12', 'Project Details - Week 13',\n",
       "       'Awareness - Week 13', 'Attentiveness - Week 13',\n",
       "       'Participation - Week 13', 'Quality - Week 13',\n",
       "       'Overall Rating - Week 13', 'Awareness Score', 'Attentiveness Score',\n",
       "       'Participation Score', 'Quality Score', 'Overall Score',\n",
       "       'Overall Percentage'],\n",
       "      dtype='object')"
      ]
     },
     "execution_count": 88,
     "metadata": {},
     "output_type": "execute_result"
    }
   ],
   "source": [
    "Pro_tra.columns"
   ]
  },
  {
   "cell_type": "markdown",
   "id": "3e66cc41-3d51-4a35-a667-38226b8b5e33",
   "metadata": {},
   "source": [
    "# Project Performance on MySQL"
   ]
  },
  {
   "cell_type": "code",
   "execution_count": 89,
   "id": "f2ee8e90-0575-41ba-9743-10f7fe9aed67",
   "metadata": {},
   "outputs": [],
   "source": [
    "# Dropping columns which are already present in database\n",
    "columns_to_drop = ['Mentee ID', 'Mentee Name', 'Mobile Number', 'Group Name']\n",
    "Pro_tra = Pro_tra.drop(columns=columns_to_drop)"
   ]
  },
  {
   "cell_type": "code",
   "execution_count": 90,
   "id": "bca71459-fd98-42d6-ac23-77ef15cf67ee",
   "metadata": {},
   "outputs": [],
   "source": [
    "# Rename the column name\n",
    "Pro_tra = Pro_tra.rename(columns={'Email ID': 'Email'})"
   ]
  },
  {
   "cell_type": "code",
   "execution_count": 91,
   "id": "c82d75a3-fa4d-40ff-9eda-c08e789d1943",
   "metadata": {},
   "outputs": [],
   "source": [
    "# Function to clean column names\n",
    "def clean_column_names(Pro_tra):\n",
    "    def clean_name(name):\n",
    "        name = name.replace('-', '')  # Remove hyphens\n",
    "        name = re.sub(r'\\s+', ' ', name)  # Replace multiple spaces with a single space\n",
    "        name = name.replace(' ', '_')  # Replace spaces with underscores\n",
    "        return name\n",
    "    \n",
    "    Pro_tra.columns = [clean_name(col) for col in Pro_tra.columns]\n",
    "    return Pro_tra\n",
    "\n",
    "# Clean the column names\n",
    "Pro_tra = clean_column_names(Pro_tra)"
   ]
  },
  {
   "cell_type": "code",
   "execution_count": null,
   "id": "d4e138f4-67c2-4c20-aa77-8564d35fd1aa",
   "metadata": {},
   "outputs": [],
   "source": [
    "# Connecting to MySQL Database\n",
    "conn= msql.connect(host='',user='',password=\"\",database=\"\",auth_plugin='')\n",
    "cursor =conn.cursor()"
   ]
  },
  {
   "cell_type": "code",
   "execution_count": 93,
   "id": "5f3d049a-d0e9-4bf4-8948-f046d1fa13aa",
   "metadata": {},
   "outputs": [],
   "source": [
    "# Your existing code for inserting data into the database table\n",
    "for i, row in Pro_tra.iterrows():\n",
    "    row = [None if isinstance(val, float) and math.isnan(val) else val for val in row] # replace \"nan\" values with None\n",
    "    columns = ','.join(Pro_tra.columns)\n",
    "    placeholders = ','.join(['%s']*len(row))\n",
    "    # Construct the INSERT query with ON DUPLICATE KEY UPDATE clause\n",
    "    query = f\"INSERT INTO 18_accelerator_project_performance_tracking ({columns}) VALUES ({placeholders}) ON DUPLICATE KEY UPDATE \"\n",
    "    query += \", \".join([f\"{col}=VALUES({col})\" for col in Pro_tra.columns if col != 'Email'])\n",
    "    # Execute the query\n",
    "    cursor.execute(query, tuple(row))"
   ]
  },
  {
   "cell_type": "code",
   "execution_count": 94,
   "id": "9c4c3996-ea9a-4c56-a6af-5207ab11e3eb",
   "metadata": {},
   "outputs": [],
   "source": [
    "conn.commit()"
   ]
  }
 ],
 "metadata": {
  "kernelspec": {
   "display_name": "Python 3 (ipykernel)",
   "language": "python",
   "name": "python3"
  },
  "language_info": {
   "codemirror_mode": {
    "name": "ipython",
    "version": 3
   },
   "file_extension": ".py",
   "mimetype": "text/x-python",
   "name": "python",
   "nbconvert_exporter": "python",
   "pygments_lexer": "ipython3",
   "version": "3.11.7"
  }
 },
 "nbformat": 4,
 "nbformat_minor": 5
}
