{
 "cells": [
  {
   "cell_type": "code",
   "execution_count": 1,
   "id": "360a3521-1aa6-49e7-a0ee-bb0157996104",
   "metadata": {},
   "outputs": [],
   "source": [
    "# importing required modules\n",
    "import pandas as pd \n",
    "import mysql.connector as msql\n",
    "import math\n",
    "import os\n",
    "import re"
   ]
  },
  {
   "cell_type": "code",
   "execution_count": 2,
   "id": "5bcae917-f8cb-4d98-a4ad-0425e92a83ba",
   "metadata": {},
   "outputs": [
    {
     "name": "stdout",
     "output_type": "stream",
     "text": [
      "Data from General Information.xlsx:\n"
     ]
    }
   ],
   "source": [
    "# Importing Excel file form directory \n",
    "directory_path =(r'C:\\Users\\spjay\\OneDrive - VigyanShaala\\02 Products  Initiatives\\01 SheForSTEM\\05 Kalpana M&E\\00 DBMS 1.0\\Kalpana\\Kalpana\\05 Accelerator\\Accelerator 3.0\\data_files\\01 General Info')\n",
    "\n",
    "excel_files = [file for file in os.listdir(directory_path) if file.endswith('.xlsx')]\n",
    "\n",
    "for file in excel_files:\n",
    "    file_path = os.path.join(directory_path, file)\n",
    "    df = pd.read_excel(file_path)\n",
    "    print(f\"Data from {file}:\")"
   ]
  },
  {
   "cell_type": "code",
   "execution_count": 4,
   "id": "ae244c27-6759-4300-a98b-88c634883926",
   "metadata": {},
   "outputs": [],
   "source": [
    "# Function to clean email addresses\n",
    "def clean_email(email):\n",
    "\n",
    "    # Convert to lowercase and remove extra spaces\n",
    "    cleaned_email = email.lower().strip()\n",
    "    # Remove patterns like \".com.1\"\n",
    "    cleaned_email = re.sub(r'\\.com\\.\\d+', '.com', cleaned_email)\n",
    "    return cleaned_email\n",
    "\n",
    "# Apply the function to the 'email' column\n",
    "df['Email ID'] = df['Email ID'].apply(clean_email)"
   ]
  },
  {
   "cell_type": "code",
   "execution_count": 5,
   "id": "6009de2d-87bf-44af-9f53-a163ca1504ff",
   "metadata": {},
   "outputs": [],
   "source": [
    "# Renaming Column name in data\n",
    "df.columns =['Accelerator_Mentee_ID', 'Email', 'Name', 'Phone', 'Accelerator_Group_Name',\n",
    "       'Accelerator_Batch']"
   ]
  },
  {
   "cell_type": "markdown",
   "id": "4cf2ca2b-4953-449b-bc15-53184018d5ec",
   "metadata": {},
   "source": [
    "# Genarl Info MySQL Table"
   ]
  },
  {
   "cell_type": "code",
   "execution_count": null,
   "id": "41a6a3df-03d0-477c-95b9-a7727e40e4f6",
   "metadata": {},
   "outputs": [],
   "source": [
    "# Connecting to MySQL Database\n",
    "conn= msql.connect(host='',user='',password=\"\",database=\"\",auth_plugin='')\n"
   ]
  },
  {
   "cell_type": "code",
   "execution_count": 7,
   "id": "5d76d7c0-46dd-48e7-b777-3235950a4305",
   "metadata": {},
   "outputs": [],
   "source": [
    "cursor =conn.cursor()"
   ]
  },
  {
   "cell_type": "code",
   "execution_count": 8,
   "id": "5055efe8-9af3-4b81-913d-be84dfd3b5a3",
   "metadata": {},
   "outputs": [],
   "source": [
    "for i, row in df.iterrows():\n",
    "    row = [None if isinstance(val, float) and math.isnan(val) else val for val in row] # replace \"nan\" values with None\n",
    "    columns = ','.join(df.columns)\n",
    "    placeholders = ','.join(['%s']*len(row))\n",
    "    # Construct the INSERT query with ON DUPLICATE KEY UPDATE clause\n",
    "    query = f\"INSERT INTO she_for_stem.01_general_information ({columns}) VALUES ({placeholders}) ON DUPLICATE KEY UPDATE \"\n",
    "    query += \", \".join([f\"{col}=VALUES({col})\" for col in df.columns if col != 'Email'])\n",
    "    # Execute the query\n",
    "    cursor.execute(query, tuple(row))"
   ]
  },
  {
   "cell_type": "code",
   "execution_count": 9,
   "id": "9875e67f-8e1e-44f3-a2f7-8dd73855a971",
   "metadata": {},
   "outputs": [],
   "source": [
    "conn.commit()"
   ]
  },
  {
   "cell_type": "markdown",
   "id": "5c077089-32d7-4e41-bd6a-59b1972ad287",
   "metadata": {},
   "source": [
    "# Student Progress MySQL Table"
   ]
  },
  {
   "cell_type": "code",
   "execution_count": 10,
   "id": "c6cf5dee-ef3c-4a40-bba4-0bff85a268ee",
   "metadata": {},
   "outputs": [],
   "source": [
    "# Creating new table which for Payment which is taken from incubator graphy sheet\n",
    "Student=pd.DataFrame(df[[\"Email\"]])"
   ]
  },
  {
   "cell_type": "code",
   "execution_count": 11,
   "id": "5cc6cb82-a3b5-4484-b302-2e106f7da7b5",
   "metadata": {},
   "outputs": [],
   "source": [
    "# Add a new column 'Accelerator_Status' with all values set to 'AC3'\n",
    "Student['Accelerator_Status'] = 'AC3'"
   ]
  },
  {
   "cell_type": "code",
   "execution_count": null,
   "id": "f6168742-a23c-4422-a3a7-6a8844089e69",
   "metadata": {},
   "outputs": [],
   "source": [
    "# Connecting to MySQL Database\n",
    "conn= msql.connect(host='',user='',password=\"\",database=\"\",auth_plugin='')\n",
    "cursor =conn.cursor()"
   ]
  },
  {
   "cell_type": "code",
   "execution_count": 13,
   "id": "b31830c7-78b3-45ef-ac1a-02eeed4c9057",
   "metadata": {},
   "outputs": [],
   "source": [
    "for i, row in Student.iterrows():\n",
    "    row = [None if isinstance(val, float) and math.isnan(val) else val for val in row] # replace \"nan\" values with None\n",
    "    columns = ','.join(Student.columns)\n",
    "    placeholders = ','.join(['%s']*len(row))\n",
    "    # Construct the INSERT query with ON DUPLICATE KEY UPDATE clause\n",
    "    query = f\"INSERT INTO she_for_stem.04_student_progress ({columns}) VALUES ({placeholders}) ON DUPLICATE KEY UPDATE \"\n",
    "    query += \", \".join([f\"{col}=VALUES({col})\" for col in Student.columns if col != 'Email'])\n",
    "    # Execute the query\n",
    "    cursor.execute(query, tuple(row))"
   ]
  },
  {
   "cell_type": "code",
   "execution_count": 14,
   "id": "4706f12c-3cf8-4ed5-884b-263cfc2bb53f",
   "metadata": {},
   "outputs": [],
   "source": [
    "conn.commit()"
   ]
  }
 ],
 "metadata": {
  "kernelspec": {
   "display_name": "Python 3 (ipykernel)",
   "language": "python",
   "name": "python3"
  },
  "language_info": {
   "codemirror_mode": {
    "name": "ipython",
    "version": 3
   },
   "file_extension": ".py",
   "mimetype": "text/x-python",
   "name": "python",
   "nbconvert_exporter": "python",
   "pygments_lexer": "ipython3",
   "version": "3.11.7"
  }
 },
 "nbformat": 4,
 "nbformat_minor": 5
}
